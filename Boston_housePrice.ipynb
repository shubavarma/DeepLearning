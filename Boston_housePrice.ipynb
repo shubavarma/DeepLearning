{
  "nbformat": 4,
  "nbformat_minor": 0,
  "metadata": {
    "colab": {
      "provenance": [],
      "authorship_tag": "ABX9TyNr5D9fu6m2jUT/0AIjHoc+",
      "include_colab_link": true
    },
    "kernelspec": {
      "name": "python3",
      "display_name": "Python 3"
    },
    "language_info": {
      "name": "python"
    }
  },
  "cells": [
    {
      "cell_type": "markdown",
      "metadata": {
        "id": "view-in-github",
        "colab_type": "text"
      },
      "source": [
        "<a href=\"https://colab.research.google.com/github/shubavarma/DeepLearning/blob/main/Boston_housePrice.ipynb\" target=\"_parent\"><img src=\"https://colab.research.google.com/assets/colab-badge.svg\" alt=\"Open In Colab\"/></a>"
      ]
    },
    {
      "cell_type": "code",
      "execution_count": null,
      "metadata": {
        "id": "8S5E8vU9rpV6"
      },
      "outputs": [],
      "source": [
        "import tensorflow\n",
        "import tensorflow.keras\n",
        "import pandas as pd\n",
        "import matplotlib.pyplot as plt\n",
        "import numpy as np\n",
        "from keras.models import Sequential\n",
        "from keras.layers import Dense\n",
        "from sklearn.model_selection import train_test_split\n",
        "from sklearn.preprocessing import StandardScaler\n",
        "from sklearn.metrics import r2_score\n",
        "from mlxtend.plotting import plot_decision_regions"
      ]
    },
    {
      "cell_type": "code",
      "source": [
        "from tensorflow.keras.datasets import boston_housing"
      ],
      "metadata": {
        "id": "IocsDAvHr2Lh"
      },
      "execution_count": null,
      "outputs": []
    },
    {
      "cell_type": "code",
      "source": [
        "(x_train,y_train),(x_test,y_test) = boston_housing.load_data()"
      ],
      "metadata": {
        "colab": {
          "base_uri": "https://localhost:8080/"
        },
        "id": "GakoqgOfsIUe",
        "outputId": "05311c54-309f-41d2-94c1-13c35a004f7c"
      },
      "execution_count": null,
      "outputs": [
        {
          "output_type": "stream",
          "name": "stdout",
          "text": [
            "Downloading data from https://storage.googleapis.com/tensorflow/tf-keras-datasets/boston_housing.npz\n",
            "57026/57026 [==============================] - 0s 0us/step\n"
          ]
        }
      ]
    },
    {
      "cell_type": "code",
      "source": [
        "x_train.shape"
      ],
      "metadata": {
        "colab": {
          "base_uri": "https://localhost:8080/"
        },
        "id": "dAjNCoijsNmL",
        "outputId": "b26add34-2248-4869-eec4-4841df26bcc1"
      },
      "execution_count": null,
      "outputs": [
        {
          "output_type": "execute_result",
          "data": {
            "text/plain": [
              "(404, 13)"
            ]
          },
          "metadata": {},
          "execution_count": 4
        }
      ]
    },
    {
      "cell_type": "code",
      "source": [
        "y_train.shape"
      ],
      "metadata": {
        "colab": {
          "base_uri": "https://localhost:8080/"
        },
        "id": "W_XKqZRcsPnw",
        "outputId": "dfedbde0-824d-4086-c7f5-831dcfd485e7"
      },
      "execution_count": null,
      "outputs": [
        {
          "output_type": "execute_result",
          "data": {
            "text/plain": [
              "(404,)"
            ]
          },
          "metadata": {},
          "execution_count": 5
        }
      ]
    },
    {
      "cell_type": "code",
      "source": [
        "x_train[2][2]"
      ],
      "metadata": {
        "colab": {
          "base_uri": "https://localhost:8080/"
        },
        "id": "TMgZLthBsSGs",
        "outputId": "a60c5cba-1a5f-4ea0-d908-2d2604eb58ab"
      },
      "execution_count": null,
      "outputs": [
        {
          "output_type": "execute_result",
          "data": {
            "text/plain": [
              "18.1"
            ]
          },
          "metadata": {},
          "execution_count": 8
        }
      ]
    },
    {
      "cell_type": "code",
      "source": [
        "std=StandardScaler()\n",
        "x_train=std.fit_transform(x_train)\n",
        "x_test=std.transform(x_test)"
      ],
      "metadata": {
        "id": "NWRPRyf1sY5Y"
      },
      "execution_count": null,
      "outputs": []
    },
    {
      "cell_type": "code",
      "source": [
        "x_train[2][2]"
      ],
      "metadata": {
        "colab": {
          "base_uri": "https://localhost:8080/"
        },
        "id": "4LfejKQQvWcC",
        "outputId": "5db9c0a5-aec4-4d93-8f75-9195a89d2602"
      },
      "execution_count": null,
      "outputs": [
        {
          "output_type": "execute_result",
          "data": {
            "text/plain": [
              "1.0283257954396188"
            ]
          },
          "metadata": {},
          "execution_count": 23
        }
      ]
    },
    {
      "cell_type": "code",
      "source": [
        "model=Sequential()\n",
        "model.add(Dense(4,activation=\"sigmoid\",input_dim=13))\n",
        "model.add(Dense(3,activation=\"sigmoid\"))\n",
        "model.add(Dense(1,activation=\"linear\"))"
      ],
      "metadata": {
        "id": "BZUwYFA8sxkA"
      },
      "execution_count": null,
      "outputs": []
    },
    {
      "cell_type": "code",
      "source": [
        "model.summary()"
      ],
      "metadata": {
        "colab": {
          "base_uri": "https://localhost:8080/"
        },
        "id": "koJzs1yJtXTj",
        "outputId": "2f1c6cd1-31b0-427e-a60d-3af6ef2aa98e"
      },
      "execution_count": null,
      "outputs": [
        {
          "output_type": "stream",
          "name": "stdout",
          "text": [
            "Model: \"sequential_6\"\n",
            "_________________________________________________________________\n",
            " Layer (type)                Output Shape              Param #   \n",
            "=================================================================\n",
            " dense_16 (Dense)            (None, 4)                 56        \n",
            "                                                                 \n",
            " dense_17 (Dense)            (None, 3)                 15        \n",
            "                                                                 \n",
            " dense_18 (Dense)            (None, 1)                 4         \n",
            "                                                                 \n",
            "=================================================================\n",
            "Total params: 75\n",
            "Trainable params: 75\n",
            "Non-trainable params: 0\n",
            "_________________________________________________________________\n"
          ]
        }
      ]
    },
    {
      "cell_type": "code",
      "source": [
        "from keras.utils.vis_utils import plot_model\n",
        "plot_model(model)"
      ],
      "metadata": {
        "colab": {
          "base_uri": "https://localhost:8080/",
          "height": 369
        },
        "id": "CZdSvlNktbNL",
        "outputId": "2bbcdb16-fb83-4310-d07c-3208475c68f6"
      },
      "execution_count": null,
      "outputs": [
        {
          "output_type": "execute_result",
          "data": {
            "image/png": "[encoded data removed]",
            "text/plain": [
              "<IPython.core.display.Image object>"
            ]
          },
          "metadata": {},
          "execution_count": 59
        }
      ]
    },
    {
      "cell_type": "code",
      "source": [
        "model.layers[0].get_weights()"
      ],
      "metadata": {
        "colab": {
          "base_uri": "https://localhost:8080/"
        },
        "id": "ZVa_C61otiXA",
        "outputId": "2dd79f2c-3af7-40b6-caed-b201666ba513"
      },
      "execution_count": null,
      "outputs": [
        {
          "output_type": "execute_result",
          "data": {
            "text/plain": [
              "[array([[ 0.01692319,  0.3838331 ,  0.1403616 , -0.05415374],\n",
              "        [-0.4486341 ,  0.18204945, -0.48645994,  0.29374003],\n",
              "        [ 0.24783045,  0.12357873,  0.47004676, -0.10473219],\n",
              "        [ 0.26425844, -0.20650262, -0.21280965,  0.5874233 ],\n",
              "        [-0.37681168,  0.07842803,  0.224006  , -0.562256  ],\n",
              "        [-0.05532897,  0.08610189,  0.5496111 , -0.4873166 ],\n",
              "        [-0.43896788,  0.21035469, -0.34884876,  0.0488109 ],\n",
              "        [-0.52499205, -0.30713525,  0.270752  ,  0.29431003],\n",
              "        [ 0.5816586 , -0.40377474, -0.13117811,  0.05909461],\n",
              "        [-0.46596426,  0.5326576 ,  0.04994017,  0.14476705],\n",
              "        [ 0.34514552, -0.13135898,  0.5286883 ,  0.4630655 ],\n",
              "        [-0.5842385 , -0.4527138 ,  0.11239839,  0.46713233],\n",
              "        [ 0.44363713,  0.02962565,  0.44093955, -0.07096791]],\n",
              "       dtype=float32),\n",
              " array([0., 0., 0., 0.], dtype=float32)]"
            ]
          },
          "metadata": {},
          "execution_count": 60
        }
      ]
    },
    {
      "cell_type": "code",
      "source": [
        "model.compile(optimizer=\"sgd\",loss=\"huber\",metrics=[\"mae\"])"
      ],
      "metadata": {
        "id": "vZuKjYCmtmNn"
      },
      "execution_count": null,
      "outputs": []
    },
    {
      "cell_type": "code",
      "source": [
        "history = model.fit(x_train,y_train,batch_size=1,epochs=50,validation_split=0.2)"
      ],
      "metadata": {
        "colab": {
          "base_uri": "https://localhost:8080/"
        },
        "id": "4PjbuOCruyKg",
        "outputId": "995ba742-3d79-459a-efd9-9fc6d1584dea"
      },
      "execution_count": null,
      "outputs": [
        {
          "output_type": "stream",
          "name": "stdout",
          "text": [
            "Epoch 1/50\n",
            "323/323 [==============================] - 1s 2ms/step - loss: 3.9144 - mae: 4.3713 - val_loss: 4.3769 - val_mae: 4.8301\n",
            "Epoch 2/50\n",
            "323/323 [==============================] - 1s 2ms/step - loss: 3.7250 - mae: 4.1725 - val_loss: 4.2228 - val_mae: 4.6641\n",
            "Epoch 3/50\n",
            "323/323 [==============================] - 1s 2ms/step - loss: 3.5585 - mae: 4.0057 - val_loss: 3.9228 - val_mae: 4.3652\n",
            "Epoch 4/50\n",
            "323/323 [==============================] - 1s 2ms/step - loss: 3.4470 - mae: 3.8947 - val_loss: 3.8451 - val_mae: 4.2955\n",
            "Epoch 5/50\n",
            "323/323 [==============================] - 1s 2ms/step - loss: 3.2970 - mae: 3.7531 - val_loss: 3.6938 - val_mae: 4.1566\n",
            "Epoch 6/50\n",
            "323/323 [==============================] - 1s 2ms/step - loss: 3.2214 - mae: 3.6638 - val_loss: 3.4903 - val_mae: 3.9580\n",
            "Epoch 7/50\n",
            "323/323 [==============================] - 1s 2ms/step - loss: 3.1356 - mae: 3.5830 - val_loss: 3.4180 - val_mae: 3.8785\n",
            "Epoch 8/50\n",
            "323/323 [==============================] - 1s 2ms/step - loss: 3.0290 - mae: 3.4772 - val_loss: 3.2936 - val_mae: 3.7656\n",
            "Epoch 9/50\n",
            "323/323 [==============================] - 1s 2ms/step - loss: 2.9313 - mae: 3.3816 - val_loss: 3.2092 - val_mae: 3.6617\n",
            "Epoch 10/50\n",
            "323/323 [==============================] - 1s 2ms/step - loss: 2.9056 - mae: 3.3569 - val_loss: 3.0616 - val_mae: 3.5282\n",
            "Epoch 11/50\n",
            "323/323 [==============================] - 1s 2ms/step - loss: 2.8337 - mae: 3.2764 - val_loss: 3.0307 - val_mae: 3.4913\n",
            "Epoch 12/50\n",
            "323/323 [==============================] - 1s 2ms/step - loss: 2.7198 - mae: 3.1541 - val_loss: 3.0457 - val_mae: 3.5122\n",
            "Epoch 13/50\n",
            "323/323 [==============================] - 1s 3ms/step - loss: 2.6891 - mae: 3.1335 - val_loss: 2.9032 - val_mae: 3.3699\n",
            "Epoch 14/50\n",
            "323/323 [==============================] - 1s 3ms/step - loss: 2.6050 - mae: 3.0527 - val_loss: 2.8498 - val_mae: 3.3057\n",
            "Epoch 15/50\n",
            "323/323 [==============================] - 1s 3ms/step - loss: 2.5763 - mae: 3.0216 - val_loss: 2.6001 - val_mae: 3.0704\n",
            "Epoch 16/50\n",
            "323/323 [==============================] - 1s 2ms/step - loss: 2.5091 - mae: 2.9587 - val_loss: 2.7660 - val_mae: 3.2231\n",
            "Epoch 17/50\n",
            "323/323 [==============================] - 1s 2ms/step - loss: 2.4617 - mae: 2.9116 - val_loss: 2.6116 - val_mae: 3.0688\n",
            "Epoch 18/50\n",
            "323/323 [==============================] - 1s 2ms/step - loss: 2.4404 - mae: 2.8920 - val_loss: 2.5478 - val_mae: 2.9988\n",
            "Epoch 19/50\n",
            "323/323 [==============================] - 1s 2ms/step - loss: 2.3684 - mae: 2.8118 - val_loss: 2.4976 - val_mae: 2.9571\n",
            "Epoch 20/50\n",
            "323/323 [==============================] - 1s 2ms/step - loss: 2.3781 - mae: 2.8198 - val_loss: 2.5800 - val_mae: 3.0246\n",
            "Epoch 21/50\n",
            "323/323 [==============================] - 1s 2ms/step - loss: 2.3430 - mae: 2.7840 - val_loss: 2.5029 - val_mae: 2.9577\n",
            "Epoch 22/50\n",
            "323/323 [==============================] - 1s 2ms/step - loss: 2.3463 - mae: 2.7902 - val_loss: 2.4453 - val_mae: 2.8898\n",
            "Epoch 23/50\n",
            "323/323 [==============================] - 1s 2ms/step - loss: 2.2865 - mae: 2.7360 - val_loss: 2.3501 - val_mae: 2.7950\n",
            "Epoch 24/50\n",
            "323/323 [==============================] - 1s 2ms/step - loss: 2.2497 - mae: 2.6855 - val_loss: 2.4505 - val_mae: 2.9196\n",
            "Epoch 25/50\n",
            "323/323 [==============================] - 1s 2ms/step - loss: 2.2122 - mae: 2.6560 - val_loss: 2.3961 - val_mae: 2.8436\n",
            "Epoch 26/50\n",
            "323/323 [==============================] - 1s 2ms/step - loss: 2.1834 - mae: 2.6259 - val_loss: 2.5063 - val_mae: 2.9483\n",
            "Epoch 27/50\n",
            "323/323 [==============================] - 1s 2ms/step - loss: 2.1808 - mae: 2.6221 - val_loss: 2.2902 - val_mae: 2.7183\n",
            "Epoch 28/50\n",
            "323/323 [==============================] - 1s 2ms/step - loss: 2.1879 - mae: 2.6355 - val_loss: 2.3402 - val_mae: 2.7977\n",
            "Epoch 29/50\n",
            "323/323 [==============================] - 1s 3ms/step - loss: 2.1646 - mae: 2.6161 - val_loss: 2.4072 - val_mae: 2.8576\n",
            "Epoch 30/50\n",
            "323/323 [==============================] - 1s 4ms/step - loss: 2.1607 - mae: 2.6113 - val_loss: 2.5155 - val_mae: 2.9661\n",
            "Epoch 31/50\n",
            "323/323 [==============================] - 1s 3ms/step - loss: 2.0803 - mae: 2.5136 - val_loss: 2.4854 - val_mae: 2.9242\n",
            "Epoch 32/50\n",
            "323/323 [==============================] - 1s 2ms/step - loss: 2.1058 - mae: 2.5554 - val_loss: 2.3200 - val_mae: 2.7597\n",
            "Epoch 33/50\n",
            "323/323 [==============================] - 1s 2ms/step - loss: 2.0305 - mae: 2.4640 - val_loss: 2.2781 - val_mae: 2.7236\n",
            "Epoch 34/50\n",
            "323/323 [==============================] - 1s 2ms/step - loss: 2.0696 - mae: 2.5039 - val_loss: 2.2584 - val_mae: 2.7060\n",
            "Epoch 35/50\n",
            "323/323 [==============================] - 1s 2ms/step - loss: 2.0306 - mae: 2.4702 - val_loss: 2.3119 - val_mae: 2.7484\n",
            "Epoch 36/50\n",
            "323/323 [==============================] - 1s 2ms/step - loss: 2.0371 - mae: 2.4722 - val_loss: 2.4522 - val_mae: 2.9123\n",
            "Epoch 37/50\n",
            "323/323 [==============================] - 1s 2ms/step - loss: 2.0294 - mae: 2.4592 - val_loss: 2.2314 - val_mae: 2.6796\n",
            "Epoch 38/50\n",
            "323/323 [==============================] - 1s 2ms/step - loss: 2.0188 - mae: 2.4587 - val_loss: 2.5239 - val_mae: 2.9795\n",
            "Epoch 39/50\n",
            "323/323 [==============================] - 1s 2ms/step - loss: 1.9942 - mae: 2.4317 - val_loss: 2.2661 - val_mae: 2.7214\n",
            "Epoch 40/50\n",
            "323/323 [==============================] - 1s 2ms/step - loss: 2.0105 - mae: 2.4483 - val_loss: 2.1161 - val_mae: 2.5407\n",
            "Epoch 41/50\n",
            "323/323 [==============================] - 1s 2ms/step - loss: 1.9755 - mae: 2.4139 - val_loss: 2.2656 - val_mae: 2.7049\n",
            "Epoch 42/50\n",
            "323/323 [==============================] - 1s 2ms/step - loss: 1.9698 - mae: 2.4155 - val_loss: 2.2291 - val_mae: 2.6632\n",
            "Epoch 43/50\n",
            "323/323 [==============================] - 1s 2ms/step - loss: 1.9677 - mae: 2.4074 - val_loss: 2.1809 - val_mae: 2.6271\n",
            "Epoch 44/50\n",
            "323/323 [==============================] - 1s 2ms/step - loss: 1.9826 - mae: 2.4189 - val_loss: 2.1422 - val_mae: 2.5849\n",
            "Epoch 45/50\n",
            "323/323 [==============================] - 1s 3ms/step - loss: 1.9385 - mae: 2.3810 - val_loss: 2.2654 - val_mae: 2.7298\n",
            "Epoch 46/50\n",
            "323/323 [==============================] - 1s 3ms/step - loss: 1.9737 - mae: 2.4064 - val_loss: 2.1428 - val_mae: 2.5681\n",
            "Epoch 47/50\n",
            "323/323 [==============================] - 1s 4ms/step - loss: 1.9703 - mae: 2.4062 - val_loss: 2.2063 - val_mae: 2.6705\n",
            "Epoch 48/50\n",
            "323/323 [==============================] - 1s 2ms/step - loss: 1.9908 - mae: 2.4387 - val_loss: 2.0298 - val_mae: 2.4446\n",
            "Epoch 49/50\n",
            "323/323 [==============================] - 1s 2ms/step - loss: 1.9303 - mae: 2.3645 - val_loss: 2.0807 - val_mae: 2.5340\n",
            "Epoch 50/50\n",
            "323/323 [==============================] - 1s 2ms/step - loss: 1.9255 - mae: 2.3625 - val_loss: 2.0921 - val_mae: 2.5269\n"
          ]
        }
      ]
    },
    {
      "cell_type": "code",
      "source": [
        "predict = model.predict(x_test)"
      ],
      "metadata": {
        "colab": {
          "base_uri": "https://localhost:8080/"
        },
        "id": "vC-UT5OAu76J",
        "outputId": "d1108a4d-cdb8-42d4-c452-18f8f43db80d"
      },
      "execution_count": null,
      "outputs": [
        {
          "output_type": "stream",
          "name": "stdout",
          "text": [
            "4/4 [==============================] - 0s 5ms/step\n"
          ]
        }
      ]
    },
    {
      "cell_type": "code",
      "source": [
        "r2_score(y_test,predict)"
      ],
      "metadata": {
        "colab": {
          "base_uri": "https://localhost:8080/"
        },
        "id": "7Diz36XoyPbb",
        "outputId": "948cb5ca-5249-4767-dac7-934ef8f4644a"
      },
      "execution_count": null,
      "outputs": [
        {
          "output_type": "execute_result",
          "data": {
            "text/plain": [
              "0.804541784677817"
            ]
          },
          "metadata": {},
          "execution_count": 65
        }
      ]
    },
    {
      "cell_type": "code",
      "source": [
        "plt.plot(range(1,51),history.history[\"loss\"],label=\"train_loss\")\n",
        "plt.plot(range(1,51),history.history[\"val_loss\"],label=\"val_loss\")\n",
        "plt.legend()"
      ],
      "metadata": {
        "colab": {
          "base_uri": "https://localhost:8080/",
          "height": 447
        },
        "id": "U-oDWrW3yTN4",
        "outputId": "1dc372d2-00c0-45a9-ccf7-ee2f20193ab7"
      },
      "execution_count": null,
      "outputs": [
        {
          "output_type": "execute_result",
          "data": {
            "text/plain": [
              "<matplotlib.legend.Legend at 0x7e6f2c8c8910>"
            ]
          },
          "metadata": {},
          "execution_count": 66
        },
        {
          "output_type": "display_data",
          "data": {
            "text/plain": [
              "<Figure size 640x480 with 1 Axes>"
            ],
            "image/png": "[encoded data removed]"
          },
          "metadata": {}
        }
      ]
    },
    {
      "cell_type": "code",
      "source": [],
      "metadata": {
        "id": "IgC04-5YycAr"
      },
      "execution_count": null,
      "outputs": []
    }
  ]
}