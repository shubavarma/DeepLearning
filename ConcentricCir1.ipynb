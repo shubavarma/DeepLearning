{
  "nbformat": 4,
  "nbformat_minor": 0,
  "metadata": {
    "colab": {
      "provenance": [],
      "mount_file_id": "1UBaqXWGRfWmXsGV_2_M-Vpm4VwCKUw2n",
      "authorship_tag": "ABX9TyNf9LjaS6Wmv5SIkuM0n+Ed",
      "include_colab_link": true
    },
    "kernelspec": {
      "name": "python3",
      "display_name": "Python 3"
    },
    "language_info": {
      "name": "python"
    }
  },
  "cells": [
    {
      "cell_type": "markdown",
      "metadata": {
        "id": "view-in-github",
        "colab_type": "text"
      },
      "source": [
        "<a href=\"https://colab.research.google.com/github/shubavarma/DeepLearning/blob/main/ConcentricCir1.ipynb\" target=\"_parent\"><img src=\"https://colab.research.google.com/assets/colab-badge.svg\" alt=\"Open In Colab\"/></a>"
      ]
    },
    {
      "cell_type": "code",
      "execution_count": 101,
      "metadata": {
        "id": "snhrfaFlbRtV"
      },
      "outputs": [],
      "source": [
        "import tensorflow\n",
        "import tensorflow.keras\n",
        "import numpy as np\n",
        "import pandas as pd\n",
        "import matplotlib.pyplot as plt\n",
        "from keras.layers import Dense\n",
        "from keras.models import Sequential\n",
        "from sklearn.model_selection import train_test_split\n",
        "from sklearn.metrics import accuracy_score\n",
        "from sklearn.preprocessing import StandardScaler\n",
        "from mlxtend.plotting import plot_decision_regions\n",
        "from keras.utils.vis_utils import plot_model"
      ]
    },
    {
      "cell_type": "code",
      "source": [
        "data = pd.read_csv(\"/content/drive/MyDrive/Colab Notebooks/DLdatasets/2.concerticcir1.csv\",header=None)"
      ],
      "metadata": {
        "id": "46AouMHtbWQj"
      },
      "execution_count": 102,
      "outputs": []
    },
    {
      "cell_type": "code",
      "source": [
        "data.head()"
      ],
      "metadata": {
        "colab": {
          "base_uri": "https://localhost:8080/",
          "height": 206
        },
        "id": "aJNSVZFyc38i",
        "outputId": "ba2b2a75-a49f-4b14-c525-c4601f7bf4f5"
      },
      "execution_count": 103,
      "outputs": [
        {
          "output_type": "execute_result",
          "data": {
            "text/plain": [
              "          0         1    2\n",
              "0 -0.382891 -0.090840  1.0\n",
              "1 -0.020962 -0.477874  1.0\n",
              "2 -0.396116 -1.289427  0.0\n",
              "3 -0.618130 -0.063837  1.0\n",
              "4  0.703478 -0.187038  1.0"
            ],
            "text/html": [
              "\n",
              "\n",
              "  <div id=\"df-03bc14c3-3ad4-436f-a2f5-aa8afbc2e7a9\">\n",
              "    <div class=\"colab-df-container\">\n",
              "      <div>\n",
              "<style scoped>\n",
              "    .dataframe tbody tr th:only-of-type {\n",
              "        vertical-align: middle;\n",
              "    }\n",
              "\n",
              "    .dataframe tbody tr th {\n",
              "        vertical-align: top;\n",
              "    }\n",
              "\n",
              "    .dataframe thead th {\n",
              "        text-align: right;\n",
              "    }\n",
              "</style>\n",
              "<table border=\"1\" class=\"dataframe\">\n",
              "  <thead>\n",
              "    <tr style=\"text-align: right;\">\n",
              "      <th></th>\n",
              "      <th>0</th>\n",
              "      <th>1</th>\n",
              "      <th>2</th>\n",
              "    </tr>\n",
              "  </thead>\n",
              "  <tbody>\n",
              "    <tr>\n",
              "      <th>0</th>\n",
              "      <td>-0.382891</td>\n",
              "      <td>-0.090840</td>\n",
              "      <td>1.0</td>\n",
              "    </tr>\n",
              "    <tr>\n",
              "      <th>1</th>\n",
              "      <td>-0.020962</td>\n",
              "      <td>-0.477874</td>\n",
              "      <td>1.0</td>\n",
              "    </tr>\n",
              "    <tr>\n",
              "      <th>2</th>\n",
              "      <td>-0.396116</td>\n",
              "      <td>-1.289427</td>\n",
              "      <td>0.0</td>\n",
              "    </tr>\n",
              "    <tr>\n",
              "      <th>3</th>\n",
              "      <td>-0.618130</td>\n",
              "      <td>-0.063837</td>\n",
              "      <td>1.0</td>\n",
              "    </tr>\n",
              "    <tr>\n",
              "      <th>4</th>\n",
              "      <td>0.703478</td>\n",
              "      <td>-0.187038</td>\n",
              "      <td>1.0</td>\n",
              "    </tr>\n",
              "  </tbody>\n",
              "</table>\n",
              "</div>\n",
              "      <button class=\"colab-df-convert\" onclick=\"convertToInteractive('df-03bc14c3-3ad4-436f-a2f5-aa8afbc2e7a9')\"\n",
              "              title=\"Convert this dataframe to an interactive table.\"\n",
              "              style=\"display:none;\">\n",
              "\n",
              "  <svg xmlns=\"http://www.w3.org/2000/svg\" height=\"24px\"viewBox=\"0 0 24 24\"\n",
              "       width=\"24px\">\n",
              "    <path d=\"M0 0h24v24H0V0z\" fill=\"none\"/>\n",
              "    <path d=\"M18.56 5.44l.94 2.06.94-2.06 2.06-.94-2.06-.94-.94-2.06-.94 2.06-2.06.94zm-11 1L8.5 8.5l.94-2.06 2.06-.94-2.06-.94L8.5 2.5l-.94 2.06-2.06.94zm10 10l.94 2.06.94-2.06 2.06-.94-2.06-.94-.94-2.06-.94 2.06-2.06.94z\"/><path d=\"M17.41 7.96l-1.37-1.37c-.4-.4-.92-.59-1.43-.59-.52 0-1.04.2-1.43.59L10.3 9.45l-7.72 7.72c-.78.78-.78 2.05 0 2.83L4 21.41c.39.39.9.59 1.41.59.51 0 1.02-.2 1.41-.59l7.78-7.78 2.81-2.81c.8-.78.8-2.07 0-2.86zM5.41 20L4 18.59l7.72-7.72 1.47 1.35L5.41 20z\"/>\n",
              "  </svg>\n",
              "      </button>\n",
              "\n",
              "\n",
              "\n",
              "    <div id=\"df-028bff2d-3b1c-42ab-8bd0-34da23fcef36\">\n",
              "      <button class=\"colab-df-quickchart\" onclick=\"quickchart('df-028bff2d-3b1c-42ab-8bd0-34da23fcef36')\"\n",
              "              title=\"Suggest charts.\"\n",
              "              style=\"display:none;\">\n",
              "\n",
              "<svg xmlns=\"http://www.w3.org/2000/svg\" height=\"24px\"viewBox=\"0 0 24 24\"\n",
              "     width=\"24px\">\n",
              "    <g>\n",
              "        <path d=\"M19 3H5c-1.1 0-2 .9-2 2v14c0 1.1.9 2 2 2h14c1.1 0 2-.9 2-2V5c0-1.1-.9-2-2-2zM9 17H7v-7h2v7zm4 0h-2V7h2v10zm4 0h-2v-4h2v4z\"/>\n",
              "    </g>\n",
              "</svg>\n",
              "      </button>\n",
              "    </div>\n",
              "\n",
              "<style>\n",
              "  .colab-df-quickchart {\n",
              "    background-color: #E8F0FE;\n",
              "    border: none;\n",
              "    border-radius: 50%;\n",
              "    cursor: pointer;\n",
              "    display: none;\n",
              "    fill: #1967D2;\n",
              "    height: 32px;\n",
              "    padding: 0 0 0 0;\n",
              "    width: 32px;\n",
              "  }\n",
              "\n",
              "  .colab-df-quickchart:hover {\n",
              "    background-color: #E2EBFA;\n",
              "    box-shadow: 0px 1px 2px rgba(60, 64, 67, 0.3), 0px 1px 3px 1px rgba(60, 64, 67, 0.15);\n",
              "    fill: #174EA6;\n",
              "  }\n",
              "\n",
              "  [theme=dark] .colab-df-quickchart {\n",
              "    background-color: #3B4455;\n",
              "    fill: #D2E3FC;\n",
              "  }\n",
              "\n",
              "  [theme=dark] .colab-df-quickchart:hover {\n",
              "    background-color: #434B5C;\n",
              "    box-shadow: 0px 1px 3px 1px rgba(0, 0, 0, 0.15);\n",
              "    filter: drop-shadow(0px 1px 2px rgba(0, 0, 0, 0.3));\n",
              "    fill: #FFFFFF;\n",
              "  }\n",
              "</style>\n",
              "\n",
              "    <script>\n",
              "      async function quickchart(key) {\n",
              "        const containerElement = document.querySelector('#' + key);\n",
              "        const charts = await google.colab.kernel.invokeFunction(\n",
              "            'suggestCharts', [key], {});\n",
              "      }\n",
              "    </script>\n",
              "\n",
              "      <script>\n",
              "\n",
              "function displayQuickchartButton(domScope) {\n",
              "  let quickchartButtonEl =\n",
              "    domScope.querySelector('#df-028bff2d-3b1c-42ab-8bd0-34da23fcef36 button.colab-df-quickchart');\n",
              "  quickchartButtonEl.style.display =\n",
              "    google.colab.kernel.accessAllowed ? 'block' : 'none';\n",
              "}\n",
              "\n",
              "        displayQuickchartButton(document);\n",
              "      </script>\n",
              "      <style>\n",
              "    .colab-df-container {\n",
              "      display:flex;\n",
              "      flex-wrap:wrap;\n",
              "      gap: 12px;\n",
              "    }\n",
              "\n",
              "    .colab-df-convert {\n",
              "      background-color: #E8F0FE;\n",
              "      border: none;\n",
              "      border-radius: 50%;\n",
              "      cursor: pointer;\n",
              "      display: none;\n",
              "      fill: #1967D2;\n",
              "      height: 32px;\n",
              "      padding: 0 0 0 0;\n",
              "      width: 32px;\n",
              "    }\n",
              "\n",
              "    .colab-df-convert:hover {\n",
              "      background-color: #E2EBFA;\n",
              "      box-shadow: 0px 1px 2px rgba(60, 64, 67, 0.3), 0px 1px 3px 1px rgba(60, 64, 67, 0.15);\n",
              "      fill: #174EA6;\n",
              "    }\n",
              "\n",
              "    [theme=dark] .colab-df-convert {\n",
              "      background-color: #3B4455;\n",
              "      fill: #D2E3FC;\n",
              "    }\n",
              "\n",
              "    [theme=dark] .colab-df-convert:hover {\n",
              "      background-color: #434B5C;\n",
              "      box-shadow: 0px 1px 3px 1px rgba(0, 0, 0, 0.15);\n",
              "      filter: drop-shadow(0px 1px 2px rgba(0, 0, 0, 0.3));\n",
              "      fill: #FFFFFF;\n",
              "    }\n",
              "  </style>\n",
              "\n",
              "      <script>\n",
              "        const buttonEl =\n",
              "          document.querySelector('#df-03bc14c3-3ad4-436f-a2f5-aa8afbc2e7a9 button.colab-df-convert');\n",
              "        buttonEl.style.display =\n",
              "          google.colab.kernel.accessAllowed ? 'block' : 'none';\n",
              "\n",
              "        async function convertToInteractive(key) {\n",
              "          const element = document.querySelector('#df-03bc14c3-3ad4-436f-a2f5-aa8afbc2e7a9');\n",
              "          const dataTable =\n",
              "            await google.colab.kernel.invokeFunction('convertToInteractive',\n",
              "                                                     [key], {});\n",
              "          if (!dataTable) return;\n",
              "\n",
              "          const docLinkHtml = 'Like what you see? Visit the ' +\n",
              "            '<a target=\"_blank\" href=https://colab.research.google.com/notebooks/data_table.ipynb>data table notebook</a>'\n",
              "            + ' to learn more about interactive tables.';\n",
              "          element.innerHTML = '';\n",
              "          dataTable['output_type'] = 'display_data';\n",
              "          await google.colab.output.renderOutput(dataTable, element);\n",
              "          const docLink = document.createElement('div');\n",
              "          docLink.innerHTML = docLinkHtml;\n",
              "          element.appendChild(docLink);\n",
              "        }\n",
              "      </script>\n",
              "    </div>\n",
              "  </div>\n"
            ]
          },
          "metadata": {},
          "execution_count": 103
        }
      ]
    },
    {
      "cell_type": "code",
      "source": [
        "data.info()"
      ],
      "metadata": {
        "colab": {
          "base_uri": "https://localhost:8080/"
        },
        "id": "vA_SvDENdER6",
        "outputId": "88ec78bb-2d9a-46f3-e61e-e220d2ec2e3b"
      },
      "execution_count": 104,
      "outputs": [
        {
          "output_type": "stream",
          "name": "stdout",
          "text": [
            "<class 'pandas.core.frame.DataFrame'>\n",
            "RangeIndex: 100 entries, 0 to 99\n",
            "Data columns (total 3 columns):\n",
            " #   Column  Non-Null Count  Dtype  \n",
            "---  ------  --------------  -----  \n",
            " 0   0       100 non-null    float64\n",
            " 1   1       100 non-null    float64\n",
            " 2   2       100 non-null    float64\n",
            "dtypes: float64(3)\n",
            "memory usage: 2.5 KB\n"
          ]
        }
      ]
    },
    {
      "cell_type": "markdown",
      "source": [
        "No null values"
      ],
      "metadata": {
        "id": "nbvAmqkmdTIK"
      }
    },
    {
      "cell_type": "code",
      "source": [
        "data[2].value_counts()"
      ],
      "metadata": {
        "colab": {
          "base_uri": "https://localhost:8080/"
        },
        "id": "8iDCVKUtdRqz",
        "outputId": "b15d27df-3dbe-4def-fa90-6de1577ede43"
      },
      "execution_count": 105,
      "outputs": [
        {
          "output_type": "execute_result",
          "data": {
            "text/plain": [
              "1.0    50\n",
              "0.0    50\n",
              "Name: 2, dtype: int64"
            ]
          },
          "metadata": {},
          "execution_count": 105
        }
      ]
    },
    {
      "cell_type": "markdown",
      "source": [
        "Balanced dataset"
      ],
      "metadata": {
        "id": "vc27Hor7daTh"
      }
    },
    {
      "cell_type": "code",
      "source": [
        "data.shape"
      ],
      "metadata": {
        "colab": {
          "base_uri": "https://localhost:8080/"
        },
        "id": "xx9bW6bldZRx",
        "outputId": "ac4fabbd-9bd6-4f5c-8970-cb9cb118fb65"
      },
      "execution_count": 106,
      "outputs": [
        {
          "output_type": "execute_result",
          "data": {
            "text/plain": [
              "(100, 3)"
            ]
          },
          "metadata": {},
          "execution_count": 106
        }
      ]
    },
    {
      "cell_type": "code",
      "source": [
        "plt.boxplot(data)\n",
        "plt.show()"
      ],
      "metadata": {
        "colab": {
          "base_uri": "https://localhost:8080/",
          "height": 430
        },
        "id": "C6tN-6HQdk6U",
        "outputId": "74ba8724-df7e-4702-958e-a970574cb310"
      },
      "execution_count": 107,
      "outputs": [
        {
          "output_type": "display_data",
          "data": {
            "text/plain": [
              "<Figure size 640x480 with 1 Axes>"
            ],
            "image/png": "[encoded data removed]"
          },
          "metadata": {}
        }
      ]
    },
    {
      "cell_type": "markdown",
      "source": [
        "No Outliers"
      ],
      "metadata": {
        "id": "ptXzwKYjdyCA"
      }
    },
    {
      "cell_type": "code",
      "source": [
        "x = data[[0,1]]\n",
        "y = data[2]"
      ],
      "metadata": {
        "id": "YIaNNrGDdrF_"
      },
      "execution_count": 108,
      "outputs": []
    },
    {
      "cell_type": "code",
      "source": [
        "y = y.astype(int)"
      ],
      "metadata": {
        "id": "Y_gFG98pd3kB"
      },
      "execution_count": 109,
      "outputs": []
    },
    {
      "cell_type": "markdown",
      "source": [
        "Output needs to be int for comparision with predicted output\n",
        "\n",
        "> Indented block\n",
        "\n"
      ],
      "metadata": {
        "id": "25o-cSicd7az"
      }
    },
    {
      "cell_type": "code",
      "source": [
        "x_train,x_test,y_train,y_test=train_test_split(x,y,test_size=0.2,random_state=33)"
      ],
      "metadata": {
        "id": "2NiC5-Uqd6pc"
      },
      "execution_count": 110,
      "outputs": []
    },
    {
      "cell_type": "code",
      "source": [
        "x_train.shape,x_test.shape,len(y_train),len(y_test)"
      ],
      "metadata": {
        "colab": {
          "base_uri": "https://localhost:8080/"
        },
        "id": "niiQ97oDeIZw",
        "outputId": "75ca4bb6-9cbf-4486-b6fb-fb3b71f955e7"
      },
      "execution_count": 111,
      "outputs": [
        {
          "output_type": "execute_result",
          "data": {
            "text/plain": [
              "((80, 2), (20, 2), 80, 20)"
            ]
          },
          "metadata": {},
          "execution_count": 111
        }
      ]
    },
    {
      "cell_type": "code",
      "source": [
        "std=StandardScaler()\n",
        "x_train=std.fit_transform(x_train)\n",
        "x_test=std.transform(x_test)"
      ],
      "metadata": {
        "id": "1ny1XMrveK7T"
      },
      "execution_count": 112,
      "outputs": []
    },
    {
      "cell_type": "code",
      "source": [
        "# code to visualize the data\n",
        "data.columns = [\"one\",\"two\",\"three\"]\n",
        "import seaborn as sns\n",
        "sns.scatterplot(data=data, x=\"one\",y=\"two\",hue=\"three\")\n",
        "plt.legend()"
      ],
      "metadata": {
        "colab": {
          "base_uri": "https://localhost:8080/",
          "height": 466
        },
        "id": "wPugKYLi4-Ww",
        "outputId": "e826dd33-02dc-4d7d-8a4a-f0943acc7f59"
      },
      "execution_count": 113,
      "outputs": [
        {
          "output_type": "execute_result",
          "data": {
            "text/plain": [
              "<matplotlib.legend.Legend at 0x7b9320e2af20>"
            ]
          },
          "metadata": {},
          "execution_count": 113
        },
        {
          "output_type": "display_data",
          "data": {
            "text/plain": [
              "<Figure size 640x480 with 1 Axes>"
            ],
            "image/png": "[encoded data removed]"
          },
          "metadata": {}
        }
      ]
    },
    {
      "cell_type": "code",
      "source": [
        "model=Sequential()\n",
        "model.add(Dense(5,activation=\"tanh\",input_dim=2))\n",
        "model.add(Dense(3,activation=\"tanh\"))\n",
        "model.add(Dense(1,activation=\"sigmoid\"))"
      ],
      "metadata": {
        "id": "_eaWjePYeNvW"
      },
      "execution_count": 114,
      "outputs": []
    },
    {
      "cell_type": "code",
      "source": [
        "model.summary()"
      ],
      "metadata": {
        "colab": {
          "base_uri": "https://localhost:8080/"
        },
        "id": "dx0SgHugeQIp",
        "outputId": "8dc6201c-4617-47a3-c98f-b8da9105b233"
      },
      "execution_count": 115,
      "outputs": [
        {
          "output_type": "stream",
          "name": "stdout",
          "text": [
            "Model: \"sequential_5\"\n",
            "_________________________________________________________________\n",
            " Layer (type)                Output Shape              Param #   \n",
            "=================================================================\n",
            " dense_14 (Dense)            (None, 5)                 15        \n",
            "                                                                 \n",
            " dense_15 (Dense)            (None, 3)                 18        \n",
            "                                                                 \n",
            " dense_16 (Dense)            (None, 1)                 4         \n",
            "                                                                 \n",
            "=================================================================\n",
            "Total params: 37\n",
            "Trainable params: 37\n",
            "Non-trainable params: 0\n",
            "_________________________________________________________________\n"
          ]
        }
      ]
    },
    {
      "cell_type": "code",
      "source": [
        "plot_model(model)"
      ],
      "metadata": {
        "colab": {
          "base_uri": "https://localhost:8080/",
          "height": 369
        },
        "id": "bvE6tuTaeSk2",
        "outputId": "135f8679-1989-40de-da58-f61aeb163e8c"
      },
      "execution_count": 116,
      "outputs": [
        {
          "output_type": "execute_result",
          "data": {
            "image/png": "[encoded data removed]",
            "text/plain": [
              "<IPython.core.display.Image object>"
            ]
          },
          "metadata": {},
          "execution_count": 116
        }
      ]
    },
    {
      "cell_type": "code",
      "source": [
        "model.layers[0].get_weights()"
      ],
      "metadata": {
        "colab": {
          "base_uri": "https://localhost:8080/"
        },
        "id": "py5U4pqBeVAh",
        "outputId": "30481426-847d-40b0-a04f-a69148a37b24"
      },
      "execution_count": 117,
      "outputs": [
        {
          "output_type": "execute_result",
          "data": {
            "text/plain": [
              "[array([[ 0.8216051 , -0.78488535, -0.3142236 ,  0.05993426, -0.26751924],\n",
              "        [ 0.6780982 , -0.1292699 , -0.6282861 ,  0.42878962,  0.07792151]],\n",
              "       dtype=float32),\n",
              " array([0., 0., 0., 0., 0.], dtype=float32)]"
            ]
          },
          "metadata": {},
          "execution_count": 117
        }
      ]
    },
    {
      "cell_type": "code",
      "source": [
        "model.compile(optimizer=\"sgd\",loss=\"binary_crossentropy\",metrics=[\"accuracy\"])"
      ],
      "metadata": {
        "id": "nPeAARHaeXXs"
      },
      "execution_count": 118,
      "outputs": []
    },
    {
      "cell_type": "code",
      "source": [
        "history = model.fit(x_train,y_train,batch_size=1,epochs=100,validation_split=0.2)"
      ],
      "metadata": {
        "colab": {
          "base_uri": "https://localhost:8080/"
        },
        "id": "cnXG_EHEec_j",
        "outputId": "d51f77c4-575e-46ab-87f1-c533be179524"
      },
      "execution_count": 119,
      "outputs": [
        {
          "output_type": "stream",
          "name": "stdout",
          "text": [
            "Epoch 1/100\n",
            "64/64 [==============================] - 1s 7ms/step - loss: 0.6942 - accuracy: 0.5781 - val_loss: 0.6735 - val_accuracy: 0.5000\n",
            "Epoch 2/100\n",
            "64/64 [==============================] - 0s 3ms/step - loss: 0.6937 - accuracy: 0.5625 - val_loss: 0.6756 - val_accuracy: 0.5000\n",
            "Epoch 3/100\n",
            "64/64 [==============================] - 0s 4ms/step - loss: 0.6929 - accuracy: 0.5625 - val_loss: 0.6764 - val_accuracy: 0.4375\n",
            "Epoch 4/100\n",
            "64/64 [==============================] - 0s 4ms/step - loss: 0.6926 - accuracy: 0.5625 - val_loss: 0.6779 - val_accuracy: 0.4375\n",
            "Epoch 5/100\n",
            "64/64 [==============================] - 0s 4ms/step - loss: 0.6919 - accuracy: 0.5781 - val_loss: 0.6787 - val_accuracy: 0.4375\n",
            "Epoch 6/100\n",
            "64/64 [==============================] - 0s 4ms/step - loss: 0.6915 - accuracy: 0.5625 - val_loss: 0.6789 - val_accuracy: 0.4375\n",
            "Epoch 7/100\n",
            "64/64 [==============================] - 0s 2ms/step - loss: 0.6910 - accuracy: 0.5625 - val_loss: 0.6778 - val_accuracy: 0.4375\n",
            "Epoch 8/100\n",
            "64/64 [==============================] - 0s 2ms/step - loss: 0.6904 - accuracy: 0.5312 - val_loss: 0.6775 - val_accuracy: 0.4375\n",
            "Epoch 9/100\n",
            "64/64 [==============================] - 0s 3ms/step - loss: 0.6896 - accuracy: 0.5469 - val_loss: 0.6781 - val_accuracy: 0.4375\n",
            "Epoch 10/100\n",
            "64/64 [==============================] - 0s 2ms/step - loss: 0.6892 - accuracy: 0.5469 - val_loss: 0.6796 - val_accuracy: 0.4375\n",
            "Epoch 11/100\n",
            "64/64 [==============================] - 0s 2ms/step - loss: 0.6886 - accuracy: 0.5938 - val_loss: 0.6798 - val_accuracy: 0.4375\n",
            "Epoch 12/100\n",
            "64/64 [==============================] - 0s 2ms/step - loss: 0.6881 - accuracy: 0.5625 - val_loss: 0.6778 - val_accuracy: 0.4375\n",
            "Epoch 13/100\n",
            "64/64 [==============================] - 0s 2ms/step - loss: 0.6874 - accuracy: 0.5625 - val_loss: 0.6757 - val_accuracy: 0.4375\n",
            "Epoch 14/100\n",
            "64/64 [==============================] - 0s 2ms/step - loss: 0.6868 - accuracy: 0.5625 - val_loss: 0.6751 - val_accuracy: 0.4375\n",
            "Epoch 15/100\n",
            "64/64 [==============================] - 0s 2ms/step - loss: 0.6860 - accuracy: 0.5625 - val_loss: 0.6752 - val_accuracy: 0.4375\n",
            "Epoch 16/100\n",
            "64/64 [==============================] - 0s 2ms/step - loss: 0.6851 - accuracy: 0.5469 - val_loss: 0.6757 - val_accuracy: 0.4375\n",
            "Epoch 17/100\n",
            "64/64 [==============================] - 0s 2ms/step - loss: 0.6839 - accuracy: 0.5312 - val_loss: 0.6703 - val_accuracy: 0.4375\n",
            "Epoch 18/100\n",
            "64/64 [==============================] - 0s 2ms/step - loss: 0.6829 - accuracy: 0.5625 - val_loss: 0.6663 - val_accuracy: 0.5000\n",
            "Epoch 19/100\n",
            "64/64 [==============================] - 0s 2ms/step - loss: 0.6824 - accuracy: 0.5625 - val_loss: 0.6647 - val_accuracy: 0.5000\n",
            "Epoch 20/100\n",
            "64/64 [==============================] - 0s 2ms/step - loss: 0.6813 - accuracy: 0.5938 - val_loss: 0.6643 - val_accuracy: 0.5000\n",
            "Epoch 21/100\n",
            "64/64 [==============================] - 0s 2ms/step - loss: 0.6802 - accuracy: 0.6094 - val_loss: 0.6649 - val_accuracy: 0.5000\n",
            "Epoch 22/100\n",
            "64/64 [==============================] - 0s 2ms/step - loss: 0.6782 - accuracy: 0.5625 - val_loss: 0.6606 - val_accuracy: 0.5000\n",
            "Epoch 23/100\n",
            "64/64 [==============================] - 0s 2ms/step - loss: 0.6773 - accuracy: 0.6094 - val_loss: 0.6603 - val_accuracy: 0.5000\n",
            "Epoch 24/100\n",
            "64/64 [==============================] - 0s 2ms/step - loss: 0.6760 - accuracy: 0.6094 - val_loss: 0.6592 - val_accuracy: 0.5000\n",
            "Epoch 25/100\n",
            "64/64 [==============================] - 0s 2ms/step - loss: 0.6743 - accuracy: 0.6094 - val_loss: 0.6586 - val_accuracy: 0.5000\n",
            "Epoch 26/100\n",
            "64/64 [==============================] - 0s 2ms/step - loss: 0.6725 - accuracy: 0.6406 - val_loss: 0.6566 - val_accuracy: 0.5000\n",
            "Epoch 27/100\n",
            "64/64 [==============================] - 0s 2ms/step - loss: 0.6704 - accuracy: 0.6562 - val_loss: 0.6544 - val_accuracy: 0.5000\n",
            "Epoch 28/100\n",
            "64/64 [==============================] - 0s 2ms/step - loss: 0.6687 - accuracy: 0.6562 - val_loss: 0.6513 - val_accuracy: 0.5000\n",
            "Epoch 29/100\n",
            "64/64 [==============================] - 0s 3ms/step - loss: 0.6666 - accuracy: 0.6719 - val_loss: 0.6506 - val_accuracy: 0.5625\n",
            "Epoch 30/100\n",
            "64/64 [==============================] - 0s 2ms/step - loss: 0.6643 - accuracy: 0.6562 - val_loss: 0.6463 - val_accuracy: 0.6250\n",
            "Epoch 31/100\n",
            "64/64 [==============================] - 0s 2ms/step - loss: 0.6613 - accuracy: 0.6406 - val_loss: 0.6409 - val_accuracy: 0.6875\n",
            "Epoch 32/100\n",
            "64/64 [==============================] - 0s 2ms/step - loss: 0.6597 - accuracy: 0.6719 - val_loss: 0.6422 - val_accuracy: 0.6250\n",
            "Epoch 33/100\n",
            "64/64 [==============================] - 0s 3ms/step - loss: 0.6572 - accuracy: 0.6719 - val_loss: 0.6388 - val_accuracy: 0.6875\n",
            "Epoch 34/100\n",
            "64/64 [==============================] - 0s 2ms/step - loss: 0.6548 - accuracy: 0.7031 - val_loss: 0.6361 - val_accuracy: 0.7500\n",
            "Epoch 35/100\n",
            "64/64 [==============================] - 0s 2ms/step - loss: 0.6520 - accuracy: 0.6875 - val_loss: 0.6343 - val_accuracy: 0.6875\n",
            "Epoch 36/100\n",
            "64/64 [==============================] - 0s 2ms/step - loss: 0.6490 - accuracy: 0.7031 - val_loss: 0.6287 - val_accuracy: 0.8125\n",
            "Epoch 37/100\n",
            "64/64 [==============================] - 0s 2ms/step - loss: 0.6461 - accuracy: 0.7188 - val_loss: 0.6289 - val_accuracy: 0.8125\n",
            "Epoch 38/100\n",
            "64/64 [==============================] - 0s 2ms/step - loss: 0.6440 - accuracy: 0.7031 - val_loss: 0.6271 - val_accuracy: 0.8125\n",
            "Epoch 39/100\n",
            "64/64 [==============================] - 0s 2ms/step - loss: 0.6412 - accuracy: 0.7188 - val_loss: 0.6248 - val_accuracy: 0.8125\n",
            "Epoch 40/100\n",
            "64/64 [==============================] - 0s 3ms/step - loss: 0.6382 - accuracy: 0.7344 - val_loss: 0.6223 - val_accuracy: 0.8125\n",
            "Epoch 41/100\n",
            "64/64 [==============================] - 0s 2ms/step - loss: 0.6351 - accuracy: 0.7188 - val_loss: 0.6216 - val_accuracy: 0.7500\n",
            "Epoch 42/100\n",
            "64/64 [==============================] - 0s 3ms/step - loss: 0.6326 - accuracy: 0.7188 - val_loss: 0.6175 - val_accuracy: 0.7500\n",
            "Epoch 43/100\n",
            "64/64 [==============================] - 0s 2ms/step - loss: 0.6295 - accuracy: 0.7344 - val_loss: 0.6139 - val_accuracy: 0.7500\n",
            "Epoch 44/100\n",
            "64/64 [==============================] - 0s 2ms/step - loss: 0.6259 - accuracy: 0.7500 - val_loss: 0.6064 - val_accuracy: 0.8125\n",
            "Epoch 45/100\n",
            "64/64 [==============================] - 0s 2ms/step - loss: 0.6232 - accuracy: 0.7344 - val_loss: 0.6040 - val_accuracy: 0.8125\n",
            "Epoch 46/100\n",
            "64/64 [==============================] - 0s 2ms/step - loss: 0.6204 - accuracy: 0.7188 - val_loss: 0.6042 - val_accuracy: 0.8125\n",
            "Epoch 47/100\n",
            "64/64 [==============================] - 0s 2ms/step - loss: 0.6170 - accuracy: 0.7188 - val_loss: 0.6010 - val_accuracy: 0.8125\n",
            "Epoch 48/100\n",
            "64/64 [==============================] - 0s 2ms/step - loss: 0.6142 - accuracy: 0.7344 - val_loss: 0.5980 - val_accuracy: 0.7500\n",
            "Epoch 49/100\n",
            "64/64 [==============================] - 0s 3ms/step - loss: 0.6113 - accuracy: 0.7656 - val_loss: 0.5923 - val_accuracy: 0.8125\n",
            "Epoch 50/100\n",
            "64/64 [==============================] - 0s 2ms/step - loss: 0.6080 - accuracy: 0.7812 - val_loss: 0.5876 - val_accuracy: 0.8125\n",
            "Epoch 51/100\n",
            "64/64 [==============================] - 0s 2ms/step - loss: 0.6050 - accuracy: 0.7812 - val_loss: 0.5852 - val_accuracy: 0.8125\n",
            "Epoch 52/100\n",
            "64/64 [==============================] - 0s 2ms/step - loss: 0.6015 - accuracy: 0.7656 - val_loss: 0.5790 - val_accuracy: 0.8125\n",
            "Epoch 53/100\n",
            "64/64 [==============================] - 0s 2ms/step - loss: 0.5983 - accuracy: 0.7500 - val_loss: 0.5790 - val_accuracy: 0.8125\n",
            "Epoch 54/100\n",
            "64/64 [==============================] - 0s 2ms/step - loss: 0.5949 - accuracy: 0.7656 - val_loss: 0.5749 - val_accuracy: 0.8750\n",
            "Epoch 55/100\n",
            "64/64 [==============================] - 0s 2ms/step - loss: 0.5912 - accuracy: 0.7969 - val_loss: 0.5731 - val_accuracy: 0.8750\n",
            "Epoch 56/100\n",
            "64/64 [==============================] - 0s 3ms/step - loss: 0.5879 - accuracy: 0.7656 - val_loss: 0.5666 - val_accuracy: 0.9375\n",
            "Epoch 57/100\n",
            "64/64 [==============================] - 0s 2ms/step - loss: 0.5841 - accuracy: 0.8281 - val_loss: 0.5594 - val_accuracy: 0.9375\n",
            "Epoch 58/100\n",
            "64/64 [==============================] - 0s 2ms/step - loss: 0.5806 - accuracy: 0.7500 - val_loss: 0.5586 - val_accuracy: 0.9375\n",
            "Epoch 59/100\n",
            "64/64 [==============================] - 0s 2ms/step - loss: 0.5769 - accuracy: 0.8125 - val_loss: 0.5559 - val_accuracy: 0.8750\n",
            "Epoch 60/100\n",
            "64/64 [==============================] - 0s 2ms/step - loss: 0.5726 - accuracy: 0.7812 - val_loss: 0.5497 - val_accuracy: 0.9375\n",
            "Epoch 61/100\n",
            "64/64 [==============================] - 0s 2ms/step - loss: 0.5689 - accuracy: 0.7812 - val_loss: 0.5485 - val_accuracy: 0.8750\n",
            "Epoch 62/100\n",
            "64/64 [==============================] - 0s 3ms/step - loss: 0.5649 - accuracy: 0.8125 - val_loss: 0.5466 - val_accuracy: 0.8750\n",
            "Epoch 63/100\n",
            "64/64 [==============================] - 0s 2ms/step - loss: 0.5607 - accuracy: 0.8281 - val_loss: 0.5407 - val_accuracy: 0.8750\n",
            "Epoch 64/100\n",
            "64/64 [==============================] - 0s 2ms/step - loss: 0.5556 - accuracy: 0.8281 - val_loss: 0.5312 - val_accuracy: 0.8750\n",
            "Epoch 65/100\n",
            "64/64 [==============================] - 0s 2ms/step - loss: 0.5521 - accuracy: 0.7969 - val_loss: 0.5293 - val_accuracy: 0.8125\n",
            "Epoch 66/100\n",
            "64/64 [==============================] - 0s 2ms/step - loss: 0.5471 - accuracy: 0.8281 - val_loss: 0.5230 - val_accuracy: 0.8750\n",
            "Epoch 67/100\n",
            "64/64 [==============================] - 0s 2ms/step - loss: 0.5425 - accuracy: 0.7969 - val_loss: 0.5255 - val_accuracy: 0.8750\n",
            "Epoch 68/100\n",
            "64/64 [==============================] - 0s 2ms/step - loss: 0.5374 - accuracy: 0.8125 - val_loss: 0.5171 - val_accuracy: 0.8750\n",
            "Epoch 69/100\n",
            "64/64 [==============================] - 0s 2ms/step - loss: 0.5332 - accuracy: 0.8281 - val_loss: 0.5114 - val_accuracy: 0.8750\n",
            "Epoch 70/100\n",
            "64/64 [==============================] - 0s 2ms/step - loss: 0.5284 - accuracy: 0.8438 - val_loss: 0.5098 - val_accuracy: 0.8750\n",
            "Epoch 71/100\n",
            "64/64 [==============================] - 0s 2ms/step - loss: 0.5225 - accuracy: 0.7969 - val_loss: 0.5108 - val_accuracy: 0.7500\n",
            "Epoch 72/100\n",
            "64/64 [==============================] - 0s 4ms/step - loss: 0.5192 - accuracy: 0.8125 - val_loss: 0.5035 - val_accuracy: 0.8125\n",
            "Epoch 73/100\n",
            "64/64 [==============================] - 0s 4ms/step - loss: 0.5140 - accuracy: 0.8125 - val_loss: 0.4981 - val_accuracy: 0.7500\n",
            "Epoch 74/100\n",
            "64/64 [==============================] - 0s 4ms/step - loss: 0.5087 - accuracy: 0.8125 - val_loss: 0.4981 - val_accuracy: 0.7500\n",
            "Epoch 75/100\n",
            "64/64 [==============================] - 0s 4ms/step - loss: 0.5041 - accuracy: 0.8438 - val_loss: 0.4926 - val_accuracy: 0.7500\n",
            "Epoch 76/100\n",
            "64/64 [==============================] - 0s 3ms/step - loss: 0.4993 - accuracy: 0.8125 - val_loss: 0.4847 - val_accuracy: 0.7500\n",
            "Epoch 77/100\n",
            "64/64 [==============================] - 0s 3ms/step - loss: 0.4941 - accuracy: 0.8594 - val_loss: 0.4783 - val_accuracy: 0.8125\n",
            "Epoch 78/100\n",
            "64/64 [==============================] - 0s 4ms/step - loss: 0.4885 - accuracy: 0.7812 - val_loss: 0.4720 - val_accuracy: 0.8125\n",
            "Epoch 79/100\n",
            "64/64 [==============================] - 0s 4ms/step - loss: 0.4844 - accuracy: 0.8281 - val_loss: 0.4727 - val_accuracy: 0.7500\n",
            "Epoch 80/100\n",
            "64/64 [==============================] - 0s 3ms/step - loss: 0.4798 - accuracy: 0.8125 - val_loss: 0.4720 - val_accuracy: 0.7500\n",
            "Epoch 81/100\n",
            "64/64 [==============================] - 0s 3ms/step - loss: 0.4737 - accuracy: 0.8281 - val_loss: 0.4660 - val_accuracy: 0.7500\n",
            "Epoch 82/100\n",
            "64/64 [==============================] - 0s 4ms/step - loss: 0.4692 - accuracy: 0.8281 - val_loss: 0.4632 - val_accuracy: 0.7500\n",
            "Epoch 83/100\n",
            "64/64 [==============================] - 0s 4ms/step - loss: 0.4639 - accuracy: 0.8594 - val_loss: 0.4601 - val_accuracy: 0.7500\n",
            "Epoch 84/100\n",
            "64/64 [==============================] - 0s 3ms/step - loss: 0.4579 - accuracy: 0.8281 - val_loss: 0.4571 - val_accuracy: 0.7500\n",
            "Epoch 85/100\n",
            "64/64 [==============================] - 0s 3ms/step - loss: 0.4549 - accuracy: 0.8594 - val_loss: 0.4465 - val_accuracy: 0.8750\n",
            "Epoch 86/100\n",
            "64/64 [==============================] - 0s 3ms/step - loss: 0.4484 - accuracy: 0.8750 - val_loss: 0.4358 - val_accuracy: 0.8750\n",
            "Epoch 87/100\n",
            "64/64 [==============================] - 0s 4ms/step - loss: 0.4465 - accuracy: 0.8438 - val_loss: 0.4355 - val_accuracy: 0.8750\n",
            "Epoch 88/100\n",
            "64/64 [==============================] - 0s 4ms/step - loss: 0.4411 - accuracy: 0.8281 - val_loss: 0.4352 - val_accuracy: 0.8750\n",
            "Epoch 89/100\n",
            "64/64 [==============================] - 0s 4ms/step - loss: 0.4353 - accuracy: 0.8281 - val_loss: 0.4391 - val_accuracy: 0.7500\n",
            "Epoch 90/100\n",
            "64/64 [==============================] - 0s 2ms/step - loss: 0.4289 - accuracy: 0.8906 - val_loss: 0.4237 - val_accuracy: 0.8750\n",
            "Epoch 91/100\n",
            "64/64 [==============================] - 0s 2ms/step - loss: 0.4273 - accuracy: 0.8750 - val_loss: 0.4239 - val_accuracy: 0.8750\n",
            "Epoch 92/100\n",
            "64/64 [==============================] - 0s 2ms/step - loss: 0.4211 - accuracy: 0.8750 - val_loss: 0.4258 - val_accuracy: 0.8125\n",
            "Epoch 93/100\n",
            "64/64 [==============================] - 0s 3ms/step - loss: 0.4152 - accuracy: 0.8906 - val_loss: 0.4213 - val_accuracy: 0.8750\n",
            "Epoch 94/100\n",
            "64/64 [==============================] - 0s 2ms/step - loss: 0.4144 - accuracy: 0.8906 - val_loss: 0.4193 - val_accuracy: 0.8750\n",
            "Epoch 95/100\n",
            "64/64 [==============================] - 0s 2ms/step - loss: 0.4064 - accuracy: 0.8906 - val_loss: 0.4330 - val_accuracy: 0.7500\n",
            "Epoch 96/100\n",
            "64/64 [==============================] - 0s 2ms/step - loss: 0.4035 - accuracy: 0.9219 - val_loss: 0.4154 - val_accuracy: 0.8750\n",
            "Epoch 97/100\n",
            "64/64 [==============================] - 0s 2ms/step - loss: 0.4006 - accuracy: 0.9062 - val_loss: 0.4109 - val_accuracy: 0.8750\n",
            "Epoch 98/100\n",
            "64/64 [==============================] - 0s 2ms/step - loss: 0.3949 - accuracy: 0.8906 - val_loss: 0.4181 - val_accuracy: 0.8125\n",
            "Epoch 99/100\n",
            "64/64 [==============================] - 0s 2ms/step - loss: 0.3917 - accuracy: 0.9062 - val_loss: 0.4073 - val_accuracy: 0.8750\n",
            "Epoch 100/100\n",
            "64/64 [==============================] - 0s 2ms/step - loss: 0.3873 - accuracy: 0.9062 - val_loss: 0.4143 - val_accuracy: 0.8125\n"
          ]
        }
      ]
    },
    {
      "cell_type": "code",
      "source": [
        "model.layers[0].get_weights()"
      ],
      "metadata": {
        "colab": {
          "base_uri": "https://localhost:8080/"
        },
        "id": "rvEaG36ijYVj",
        "outputId": "996321a7-a187-42e7-9cc7-a5d7d333b9fd"
      },
      "execution_count": 120,
      "outputs": [
        {
          "output_type": "execute_result",
          "data": {
            "text/plain": [
              "[array([[ 0.8553942 , -0.56926954, -0.4625786 , -0.45462304, -0.55180085],\n",
              "        [ 0.58560157,  0.3996789 , -1.397854  ,  0.56718177,  0.47495553]],\n",
              "       dtype=float32),\n",
              " array([0.86390686, 0.12522   , 1.2886394 , 0.32636946, 0.08318824],\n",
              "       dtype=float32)]"
            ]
          },
          "metadata": {},
          "execution_count": 120
        }
      ]
    },
    {
      "cell_type": "code",
      "source": [
        "predict = np.where(model.predict(x_test)>0.5,1,0)"
      ],
      "metadata": {
        "colab": {
          "base_uri": "https://localhost:8080/"
        },
        "id": "0A5lGdapegm9",
        "outputId": "bc2cce61-5bff-4726-85e6-60109a806653"
      },
      "execution_count": 121,
      "outputs": [
        {
          "output_type": "stream",
          "name": "stdout",
          "text": [
            "1/1 [==============================] - 0s 61ms/step\n"
          ]
        }
      ]
    },
    {
      "cell_type": "code",
      "source": [
        "accuracy_score(y_test,predict)"
      ],
      "metadata": {
        "colab": {
          "base_uri": "https://localhost:8080/"
        },
        "id": "Yot_NVMfeuG-",
        "outputId": "307b285e-586e-494c-994d-3ef5c1f02d4d"
      },
      "execution_count": 122,
      "outputs": [
        {
          "output_type": "execute_result",
          "data": {
            "text/plain": [
              "0.8"
            ]
          },
          "metadata": {},
          "execution_count": 122
        }
      ]
    },
    {
      "cell_type": "code",
      "source": [
        "plt.plot(range(1,101),history.history[\"loss\"],label=\"train_loss\")\n",
        "plt.plot(range(1,101),history.history[\"val_loss\"],label=\"val_loss\")\n",
        "plt.legend()"
      ],
      "metadata": {
        "id": "AAEuVBfkwjAz",
        "outputId": "13889d15-bb1c-4388-9c0f-ea2eb2638d63",
        "colab": {
          "base_uri": "https://localhost:8080/",
          "height": 447
        }
      },
      "execution_count": 123,
      "outputs": [
        {
          "output_type": "execute_result",
          "data": {
            "text/plain": [
              "<matplotlib.legend.Legend at 0x7b93209d7be0>"
            ]
          },
          "metadata": {},
          "execution_count": 123
        },
        {
          "output_type": "display_data",
          "data": {
            "text/plain": [
              "<Figure size 640x480 with 1 Axes>"
            ],
            "image/png": "[encoded data removed]"
          },
          "metadata": {}
        }
      ]
    },
    {
      "cell_type": "code",
      "source": [
        "plot_decision_regions(x_train,y_train.values,clf=model,legend=2)"
      ],
      "metadata": {
        "id": "wWKeRfYlewgs",
        "colab": {
          "base_uri": "https://localhost:8080/",
          "height": 469
        },
        "outputId": "8ad2bc5f-7fe1-467c-8391-47309989f026"
      },
      "execution_count": 124,
      "outputs": [
        {
          "output_type": "stream",
          "name": "stdout",
          "text": [
            "9600/9600 [==============================] - 14s 1ms/step\n"
          ]
        },
        {
          "output_type": "execute_result",
          "data": {
            "text/plain": [
              "<Axes: >"
            ]
          },
          "metadata": {},
          "execution_count": 124
        },
        {
          "output_type": "display_data",
          "data": {
            "text/plain": [
              "<Figure size 640x480 with 1 Axes>"
            ],
            "image/png": "[encoded data removed]"
          },
          "metadata": {}
        }
      ]
    },
    {
      "cell_type": "code",
      "source": [
        "plot_decision_regions(x_test,y_test.values,clf=model,legend=2)"
      ],
      "metadata": {
        "colab": {
          "base_uri": "https://localhost:8080/",
          "height": 465
        },
        "id": "pGGEQoE6gdKm",
        "outputId": "7ef1f56c-1ee8-4bfe-e08f-a3be243230e8"
      },
      "execution_count": 125,
      "outputs": [
        {
          "output_type": "stream",
          "name": "stdout",
          "text": [
            "9600/9600 [==============================] - 13s 1ms/step\n"
          ]
        },
        {
          "output_type": "execute_result",
          "data": {
            "text/plain": [
              "<Axes: >"
            ]
          },
          "metadata": {},
          "execution_count": 125
        },
        {
          "output_type": "display_data",
          "data": {
            "text/plain": [
              "<Figure size 640x480 with 1 Axes>"
            ],
            "image/png": "[encoded data removed]"
          },
          "metadata": {}
        }
      ]
    },
    {
      "cell_type": "code",
      "source": [],
      "metadata": {
        "id": "jDpUcRgJgpEK"
      },
      "execution_count": 125,
      "outputs": []
    }
  ]
}