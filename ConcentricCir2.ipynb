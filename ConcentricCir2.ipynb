{
  "nbformat": 4,
  "nbformat_minor": 0,
  "metadata": {
    "colab": {
      "provenance": [],
      "mount_file_id": "1KgSHyvocuZsvnXeo4Ouo2pznf_Awg8g9",
      "authorship_tag": "ABX9TyP5gz7gOGBqzH17I7uWgWeu",
      "include_colab_link": true
    },
    "kernelspec": {
      "name": "python3",
      "display_name": "Python 3"
    },
    "language_info": {
      "name": "python"
    }
  },
  "cells": [
    {
      "cell_type": "markdown",
      "metadata": {
        "id": "view-in-github",
        "colab_type": "text"
      },
      "source": [
        "<a href=\"https://colab.research.google.com/github/shubavarma/DeepLearning/blob/main/ConcentricCir2.ipynb\" target=\"_parent\"><img src=\"https://colab.research.google.com/assets/colab-badge.svg\" alt=\"Open In Colab\"/></a>"
      ]
    },
    {
      "cell_type": "code",
      "execution_count": 24,
      "metadata": {
        "id": "pxRsLV4KjzQq"
      },
      "outputs": [],
      "source": [
        "import tensorflow\n",
        "import tensorflow.keras\n",
        "import numpy as np\n",
        "import pandas as pd\n",
        "import matplotlib.pyplot as plt\n",
        "from keras.layers import Dense\n",
        "from keras.models import Sequential\n",
        "from sklearn.model_selection import train_test_split\n",
        "from sklearn.metrics import accuracy_score\n",
        "from sklearn.preprocessing import StandardScaler\n",
        "from mlxtend.plotting import plot_decision_regions\n",
        "from keras.utils.vis_utils import plot_model"
      ]
    },
    {
      "cell_type": "code",
      "source": [
        "data = pd.read_csv(\"/content/drive/MyDrive/Colab Notebooks/DLdatasets/3.concertriccir2.csv\",header=None)"
      ],
      "metadata": {
        "id": "YAZ_x5ZJj6e3"
      },
      "execution_count": 25,
      "outputs": []
    },
    {
      "cell_type": "code",
      "source": [
        "data.head()"
      ],
      "metadata": {
        "colab": {
          "base_uri": "https://localhost:8080/",
          "height": 206
        },
        "id": "w_gci6H4kIwa",
        "outputId": "5631d72e-a381-4397-e2df-c89eda7bd118"
      },
      "execution_count": 26,
      "outputs": [
        {
          "output_type": "execute_result",
          "data": {
            "text/plain": [
              "          0         1    2\n",
              "0  0.700335 -0.247068  0.0\n",
              "1 -3.950019  2.740080  1.0\n",
              "2  0.150222 -2.157638  1.0\n",
              "3 -1.672050 -0.941519  1.0\n",
              "4  2.560483 -1.846577  1.0"
            ],
            "text/html": [
              "\n",
              "\n",
              "  <div id=\"df-be2b41d6-7778-484f-8ae0-3c252440422e\">\n",
              "    <div class=\"colab-df-container\">\n",
              "      <div>\n",
              "<style scoped>\n",
              "    .dataframe tbody tr th:only-of-type {\n",
              "        vertical-align: middle;\n",
              "    }\n",
              "\n",
              "    .dataframe tbody tr th {\n",
              "        vertical-align: top;\n",
              "    }\n",
              "\n",
              "    .dataframe thead th {\n",
              "        text-align: right;\n",
              "    }\n",
              "</style>\n",
              "<table border=\"1\" class=\"dataframe\">\n",
              "  <thead>\n",
              "    <tr style=\"text-align: right;\">\n",
              "      <th></th>\n",
              "      <th>0</th>\n",
              "      <th>1</th>\n",
              "      <th>2</th>\n",
              "    </tr>\n",
              "  </thead>\n",
              "  <tbody>\n",
              "    <tr>\n",
              "      <th>0</th>\n",
              "      <td>0.700335</td>\n",
              "      <td>-0.247068</td>\n",
              "      <td>0.0</td>\n",
              "    </tr>\n",
              "    <tr>\n",
              "      <th>1</th>\n",
              "      <td>-3.950019</td>\n",
              "      <td>2.740080</td>\n",
              "      <td>1.0</td>\n",
              "    </tr>\n",
              "    <tr>\n",
              "      <th>2</th>\n",
              "      <td>0.150222</td>\n",
              "      <td>-2.157638</td>\n",
              "      <td>1.0</td>\n",
              "    </tr>\n",
              "    <tr>\n",
              "      <th>3</th>\n",
              "      <td>-1.672050</td>\n",
              "      <td>-0.941519</td>\n",
              "      <td>1.0</td>\n",
              "    </tr>\n",
              "    <tr>\n",
              "      <th>4</th>\n",
              "      <td>2.560483</td>\n",
              "      <td>-1.846577</td>\n",
              "      <td>1.0</td>\n",
              "    </tr>\n",
              "  </tbody>\n",
              "</table>\n",
              "</div>\n",
              "      <button class=\"colab-df-convert\" onclick=\"convertToInteractive('df-be2b41d6-7778-484f-8ae0-3c252440422e')\"\n",
              "              title=\"Convert this dataframe to an interactive table.\"\n",
              "              style=\"display:none;\">\n",
              "\n",
              "  <svg xmlns=\"http://www.w3.org/2000/svg\" height=\"24px\"viewBox=\"0 0 24 24\"\n",
              "       width=\"24px\">\n",
              "    <path d=\"M0 0h24v24H0V0z\" fill=\"none\"/>\n",
              "    <path d=\"M18.56 5.44l.94 2.06.94-2.06 2.06-.94-2.06-.94-.94-2.06-.94 2.06-2.06.94zm-11 1L8.5 8.5l.94-2.06 2.06-.94-2.06-.94L8.5 2.5l-.94 2.06-2.06.94zm10 10l.94 2.06.94-2.06 2.06-.94-2.06-.94-.94-2.06-.94 2.06-2.06.94z\"/><path d=\"M17.41 7.96l-1.37-1.37c-.4-.4-.92-.59-1.43-.59-.52 0-1.04.2-1.43.59L10.3 9.45l-7.72 7.72c-.78.78-.78 2.05 0 2.83L4 21.41c.39.39.9.59 1.41.59.51 0 1.02-.2 1.41-.59l7.78-7.78 2.81-2.81c.8-.78.8-2.07 0-2.86zM5.41 20L4 18.59l7.72-7.72 1.47 1.35L5.41 20z\"/>\n",
              "  </svg>\n",
              "      </button>\n",
              "\n",
              "\n",
              "\n",
              "    <div id=\"df-77d06451-b79a-4aee-b448-ca3045f50de5\">\n",
              "      <button class=\"colab-df-quickchart\" onclick=\"quickchart('df-77d06451-b79a-4aee-b448-ca3045f50de5')\"\n",
              "              title=\"Suggest charts.\"\n",
              "              style=\"display:none;\">\n",
              "\n",
              "<svg xmlns=\"http://www.w3.org/2000/svg\" height=\"24px\"viewBox=\"0 0 24 24\"\n",
              "     width=\"24px\">\n",
              "    <g>\n",
              "        <path d=\"M19 3H5c-1.1 0-2 .9-2 2v14c0 1.1.9 2 2 2h14c1.1 0 2-.9 2-2V5c0-1.1-.9-2-2-2zM9 17H7v-7h2v7zm4 0h-2V7h2v10zm4 0h-2v-4h2v4z\"/>\n",
              "    </g>\n",
              "</svg>\n",
              "      </button>\n",
              "    </div>\n",
              "\n",
              "<style>\n",
              "  .colab-df-quickchart {\n",
              "    background-color: #E8F0FE;\n",
              "    border: none;\n",
              "    border-radius: 50%;\n",
              "    cursor: pointer;\n",
              "    display: none;\n",
              "    fill: #1967D2;\n",
              "    height: 32px;\n",
              "    padding: 0 0 0 0;\n",
              "    width: 32px;\n",
              "  }\n",
              "\n",
              "  .colab-df-quickchart:hover {\n",
              "    background-color: #E2EBFA;\n",
              "    box-shadow: 0px 1px 2px rgba(60, 64, 67, 0.3), 0px 1px 3px 1px rgba(60, 64, 67, 0.15);\n",
              "    fill: #174EA6;\n",
              "  }\n",
              "\n",
              "  [theme=dark] .colab-df-quickchart {\n",
              "    background-color: #3B4455;\n",
              "    fill: #D2E3FC;\n",
              "  }\n",
              "\n",
              "  [theme=dark] .colab-df-quickchart:hover {\n",
              "    background-color: #434B5C;\n",
              "    box-shadow: 0px 1px 3px 1px rgba(0, 0, 0, 0.15);\n",
              "    filter: drop-shadow(0px 1px 2px rgba(0, 0, 0, 0.3));\n",
              "    fill: #FFFFFF;\n",
              "  }\n",
              "</style>\n",
              "\n",
              "    <script>\n",
              "      async function quickchart(key) {\n",
              "        const containerElement = document.querySelector('#' + key);\n",
              "        const charts = await google.colab.kernel.invokeFunction(\n",
              "            'suggestCharts', [key], {});\n",
              "      }\n",
              "    </script>\n",
              "\n",
              "      <script>\n",
              "\n",
              "function displayQuickchartButton(domScope) {\n",
              "  let quickchartButtonEl =\n",
              "    domScope.querySelector('#df-77d06451-b79a-4aee-b448-ca3045f50de5 button.colab-df-quickchart');\n",
              "  quickchartButtonEl.style.display =\n",
              "    google.colab.kernel.accessAllowed ? 'block' : 'none';\n",
              "}\n",
              "\n",
              "        displayQuickchartButton(document);\n",
              "      </script>\n",
              "      <style>\n",
              "    .colab-df-container {\n",
              "      display:flex;\n",
              "      flex-wrap:wrap;\n",
              "      gap: 12px;\n",
              "    }\n",
              "\n",
              "    .colab-df-convert {\n",
              "      background-color: #E8F0FE;\n",
              "      border: none;\n",
              "      border-radius: 50%;\n",
              "      cursor: pointer;\n",
              "      display: none;\n",
              "      fill: #1967D2;\n",
              "      height: 32px;\n",
              "      padding: 0 0 0 0;\n",
              "      width: 32px;\n",
              "    }\n",
              "\n",
              "    .colab-df-convert:hover {\n",
              "      background-color: #E2EBFA;\n",
              "      box-shadow: 0px 1px 2px rgba(60, 64, 67, 0.3), 0px 1px 3px 1px rgba(60, 64, 67, 0.15);\n",
              "      fill: #174EA6;\n",
              "    }\n",
              "\n",
              "    [theme=dark] .colab-df-convert {\n",
              "      background-color: #3B4455;\n",
              "      fill: #D2E3FC;\n",
              "    }\n",
              "\n",
              "    [theme=dark] .colab-df-convert:hover {\n",
              "      background-color: #434B5C;\n",
              "      box-shadow: 0px 1px 3px 1px rgba(0, 0, 0, 0.15);\n",
              "      filter: drop-shadow(0px 1px 2px rgba(0, 0, 0, 0.3));\n",
              "      fill: #FFFFFF;\n",
              "    }\n",
              "  </style>\n",
              "\n",
              "      <script>\n",
              "        const buttonEl =\n",
              "          document.querySelector('#df-be2b41d6-7778-484f-8ae0-3c252440422e button.colab-df-convert');\n",
              "        buttonEl.style.display =\n",
              "          google.colab.kernel.accessAllowed ? 'block' : 'none';\n",
              "\n",
              "        async function convertToInteractive(key) {\n",
              "          const element = document.querySelector('#df-be2b41d6-7778-484f-8ae0-3c252440422e');\n",
              "          const dataTable =\n",
              "            await google.colab.kernel.invokeFunction('convertToInteractive',\n",
              "                                                     [key], {});\n",
              "          if (!dataTable) return;\n",
              "\n",
              "          const docLinkHtml = 'Like what you see? Visit the ' +\n",
              "            '<a target=\"_blank\" href=https://colab.research.google.com/notebooks/data_table.ipynb>data table notebook</a>'\n",
              "            + ' to learn more about interactive tables.';\n",
              "          element.innerHTML = '';\n",
              "          dataTable['output_type'] = 'display_data';\n",
              "          await google.colab.output.renderOutput(dataTable, element);\n",
              "          const docLink = document.createElement('div');\n",
              "          docLink.innerHTML = docLinkHtml;\n",
              "          element.appendChild(docLink);\n",
              "        }\n",
              "      </script>\n",
              "    </div>\n",
              "  </div>\n"
            ]
          },
          "metadata": {},
          "execution_count": 26
        }
      ]
    },
    {
      "cell_type": "code",
      "source": [
        "data.shape"
      ],
      "metadata": {
        "colab": {
          "base_uri": "https://localhost:8080/"
        },
        "id": "KXPeTGQKw4eO",
        "outputId": "7a90ae3d-5c9a-4964-ddcb-a0e5587a80e5"
      },
      "execution_count": 27,
      "outputs": [
        {
          "output_type": "execute_result",
          "data": {
            "text/plain": [
              "(500, 3)"
            ]
          },
          "metadata": {},
          "execution_count": 27
        }
      ]
    },
    {
      "cell_type": "code",
      "source": [
        "data.info()"
      ],
      "metadata": {
        "colab": {
          "base_uri": "https://localhost:8080/"
        },
        "id": "JX_EEreHkP6G",
        "outputId": "843d3783-4a47-43e3-f10a-d83de666724d"
      },
      "execution_count": 28,
      "outputs": [
        {
          "output_type": "stream",
          "name": "stdout",
          "text": [
            "<class 'pandas.core.frame.DataFrame'>\n",
            "RangeIndex: 500 entries, 0 to 499\n",
            "Data columns (total 3 columns):\n",
            " #   Column  Non-Null Count  Dtype  \n",
            "---  ------  --------------  -----  \n",
            " 0   0       500 non-null    float64\n",
            " 1   1       500 non-null    float64\n",
            " 2   2       500 non-null    float64\n",
            "dtypes: float64(3)\n",
            "memory usage: 11.8 KB\n"
          ]
        }
      ]
    },
    {
      "cell_type": "markdown",
      "source": [
        "Balanced data. Multi class classification"
      ],
      "metadata": {
        "id": "clPbu0YTkT7W"
      }
    },
    {
      "cell_type": "code",
      "source": [
        "plt.boxplot(data)\n",
        "plt.show()"
      ],
      "metadata": {
        "colab": {
          "base_uri": "https://localhost:8080/",
          "height": 430
        },
        "id": "T4D4wmsmkRU9",
        "outputId": "59fb7067-cc67-41e8-c3ad-346acaf7a46a"
      },
      "execution_count": 29,
      "outputs": [
        {
          "output_type": "display_data",
          "data": {
            "text/plain": [
              "<Figure size 640x480 with 1 Axes>"
            ],
            "image/png": "[encoded data removed]"
          },
          "metadata": {}
        }
      ]
    },
    {
      "cell_type": "markdown",
      "source": [
        "There are some outliers."
      ],
      "metadata": {
        "id": "P7dep83stYTA"
      }
    },
    {
      "cell_type": "code",
      "source": [
        "x = data[[0,1]]\n",
        "y = data[2]"
      ],
      "metadata": {
        "id": "vJUpaNW_tVQj"
      },
      "execution_count": 30,
      "outputs": []
    },
    {
      "cell_type": "code",
      "source": [
        "y = y.astype(int)"
      ],
      "metadata": {
        "id": "yhKPUW1_t12D"
      },
      "execution_count": 31,
      "outputs": []
    },
    {
      "cell_type": "markdown",
      "source": [
        "Output needs to be int for comparision with predicted output\n"
      ],
      "metadata": {
        "id": "BDKqeJr_t8DR"
      }
    },
    {
      "cell_type": "code",
      "source": [
        "x_train,x_test,y_train,y_test=train_test_split(x,y,test_size=0.2,random_state=33)"
      ],
      "metadata": {
        "id": "NdPsbcfYt3wW"
      },
      "execution_count": 32,
      "outputs": []
    },
    {
      "cell_type": "code",
      "source": [
        "x_train.shape,x_test.shape,len(y_train),len(y_test)"
      ],
      "metadata": {
        "colab": {
          "base_uri": "https://localhost:8080/"
        },
        "id": "AIPGCANWt-9a",
        "outputId": "bbe0db67-6ae3-4e60-c65f-89e16dbf2dd1"
      },
      "execution_count": 33,
      "outputs": [
        {
          "output_type": "execute_result",
          "data": {
            "text/plain": [
              "((400, 2), (100, 2), 400, 100)"
            ]
          },
          "metadata": {},
          "execution_count": 33
        }
      ]
    },
    {
      "cell_type": "code",
      "source": [
        "std=StandardScaler()\n",
        "x_train=std.fit_transform(x_train)\n",
        "x_test=std.transform(x_test)"
      ],
      "metadata": {
        "id": "TZeeT9bguA-6"
      },
      "execution_count": 34,
      "outputs": []
    },
    {
      "cell_type": "code",
      "source": [
        "# code to visualize the data\n",
        "data.columns = [\"one\",\"two\",\"three\"]\n",
        "import seaborn as sns\n",
        "sns.scatterplot(data=data, x=\"one\",y=\"two\",hue=\"three\")\n",
        "plt.legend()"
      ],
      "metadata": {
        "colab": {
          "base_uri": "https://localhost:8080/",
          "height": 466
        },
        "id": "X8sEcUYf60m3",
        "outputId": "e6a0872c-7d3c-4dff-e48b-43425614d8b7"
      },
      "execution_count": 35,
      "outputs": [
        {
          "output_type": "execute_result",
          "data": {
            "text/plain": [
              "<matplotlib.legend.Legend at 0x7862400bbdf0>"
            ]
          },
          "metadata": {},
          "execution_count": 35
        },
        {
          "output_type": "display_data",
          "data": {
            "text/plain": [
              "<Figure size 640x480 with 1 Axes>"
            ],
            "image/png": "[encoded data removed]"
          },
          "metadata": {}
        }
      ]
    },
    {
      "cell_type": "code",
      "source": [
        "model=Sequential()\n",
        "model.add(Dense(5,activation=\"tanh\",input_dim=2))\n",
        "model.add(Dense(3,activation=\"tanh\"))\n",
        "model.add(Dense(3,activation=\"sigmoid\"))"
      ],
      "metadata": {
        "id": "IIPFqqftuPeN"
      },
      "execution_count": 36,
      "outputs": []
    },
    {
      "cell_type": "code",
      "source": [
        "model.summary()"
      ],
      "metadata": {
        "colab": {
          "base_uri": "https://localhost:8080/"
        },
        "id": "9slXIMycugOk",
        "outputId": "59ca08c4-91c0-461d-c8e2-d6ace9426656"
      },
      "execution_count": 37,
      "outputs": [
        {
          "output_type": "stream",
          "name": "stdout",
          "text": [
            "Model: \"sequential_1\"\n",
            "_________________________________________________________________\n",
            " Layer (type)                Output Shape              Param #   \n",
            "=================================================================\n",
            " dense_3 (Dense)             (None, 5)                 15        \n",
            "                                                                 \n",
            " dense_4 (Dense)             (None, 3)                 18        \n",
            "                                                                 \n",
            " dense_5 (Dense)             (None, 3)                 12        \n",
            "                                                                 \n",
            "=================================================================\n",
            "Total params: 45\n",
            "Trainable params: 45\n",
            "Non-trainable params: 0\n",
            "_________________________________________________________________\n"
          ]
        }
      ]
    },
    {
      "cell_type": "code",
      "source": [
        "plot_model(model)"
      ],
      "metadata": {
        "colab": {
          "base_uri": "https://localhost:8080/",
          "height": 369
        },
        "id": "qf5__fK_uiG0",
        "outputId": "8c11b3b6-4510-4b62-d01d-2f647767dbca"
      },
      "execution_count": 38,
      "outputs": [
        {
          "output_type": "execute_result",
          "data": {
            "image/png": "[encoded data removed]",
            "text/plain": [
              "<IPython.core.display.Image object>"
            ]
          },
          "metadata": {},
          "execution_count": 38
        }
      ]
    },
    {
      "cell_type": "code",
      "source": [
        "model.layers[0].get_weights()"
      ],
      "metadata": {
        "colab": {
          "base_uri": "https://localhost:8080/"
        },
        "id": "gg9_hoZEulGb",
        "outputId": "12772c9b-8a2a-40bd-908b-5051fc31ffb6"
      },
      "execution_count": 39,
      "outputs": [
        {
          "output_type": "execute_result",
          "data": {
            "text/plain": [
              "[array([[-0.74153256,  0.01215464,  0.89006984, -0.48724097,  0.04749727],\n",
              "        [ 0.04049981, -0.5724778 ,  0.6003885 , -0.78307647,  0.14430773]],\n",
              "       dtype=float32),\n",
              " array([0., 0., 0., 0., 0.], dtype=float32)]"
            ]
          },
          "metadata": {},
          "execution_count": 39
        }
      ]
    },
    {
      "cell_type": "code",
      "source": [
        "model.compile(optimizer=\"sgd\",loss=\"sparse_categorical_crossentropy\",metrics=[\"accuracy\"])"
      ],
      "metadata": {
        "id": "1k5MkZ9Aund6"
      },
      "execution_count": 40,
      "outputs": []
    },
    {
      "cell_type": "code",
      "source": [
        "history = model.fit(x_train,y_train,batch_size=10,epochs=150,validation_split=0.2)"
      ],
      "metadata": {
        "colab": {
          "base_uri": "https://localhost:8080/"
        },
        "id": "o780mh-Wu5Im",
        "outputId": "0ec0edd9-fc32-480b-e592-404c95d5dda6"
      },
      "execution_count": 41,
      "outputs": [
        {
          "output_type": "stream",
          "name": "stdout",
          "text": [
            "Epoch 1/150\n",
            "32/32 [==============================] - 1s 8ms/step - loss: 1.1046 - accuracy: 0.4219 - val_loss: 1.0812 - val_accuracy: 0.4500\n",
            "Epoch 2/150\n",
            "32/32 [==============================] - 0s 2ms/step - loss: 1.0225 - accuracy: 0.4281 - val_loss: 1.0100 - val_accuracy: 0.4250\n",
            "Epoch 3/150\n",
            "32/32 [==============================] - 0s 3ms/step - loss: 0.9587 - accuracy: 0.4125 - val_loss: 0.9532 - val_accuracy: 0.3750\n",
            "Epoch 4/150\n",
            "32/32 [==============================] - 0s 3ms/step - loss: 0.9088 - accuracy: 0.4125 - val_loss: 0.9075 - val_accuracy: 0.3625\n",
            "Epoch 5/150\n",
            "32/32 [==============================] - 0s 2ms/step - loss: 0.8708 - accuracy: 0.4437 - val_loss: 0.8727 - val_accuracy: 0.4125\n",
            "Epoch 6/150\n",
            "32/32 [==============================] - 0s 4ms/step - loss: 0.8417 - accuracy: 0.5500 - val_loss: 0.8457 - val_accuracy: 0.4250\n",
            "Epoch 7/150\n",
            "32/32 [==============================] - 0s 4ms/step - loss: 0.8194 - accuracy: 0.5906 - val_loss: 0.8252 - val_accuracy: 0.4750\n",
            "Epoch 8/150\n",
            "32/32 [==============================] - 0s 4ms/step - loss: 0.8017 - accuracy: 0.6406 - val_loss: 0.8087 - val_accuracy: 0.5375\n",
            "Epoch 9/150\n",
            "32/32 [==============================] - 0s 4ms/step - loss: 0.7876 - accuracy: 0.6469 - val_loss: 0.7953 - val_accuracy: 0.6000\n",
            "Epoch 10/150\n",
            "32/32 [==============================] - 0s 4ms/step - loss: 0.7756 - accuracy: 0.6781 - val_loss: 0.7835 - val_accuracy: 0.6125\n",
            "Epoch 11/150\n",
            "32/32 [==============================] - 0s 4ms/step - loss: 0.7663 - accuracy: 0.6781 - val_loss: 0.7749 - val_accuracy: 0.5875\n",
            "Epoch 12/150\n",
            "32/32 [==============================] - 0s 4ms/step - loss: 0.7581 - accuracy: 0.6719 - val_loss: 0.7666 - val_accuracy: 0.6375\n",
            "Epoch 13/150\n",
            "32/32 [==============================] - 0s 4ms/step - loss: 0.7513 - accuracy: 0.6781 - val_loss: 0.7600 - val_accuracy: 0.6000\n",
            "Epoch 14/150\n",
            "32/32 [==============================] - 0s 4ms/step - loss: 0.7449 - accuracy: 0.6812 - val_loss: 0.7540 - val_accuracy: 0.5875\n",
            "Epoch 15/150\n",
            "32/32 [==============================] - 0s 4ms/step - loss: 0.7393 - accuracy: 0.6750 - val_loss: 0.7480 - val_accuracy: 0.6500\n",
            "Epoch 16/150\n",
            "32/32 [==============================] - 0s 4ms/step - loss: 0.7346 - accuracy: 0.7094 - val_loss: 0.7435 - val_accuracy: 0.6125\n",
            "Epoch 17/150\n",
            "32/32 [==============================] - 0s 3ms/step - loss: 0.7300 - accuracy: 0.6781 - val_loss: 0.7383 - val_accuracy: 0.6500\n",
            "Epoch 18/150\n",
            "32/32 [==============================] - 0s 4ms/step - loss: 0.7263 - accuracy: 0.7063 - val_loss: 0.7346 - val_accuracy: 0.6250\n",
            "Epoch 19/150\n",
            "32/32 [==============================] - 0s 4ms/step - loss: 0.7227 - accuracy: 0.7094 - val_loss: 0.7318 - val_accuracy: 0.5875\n",
            "Epoch 20/150\n",
            "32/32 [==============================] - 0s 4ms/step - loss: 0.7196 - accuracy: 0.6844 - val_loss: 0.7285 - val_accuracy: 0.5625\n",
            "Epoch 21/150\n",
            "32/32 [==============================] - 0s 4ms/step - loss: 0.7163 - accuracy: 0.6562 - val_loss: 0.7241 - val_accuracy: 0.5750\n",
            "Epoch 22/150\n",
            "32/32 [==============================] - 0s 4ms/step - loss: 0.7134 - accuracy: 0.6469 - val_loss: 0.7200 - val_accuracy: 0.5750\n",
            "Epoch 23/150\n",
            "32/32 [==============================] - 0s 4ms/step - loss: 0.7111 - accuracy: 0.6656 - val_loss: 0.7171 - val_accuracy: 0.5625\n",
            "Epoch 24/150\n",
            "32/32 [==============================] - 0s 4ms/step - loss: 0.7082 - accuracy: 0.6844 - val_loss: 0.7151 - val_accuracy: 0.5500\n",
            "Epoch 25/150\n",
            "32/32 [==============================] - 0s 4ms/step - loss: 0.7057 - accuracy: 0.7156 - val_loss: 0.7134 - val_accuracy: 0.5125\n",
            "Epoch 26/150\n",
            "32/32 [==============================] - 0s 4ms/step - loss: 0.7034 - accuracy: 0.6344 - val_loss: 0.7101 - val_accuracy: 0.5125\n",
            "Epoch 27/150\n",
            "32/32 [==============================] - 0s 4ms/step - loss: 0.7013 - accuracy: 0.6906 - val_loss: 0.7090 - val_accuracy: 0.5000\n",
            "Epoch 28/150\n",
            "32/32 [==============================] - 0s 4ms/step - loss: 0.6991 - accuracy: 0.6250 - val_loss: 0.7059 - val_accuracy: 0.5000\n",
            "Epoch 29/150\n",
            "32/32 [==============================] - 0s 3ms/step - loss: 0.6970 - accuracy: 0.6406 - val_loss: 0.7035 - val_accuracy: 0.4875\n",
            "Epoch 30/150\n",
            "32/32 [==============================] - 0s 4ms/step - loss: 0.6948 - accuracy: 0.6781 - val_loss: 0.7021 - val_accuracy: 0.4875\n",
            "Epoch 31/150\n",
            "32/32 [==============================] - 0s 4ms/step - loss: 0.6932 - accuracy: 0.6781 - val_loss: 0.7010 - val_accuracy: 0.4875\n",
            "Epoch 32/150\n",
            "32/32 [==============================] - 0s 4ms/step - loss: 0.6910 - accuracy: 0.6500 - val_loss: 0.6985 - val_accuracy: 0.4875\n",
            "Epoch 33/150\n",
            "32/32 [==============================] - 0s 4ms/step - loss: 0.6890 - accuracy: 0.6375 - val_loss: 0.6970 - val_accuracy: 0.5000\n",
            "Epoch 34/150\n",
            "32/32 [==============================] - 0s 3ms/step - loss: 0.6871 - accuracy: 0.6250 - val_loss: 0.6947 - val_accuracy: 0.5000\n",
            "Epoch 35/150\n",
            "32/32 [==============================] - 0s 3ms/step - loss: 0.6854 - accuracy: 0.6969 - val_loss: 0.6939 - val_accuracy: 0.5000\n",
            "Epoch 36/150\n",
            "32/32 [==============================] - 0s 4ms/step - loss: 0.6835 - accuracy: 0.6594 - val_loss: 0.6925 - val_accuracy: 0.5000\n",
            "Epoch 37/150\n",
            "32/32 [==============================] - 0s 4ms/step - loss: 0.6818 - accuracy: 0.6094 - val_loss: 0.6892 - val_accuracy: 0.5125\n",
            "Epoch 38/150\n",
            "32/32 [==============================] - 0s 4ms/step - loss: 0.6801 - accuracy: 0.6500 - val_loss: 0.6881 - val_accuracy: 0.5125\n",
            "Epoch 39/150\n",
            "32/32 [==============================] - 0s 4ms/step - loss: 0.6781 - accuracy: 0.6344 - val_loss: 0.6868 - val_accuracy: 0.5125\n",
            "Epoch 40/150\n",
            "32/32 [==============================] - 0s 3ms/step - loss: 0.6768 - accuracy: 0.6375 - val_loss: 0.6854 - val_accuracy: 0.5125\n",
            "Epoch 41/150\n",
            "32/32 [==============================] - 0s 2ms/step - loss: 0.6751 - accuracy: 0.6313 - val_loss: 0.6831 - val_accuracy: 0.5125\n",
            "Epoch 42/150\n",
            "32/32 [==============================] - 0s 3ms/step - loss: 0.6729 - accuracy: 0.6375 - val_loss: 0.6804 - val_accuracy: 0.5000\n",
            "Epoch 43/150\n",
            "32/32 [==============================] - 0s 3ms/step - loss: 0.6712 - accuracy: 0.6531 - val_loss: 0.6793 - val_accuracy: 0.5000\n",
            "Epoch 44/150\n",
            "32/32 [==============================] - 0s 3ms/step - loss: 0.6693 - accuracy: 0.6438 - val_loss: 0.6783 - val_accuracy: 0.5000\n",
            "Epoch 45/150\n",
            "32/32 [==============================] - 0s 3ms/step - loss: 0.6678 - accuracy: 0.6250 - val_loss: 0.6752 - val_accuracy: 0.5500\n",
            "Epoch 46/150\n",
            "32/32 [==============================] - 0s 2ms/step - loss: 0.6665 - accuracy: 0.6656 - val_loss: 0.6750 - val_accuracy: 0.5125\n",
            "Epoch 47/150\n",
            "32/32 [==============================] - 0s 3ms/step - loss: 0.6649 - accuracy: 0.6719 - val_loss: 0.6742 - val_accuracy: 0.5000\n",
            "Epoch 48/150\n",
            "32/32 [==============================] - 0s 3ms/step - loss: 0.6630 - accuracy: 0.6531 - val_loss: 0.6718 - val_accuracy: 0.5750\n",
            "Epoch 49/150\n",
            "32/32 [==============================] - 0s 2ms/step - loss: 0.6612 - accuracy: 0.6438 - val_loss: 0.6706 - val_accuracy: 0.5750\n",
            "Epoch 50/150\n",
            "32/32 [==============================] - 0s 3ms/step - loss: 0.6597 - accuracy: 0.6906 - val_loss: 0.6687 - val_accuracy: 0.6000\n",
            "Epoch 51/150\n",
            "32/32 [==============================] - 0s 3ms/step - loss: 0.6581 - accuracy: 0.7031 - val_loss: 0.6688 - val_accuracy: 0.5750\n",
            "Epoch 52/150\n",
            "32/32 [==============================] - 0s 3ms/step - loss: 0.6566 - accuracy: 0.6469 - val_loss: 0.6662 - val_accuracy: 0.6250\n",
            "Epoch 53/150\n",
            "32/32 [==============================] - 0s 2ms/step - loss: 0.6547 - accuracy: 0.6875 - val_loss: 0.6660 - val_accuracy: 0.6250\n",
            "Epoch 54/150\n",
            "32/32 [==============================] - 0s 3ms/step - loss: 0.6532 - accuracy: 0.6969 - val_loss: 0.6669 - val_accuracy: 0.5750\n",
            "Epoch 55/150\n",
            "32/32 [==============================] - 0s 2ms/step - loss: 0.6519 - accuracy: 0.6875 - val_loss: 0.6633 - val_accuracy: 0.6500\n",
            "Epoch 56/150\n",
            "32/32 [==============================] - 0s 3ms/step - loss: 0.6501 - accuracy: 0.6938 - val_loss: 0.6626 - val_accuracy: 0.6500\n",
            "Epoch 57/150\n",
            "32/32 [==============================] - 0s 2ms/step - loss: 0.6491 - accuracy: 0.6938 - val_loss: 0.6607 - val_accuracy: 0.6500\n",
            "Epoch 58/150\n",
            "32/32 [==============================] - 0s 3ms/step - loss: 0.6468 - accuracy: 0.7000 - val_loss: 0.6581 - val_accuracy: 0.6625\n",
            "Epoch 59/150\n",
            "32/32 [==============================] - 0s 3ms/step - loss: 0.6457 - accuracy: 0.7000 - val_loss: 0.6569 - val_accuracy: 0.6750\n",
            "Epoch 60/150\n",
            "32/32 [==============================] - 0s 3ms/step - loss: 0.6444 - accuracy: 0.6938 - val_loss: 0.6560 - val_accuracy: 0.6750\n",
            "Epoch 61/150\n",
            "32/32 [==============================] - 0s 3ms/step - loss: 0.6419 - accuracy: 0.6969 - val_loss: 0.6563 - val_accuracy: 0.6625\n",
            "Epoch 62/150\n",
            "32/32 [==============================] - 0s 3ms/step - loss: 0.6409 - accuracy: 0.6969 - val_loss: 0.6536 - val_accuracy: 0.6750\n",
            "Epoch 63/150\n",
            "32/32 [==============================] - 0s 2ms/step - loss: 0.6397 - accuracy: 0.6938 - val_loss: 0.6530 - val_accuracy: 0.6750\n",
            "Epoch 64/150\n",
            "32/32 [==============================] - 0s 3ms/step - loss: 0.6384 - accuracy: 0.6938 - val_loss: 0.6524 - val_accuracy: 0.6750\n",
            "Epoch 65/150\n",
            "32/32 [==============================] - 0s 3ms/step - loss: 0.6364 - accuracy: 0.6906 - val_loss: 0.6492 - val_accuracy: 0.7125\n",
            "Epoch 66/150\n",
            "32/32 [==============================] - 0s 3ms/step - loss: 0.6354 - accuracy: 0.7094 - val_loss: 0.6466 - val_accuracy: 0.7250\n",
            "Epoch 67/150\n",
            "32/32 [==============================] - 0s 3ms/step - loss: 0.6335 - accuracy: 0.7000 - val_loss: 0.6459 - val_accuracy: 0.7125\n",
            "Epoch 68/150\n",
            "32/32 [==============================] - 0s 2ms/step - loss: 0.6324 - accuracy: 0.7063 - val_loss: 0.6454 - val_accuracy: 0.7125\n",
            "Epoch 69/150\n",
            "32/32 [==============================] - 0s 3ms/step - loss: 0.6308 - accuracy: 0.7063 - val_loss: 0.6436 - val_accuracy: 0.7125\n",
            "Epoch 70/150\n",
            "32/32 [==============================] - 0s 3ms/step - loss: 0.6294 - accuracy: 0.6969 - val_loss: 0.6425 - val_accuracy: 0.7250\n",
            "Epoch 71/150\n",
            "32/32 [==============================] - 0s 3ms/step - loss: 0.6281 - accuracy: 0.6969 - val_loss: 0.6418 - val_accuracy: 0.7000\n",
            "Epoch 72/150\n",
            "32/32 [==============================] - 0s 3ms/step - loss: 0.6267 - accuracy: 0.7125 - val_loss: 0.6416 - val_accuracy: 0.7125\n",
            "Epoch 73/150\n",
            "32/32 [==============================] - 0s 3ms/step - loss: 0.6251 - accuracy: 0.7094 - val_loss: 0.6402 - val_accuracy: 0.7125\n",
            "Epoch 74/150\n",
            "32/32 [==============================] - 0s 2ms/step - loss: 0.6235 - accuracy: 0.7094 - val_loss: 0.6380 - val_accuracy: 0.7250\n",
            "Epoch 75/150\n",
            "32/32 [==============================] - 0s 3ms/step - loss: 0.6227 - accuracy: 0.7031 - val_loss: 0.6363 - val_accuracy: 0.7250\n",
            "Epoch 76/150\n",
            "32/32 [==============================] - 0s 3ms/step - loss: 0.6206 - accuracy: 0.7063 - val_loss: 0.6344 - val_accuracy: 0.7250\n",
            "Epoch 77/150\n",
            "32/32 [==============================] - 0s 3ms/step - loss: 0.6197 - accuracy: 0.7063 - val_loss: 0.6338 - val_accuracy: 0.7250\n",
            "Epoch 78/150\n",
            "32/32 [==============================] - 0s 3ms/step - loss: 0.6179 - accuracy: 0.7156 - val_loss: 0.6328 - val_accuracy: 0.7250\n",
            "Epoch 79/150\n",
            "32/32 [==============================] - 0s 3ms/step - loss: 0.6163 - accuracy: 0.7125 - val_loss: 0.6319 - val_accuracy: 0.7250\n",
            "Epoch 80/150\n",
            "32/32 [==============================] - 0s 2ms/step - loss: 0.6147 - accuracy: 0.7094 - val_loss: 0.6314 - val_accuracy: 0.7125\n",
            "Epoch 81/150\n",
            "32/32 [==============================] - 0s 3ms/step - loss: 0.6142 - accuracy: 0.7156 - val_loss: 0.6301 - val_accuracy: 0.7125\n",
            "Epoch 82/150\n",
            "32/32 [==============================] - 0s 3ms/step - loss: 0.6124 - accuracy: 0.7125 - val_loss: 0.6287 - val_accuracy: 0.7125\n",
            "Epoch 83/150\n",
            "32/32 [==============================] - 0s 3ms/step - loss: 0.6106 - accuracy: 0.7094 - val_loss: 0.6267 - val_accuracy: 0.7250\n",
            "Epoch 84/150\n",
            "32/32 [==============================] - 0s 3ms/step - loss: 0.6098 - accuracy: 0.7125 - val_loss: 0.6240 - val_accuracy: 0.7250\n",
            "Epoch 85/150\n",
            "32/32 [==============================] - 0s 3ms/step - loss: 0.6085 - accuracy: 0.7156 - val_loss: 0.6233 - val_accuracy: 0.7250\n",
            "Epoch 86/150\n",
            "32/32 [==============================] - 0s 3ms/step - loss: 0.6066 - accuracy: 0.7156 - val_loss: 0.6219 - val_accuracy: 0.7250\n",
            "Epoch 87/150\n",
            "32/32 [==============================] - 0s 2ms/step - loss: 0.6055 - accuracy: 0.7094 - val_loss: 0.6202 - val_accuracy: 0.7250\n",
            "Epoch 88/150\n",
            "32/32 [==============================] - 0s 3ms/step - loss: 0.6041 - accuracy: 0.7125 - val_loss: 0.6203 - val_accuracy: 0.7250\n",
            "Epoch 89/150\n",
            "32/32 [==============================] - 0s 3ms/step - loss: 0.6027 - accuracy: 0.7094 - val_loss: 0.6168 - val_accuracy: 0.7250\n",
            "Epoch 90/150\n",
            "32/32 [==============================] - 0s 3ms/step - loss: 0.6015 - accuracy: 0.7281 - val_loss: 0.6155 - val_accuracy: 0.7250\n",
            "Epoch 91/150\n",
            "32/32 [==============================] - 0s 3ms/step - loss: 0.6007 - accuracy: 0.7344 - val_loss: 0.6155 - val_accuracy: 0.7250\n",
            "Epoch 92/150\n",
            "32/32 [==============================] - 0s 3ms/step - loss: 0.5987 - accuracy: 0.7281 - val_loss: 0.6130 - val_accuracy: 0.7250\n",
            "Epoch 93/150\n",
            "32/32 [==============================] - 0s 3ms/step - loss: 0.5983 - accuracy: 0.7250 - val_loss: 0.6103 - val_accuracy: 0.7250\n",
            "Epoch 94/150\n",
            "32/32 [==============================] - 0s 3ms/step - loss: 0.5968 - accuracy: 0.7250 - val_loss: 0.6101 - val_accuracy: 0.7250\n",
            "Epoch 95/150\n",
            "32/32 [==============================] - 0s 3ms/step - loss: 0.5951 - accuracy: 0.7312 - val_loss: 0.6075 - val_accuracy: 0.7250\n",
            "Epoch 96/150\n",
            "32/32 [==============================] - 0s 3ms/step - loss: 0.5943 - accuracy: 0.7312 - val_loss: 0.6067 - val_accuracy: 0.7250\n",
            "Epoch 97/150\n",
            "32/32 [==============================] - 0s 3ms/step - loss: 0.5920 - accuracy: 0.7344 - val_loss: 0.6051 - val_accuracy: 0.7250\n",
            "Epoch 98/150\n",
            "32/32 [==============================] - 0s 3ms/step - loss: 0.5912 - accuracy: 0.7406 - val_loss: 0.6035 - val_accuracy: 0.7250\n",
            "Epoch 99/150\n",
            "32/32 [==============================] - 0s 3ms/step - loss: 0.5903 - accuracy: 0.7406 - val_loss: 0.6031 - val_accuracy: 0.7250\n",
            "Epoch 100/150\n",
            "32/32 [==============================] - 0s 2ms/step - loss: 0.5881 - accuracy: 0.7437 - val_loss: 0.6008 - val_accuracy: 0.7250\n",
            "Epoch 101/150\n",
            "32/32 [==============================] - 0s 3ms/step - loss: 0.5880 - accuracy: 0.7375 - val_loss: 0.5993 - val_accuracy: 0.7375\n",
            "Epoch 102/150\n",
            "32/32 [==============================] - 0s 3ms/step - loss: 0.5859 - accuracy: 0.7437 - val_loss: 0.5996 - val_accuracy: 0.7375\n",
            "Epoch 103/150\n",
            "32/32 [==============================] - 0s 3ms/step - loss: 0.5849 - accuracy: 0.7406 - val_loss: 0.5968 - val_accuracy: 0.7250\n",
            "Epoch 104/150\n",
            "32/32 [==============================] - 0s 2ms/step - loss: 0.5837 - accuracy: 0.7437 - val_loss: 0.5957 - val_accuracy: 0.7375\n",
            "Epoch 105/150\n",
            "32/32 [==============================] - 0s 3ms/step - loss: 0.5823 - accuracy: 0.7500 - val_loss: 0.5939 - val_accuracy: 0.7250\n",
            "Epoch 106/150\n",
            "32/32 [==============================] - 0s 2ms/step - loss: 0.5821 - accuracy: 0.7469 - val_loss: 0.5935 - val_accuracy: 0.7625\n",
            "Epoch 107/150\n",
            "32/32 [==============================] - 0s 3ms/step - loss: 0.5805 - accuracy: 0.7375 - val_loss: 0.5924 - val_accuracy: 0.7625\n",
            "Epoch 108/150\n",
            "32/32 [==============================] - 0s 3ms/step - loss: 0.5799 - accuracy: 0.7406 - val_loss: 0.5897 - val_accuracy: 0.7375\n",
            "Epoch 109/150\n",
            "32/32 [==============================] - 0s 3ms/step - loss: 0.5776 - accuracy: 0.7531 - val_loss: 0.5888 - val_accuracy: 0.7500\n",
            "Epoch 110/150\n",
            "32/32 [==============================] - 0s 2ms/step - loss: 0.5762 - accuracy: 0.7500 - val_loss: 0.5869 - val_accuracy: 0.7500\n",
            "Epoch 111/150\n",
            "32/32 [==============================] - 0s 3ms/step - loss: 0.5749 - accuracy: 0.7531 - val_loss: 0.5855 - val_accuracy: 0.7500\n",
            "Epoch 112/150\n",
            "32/32 [==============================] - 0s 3ms/step - loss: 0.5738 - accuracy: 0.7500 - val_loss: 0.5839 - val_accuracy: 0.7375\n",
            "Epoch 113/150\n",
            "32/32 [==============================] - 0s 3ms/step - loss: 0.5729 - accuracy: 0.7437 - val_loss: 0.5828 - val_accuracy: 0.7500\n",
            "Epoch 114/150\n",
            "32/32 [==============================] - 0s 3ms/step - loss: 0.5711 - accuracy: 0.7500 - val_loss: 0.5816 - val_accuracy: 0.7500\n",
            "Epoch 115/150\n",
            "32/32 [==============================] - 0s 3ms/step - loss: 0.5698 - accuracy: 0.7469 - val_loss: 0.5793 - val_accuracy: 0.7375\n",
            "Epoch 116/150\n",
            "32/32 [==============================] - 0s 3ms/step - loss: 0.5683 - accuracy: 0.7594 - val_loss: 0.5778 - val_accuracy: 0.7375\n",
            "Epoch 117/150\n",
            "32/32 [==============================] - 0s 3ms/step - loss: 0.5677 - accuracy: 0.7563 - val_loss: 0.5784 - val_accuracy: 0.7625\n",
            "Epoch 118/150\n",
            "32/32 [==============================] - 0s 2ms/step - loss: 0.5667 - accuracy: 0.7531 - val_loss: 0.5757 - val_accuracy: 0.7625\n",
            "Epoch 119/150\n",
            "32/32 [==============================] - 0s 2ms/step - loss: 0.5654 - accuracy: 0.7531 - val_loss: 0.5748 - val_accuracy: 0.7625\n",
            "Epoch 120/150\n",
            "32/32 [==============================] - 0s 3ms/step - loss: 0.5641 - accuracy: 0.7437 - val_loss: 0.5732 - val_accuracy: 0.7625\n",
            "Epoch 121/150\n",
            "32/32 [==============================] - 0s 3ms/step - loss: 0.5638 - accuracy: 0.7500 - val_loss: 0.5720 - val_accuracy: 0.7625\n",
            "Epoch 122/150\n",
            "32/32 [==============================] - 0s 2ms/step - loss: 0.5621 - accuracy: 0.7688 - val_loss: 0.5713 - val_accuracy: 0.7750\n",
            "Epoch 123/150\n",
            "32/32 [==============================] - 0s 3ms/step - loss: 0.5611 - accuracy: 0.7594 - val_loss: 0.5715 - val_accuracy: 0.7750\n",
            "Epoch 124/150\n",
            "32/32 [==============================] - 0s 2ms/step - loss: 0.5602 - accuracy: 0.7563 - val_loss: 0.5700 - val_accuracy: 0.7750\n",
            "Epoch 125/150\n",
            "32/32 [==============================] - 0s 3ms/step - loss: 0.5587 - accuracy: 0.7594 - val_loss: 0.5692 - val_accuracy: 0.7750\n",
            "Epoch 126/150\n",
            "32/32 [==============================] - 0s 3ms/step - loss: 0.5577 - accuracy: 0.7563 - val_loss: 0.5670 - val_accuracy: 0.7750\n",
            "Epoch 127/150\n",
            "32/32 [==============================] - 0s 2ms/step - loss: 0.5566 - accuracy: 0.7563 - val_loss: 0.5657 - val_accuracy: 0.7750\n",
            "Epoch 128/150\n",
            "32/32 [==============================] - 0s 3ms/step - loss: 0.5553 - accuracy: 0.7594 - val_loss: 0.5646 - val_accuracy: 0.7750\n",
            "Epoch 129/150\n",
            "32/32 [==============================] - 0s 2ms/step - loss: 0.5544 - accuracy: 0.7563 - val_loss: 0.5631 - val_accuracy: 0.7750\n",
            "Epoch 130/150\n",
            "32/32 [==============================] - 0s 3ms/step - loss: 0.5531 - accuracy: 0.7563 - val_loss: 0.5617 - val_accuracy: 0.7750\n",
            "Epoch 131/150\n",
            "32/32 [==============================] - 0s 3ms/step - loss: 0.5523 - accuracy: 0.7531 - val_loss: 0.5617 - val_accuracy: 0.7750\n",
            "Epoch 132/150\n",
            "32/32 [==============================] - 0s 2ms/step - loss: 0.5506 - accuracy: 0.7625 - val_loss: 0.5589 - val_accuracy: 0.7750\n",
            "Epoch 133/150\n",
            "32/32 [==============================] - 0s 2ms/step - loss: 0.5504 - accuracy: 0.7531 - val_loss: 0.5586 - val_accuracy: 0.7750\n",
            "Epoch 134/150\n",
            "32/32 [==============================] - 0s 3ms/step - loss: 0.5496 - accuracy: 0.7531 - val_loss: 0.5584 - val_accuracy: 0.7750\n",
            "Epoch 135/150\n",
            "32/32 [==============================] - 0s 3ms/step - loss: 0.5483 - accuracy: 0.7531 - val_loss: 0.5569 - val_accuracy: 0.7750\n",
            "Epoch 136/150\n",
            "32/32 [==============================] - 0s 2ms/step - loss: 0.5472 - accuracy: 0.7563 - val_loss: 0.5548 - val_accuracy: 0.7750\n",
            "Epoch 137/150\n",
            "32/32 [==============================] - 0s 2ms/step - loss: 0.5458 - accuracy: 0.7531 - val_loss: 0.5536 - val_accuracy: 0.7750\n",
            "Epoch 138/150\n",
            "32/32 [==============================] - 0s 2ms/step - loss: 0.5452 - accuracy: 0.7594 - val_loss: 0.5517 - val_accuracy: 0.7750\n",
            "Epoch 139/150\n",
            "32/32 [==============================] - 0s 3ms/step - loss: 0.5439 - accuracy: 0.7594 - val_loss: 0.5518 - val_accuracy: 0.7750\n",
            "Epoch 140/150\n",
            "32/32 [==============================] - 0s 2ms/step - loss: 0.5430 - accuracy: 0.7531 - val_loss: 0.5490 - val_accuracy: 0.7750\n",
            "Epoch 141/150\n",
            "32/32 [==============================] - 0s 3ms/step - loss: 0.5423 - accuracy: 0.7469 - val_loss: 0.5486 - val_accuracy: 0.7750\n",
            "Epoch 142/150\n",
            "32/32 [==============================] - 0s 2ms/step - loss: 0.5412 - accuracy: 0.7563 - val_loss: 0.5481 - val_accuracy: 0.7875\n",
            "Epoch 143/150\n",
            "32/32 [==============================] - 0s 3ms/step - loss: 0.5405 - accuracy: 0.7531 - val_loss: 0.5467 - val_accuracy: 0.7750\n",
            "Epoch 144/150\n",
            "32/32 [==============================] - 0s 3ms/step - loss: 0.5397 - accuracy: 0.7531 - val_loss: 0.5453 - val_accuracy: 0.7750\n",
            "Epoch 145/150\n",
            "32/32 [==============================] - 0s 3ms/step - loss: 0.5382 - accuracy: 0.7469 - val_loss: 0.5442 - val_accuracy: 0.7875\n",
            "Epoch 146/150\n",
            "32/32 [==============================] - 0s 3ms/step - loss: 0.5375 - accuracy: 0.7625 - val_loss: 0.5428 - val_accuracy: 0.7750\n",
            "Epoch 147/150\n",
            "32/32 [==============================] - 0s 4ms/step - loss: 0.5365 - accuracy: 0.7469 - val_loss: 0.5420 - val_accuracy: 0.7875\n",
            "Epoch 148/150\n",
            "32/32 [==============================] - 0s 4ms/step - loss: 0.5344 - accuracy: 0.7531 - val_loss: 0.5425 - val_accuracy: 0.7625\n",
            "Epoch 149/150\n",
            "32/32 [==============================] - 0s 4ms/step - loss: 0.5341 - accuracy: 0.7594 - val_loss: 0.5415 - val_accuracy: 0.7625\n",
            "Epoch 150/150\n",
            "32/32 [==============================] - 0s 3ms/step - loss: 0.5332 - accuracy: 0.7563 - val_loss: 0.5394 - val_accuracy: 0.7625\n"
          ]
        }
      ]
    },
    {
      "cell_type": "code",
      "source": [
        "model.layers[0].get_weights()"
      ],
      "metadata": {
        "colab": {
          "base_uri": "https://localhost:8080/"
        },
        "id": "3q5M2B6RvBpq",
        "outputId": "634904f8-9103-4809-ea4e-6dda6eed9f18"
      },
      "execution_count": 42,
      "outputs": [
        {
          "output_type": "execute_result",
          "data": {
            "text/plain": [
              "[array([[-0.8851093 , -0.5185709 ,  1.9270138 , -0.42986828, -0.26341072],\n",
              "        [-0.17780843, -0.317137  , -0.32471094, -0.9450471 , -0.38003302]],\n",
              "       dtype=float32),\n",
              " array([ 0.92077315,  0.33132613,  0.22702599, -0.1027135 ,  0.6053658 ],\n",
              "       dtype=float32)]"
            ]
          },
          "metadata": {},
          "execution_count": 42
        }
      ]
    },
    {
      "cell_type": "code",
      "source": [
        "predict = np.argmax(model.predict(x_test),axis=1) # row wise we want to get the index value of highest probability, so classification prediction done"
      ],
      "metadata": {
        "colab": {
          "base_uri": "https://localhost:8080/"
        },
        "id": "jIf8EgXWvMq_",
        "outputId": "b1e768af-fe49-483a-863e-62b6ce4c3f0d"
      },
      "execution_count": 43,
      "outputs": [
        {
          "output_type": "stream",
          "name": "stdout",
          "text": [
            "4/4 [==============================] - 0s 2ms/step\n"
          ]
        }
      ]
    },
    {
      "cell_type": "code",
      "source": [
        "accuracy_score(y_test,predict)"
      ],
      "metadata": {
        "colab": {
          "base_uri": "https://localhost:8080/"
        },
        "id": "zq8p7xRcvsEW",
        "outputId": "ea215bc5-6e6f-434d-c030-fc3475ae1803"
      },
      "execution_count": 44,
      "outputs": [
        {
          "output_type": "execute_result",
          "data": {
            "text/plain": [
              "0.74"
            ]
          },
          "metadata": {},
          "execution_count": 44
        }
      ]
    },
    {
      "cell_type": "code",
      "source": [
        "plt.plot(range(1,151),history.history[\"loss\"],label=\"train_loss\")\n",
        "plt.plot(range(1,151),history.history[\"val_loss\"],label=\"val_loss\")\n",
        "plt.legend()"
      ],
      "metadata": {
        "colab": {
          "base_uri": "https://localhost:8080/",
          "height": 447
        },
        "id": "jH0NDZ1rv2Zo",
        "outputId": "57dff046-8e23-40cf-97d0-370d56a7efe5"
      },
      "execution_count": 45,
      "outputs": [
        {
          "output_type": "execute_result",
          "data": {
            "text/plain": [
              "<matplotlib.legend.Legend at 0x786230ef7490>"
            ]
          },
          "metadata": {},
          "execution_count": 45
        },
        {
          "output_type": "display_data",
          "data": {
            "text/plain": [
              "<Figure size 640x480 with 1 Axes>"
            ],
            "image/png": "[encoded data removed]"
          },
          "metadata": {}
        }
      ]
    },
    {
      "cell_type": "code",
      "source": [
        "plot_decision_regions(x_train,y_train.values,clf=model,legend=2)"
      ],
      "metadata": {
        "colab": {
          "base_uri": "https://localhost:8080/",
          "height": 739
        },
        "id": "hDGH83_HwZND",
        "outputId": "2c3be781-2c79-46d1-e783-dd5413f8862a"
      },
      "execution_count": 47,
      "outputs": [
        {
          "output_type": "stream",
          "name": "stdout",
          "text": [
            "9600/9600 [==============================] - 14s 1ms/step\n"
          ]
        },
        {
          "output_type": "error",
          "ename": "ValueError",
          "evalue": "ignored",
          "traceback": [
            "\u001b[0;31m---------------------------------------------------------------------------\u001b[0m",
            "\u001b[0;31mValueError\u001b[0m                                Traceback (most recent call last)",
            "\u001b[0;32m<ipython-input-47-bff7cec86e82>\u001b[0m in \u001b[0;36m<cell line: 1>\u001b[0;34m()\u001b[0m\n\u001b[0;32m----> 1\u001b[0;31m \u001b[0mplot_decision_regions\u001b[0m\u001b[0;34m(\u001b[0m\u001b[0mx_train\u001b[0m\u001b[0;34m,\u001b[0m\u001b[0my_train\u001b[0m\u001b[0;34m.\u001b[0m\u001b[0mvalues\u001b[0m\u001b[0;34m,\u001b[0m\u001b[0mclf\u001b[0m\u001b[0;34m=\u001b[0m\u001b[0mmodel\u001b[0m\u001b[0;34m,\u001b[0m\u001b[0mlegend\u001b[0m\u001b[0;34m=\u001b[0m\u001b[0;36m2\u001b[0m\u001b[0;34m)\u001b[0m\u001b[0;34m\u001b[0m\u001b[0;34m\u001b[0m\u001b[0m\n\u001b[0m",
            "\u001b[0;32m/usr/local/lib/python3.10/dist-packages/mlxtend/plotting/decision_regions.py\u001b[0m in \u001b[0;36mplot_decision_regions\u001b[0;34m(X, y, clf, feature_index, filler_feature_values, filler_feature_ranges, ax, X_highlight, zoom_factor, legend, hide_spines, markers, colors, scatter_kwargs, contourf_kwargs, contour_kwargs, scatter_highlight_kwargs, n_jobs)\u001b[0m\n\u001b[1;32m    274\u001b[0m     \u001b[0;32mif\u001b[0m \u001b[0mn_jobs\u001b[0m \u001b[0;34m==\u001b[0m \u001b[0;36m1\u001b[0m\u001b[0;34m:\u001b[0m\u001b[0;34m\u001b[0m\u001b[0;34m\u001b[0m\u001b[0m\n\u001b[1;32m    275\u001b[0m         \u001b[0mZ\u001b[0m \u001b[0;34m=\u001b[0m \u001b[0mclf\u001b[0m\u001b[0;34m.\u001b[0m\u001b[0mpredict\u001b[0m\u001b[0;34m(\u001b[0m\u001b[0mX_predict\u001b[0m\u001b[0;34m.\u001b[0m\u001b[0mastype\u001b[0m\u001b[0;34m(\u001b[0m\u001b[0mX\u001b[0m\u001b[0;34m.\u001b[0m\u001b[0mdtype\u001b[0m\u001b[0;34m)\u001b[0m\u001b[0;34m)\u001b[0m\u001b[0;34m\u001b[0m\u001b[0;34m\u001b[0m\u001b[0m\n\u001b[0;32m--> 276\u001b[0;31m         \u001b[0mZ\u001b[0m \u001b[0;34m=\u001b[0m \u001b[0mZ\u001b[0m\u001b[0;34m.\u001b[0m\u001b[0mreshape\u001b[0m\u001b[0;34m(\u001b[0m\u001b[0mxx\u001b[0m\u001b[0;34m.\u001b[0m\u001b[0mshape\u001b[0m\u001b[0;34m)\u001b[0m\u001b[0;34m\u001b[0m\u001b[0;34m\u001b[0m\u001b[0m\n\u001b[0m\u001b[1;32m    277\u001b[0m     \u001b[0;32melse\u001b[0m\u001b[0;34m:\u001b[0m\u001b[0;34m\u001b[0m\u001b[0;34m\u001b[0m\u001b[0m\n\u001b[1;32m    278\u001b[0m         \u001b[0;32mif\u001b[0m \u001b[0mn_jobs\u001b[0m \u001b[0;34m==\u001b[0m \u001b[0;34m-\u001b[0m\u001b[0;36m1\u001b[0m\u001b[0;34m:\u001b[0m\u001b[0;34m\u001b[0m\u001b[0;34m\u001b[0m\u001b[0m\n",
            "\u001b[0;31mValueError\u001b[0m: cannot reshape array of size 921600 into shape (480,640)"
          ]
        },
        {
          "output_type": "display_data",
          "data": {
            "text/plain": [
              "<Figure size 640x480 with 1 Axes>"
            ],
            "image/png": "[encoded data removed]"
          },
          "metadata": {}
        }
      ]
    },
    {
      "cell_type": "code",
      "source": [],
      "metadata": {
        "id": "31w9zKDbwrgn"
      },
      "execution_count": null,
      "outputs": []
    }
  ]
}