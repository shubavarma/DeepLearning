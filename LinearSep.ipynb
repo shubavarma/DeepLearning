{
  "nbformat": 4,
  "nbformat_minor": 0,
  "metadata": {
    "colab": {
      "provenance": [],
      "mount_file_id": "1kMm_jkcCnTdR5uZL9PckXe3kMRLqJT6I",
      "authorship_tag": "ABX9TyPaVdJkA7BbtFYtwOyRVm+5",
      "include_colab_link": true
    },
    "kernelspec": {
      "name": "python3",
      "display_name": "Python 3"
    },
    "language_info": {
      "name": "python"
    }
  },
  "cells": [
    {
      "cell_type": "markdown",
      "metadata": {
        "id": "view-in-github",
        "colab_type": "text"
      },
      "source": [
        "<a href=\"https://colab.research.google.com/github/shubavarma/DeepLearning/blob/main/LinearSep.ipynb\" target=\"_parent\"><img src=\"https://colab.research.google.com/assets/colab-badge.svg\" alt=\"Open In Colab\"/></a>"
      ]
    },
    {
      "cell_type": "code",
      "execution_count": 1,
      "metadata": {
        "id": "6fN0aA2IPav9"
      },
      "outputs": [],
      "source": [
        "import tensorflow\n",
        "import tensorflow.keras\n",
        "import pandas as pd\n",
        "import matplotlib.pyplot as plt\n",
        "import numpy as np\n",
        "from keras.models import Sequential\n",
        "from keras.layers import Dense\n",
        "from sklearn.model_selection import train_test_split\n",
        "from sklearn.preprocessing import StandardScaler\n",
        "from sklearn.metrics import accuracy_score\n",
        "from mlxtend.plotting import plot_decision_regions"
      ]
    },
    {
      "cell_type": "code",
      "source": [
        "# from google.colab import drive\n",
        "# drive.mount('/content/drive')"
      ],
      "metadata": {
        "id": "YOJySWFLP4UL"
      },
      "execution_count": 2,
      "outputs": []
    },
    {
      "cell_type": "code",
      "source": [
        "data=pd.read_csv(\"/content/drive/MyDrive/Colab Notebooks/DLdatasets/4.linearsep.csv\",header=None)"
      ],
      "metadata": {
        "id": "0qDbTtw6T9fU"
      },
      "execution_count": 3,
      "outputs": []
    },
    {
      "cell_type": "code",
      "source": [
        "data.head()"
      ],
      "metadata": {
        "colab": {
          "base_uri": "https://localhost:8080/",
          "height": 206
        },
        "id": "oTTcH3eKW_Hh",
        "outputId": "6f464960-e93c-40de-8759-58f4690ffedf"
      },
      "execution_count": 4,
      "outputs": [
        {
          "output_type": "execute_result",
          "data": {
            "text/plain": [
              "          0         1    2\n",
              "0 -0.177497  0.930496  1.0\n",
              "1  1.977424  1.766155  0.0\n",
              "2  1.800024  1.700343  0.0\n",
              "3 -0.770837  2.359163  1.0\n",
              "4 -0.308009  1.594063  1.0"
            ],
            "text/html": [
              "\n",
              "\n",
              "  <div id=\"df-aeb68f8b-8fae-4986-aab7-77a39783fca5\">\n",
              "    <div class=\"colab-df-container\">\n",
              "      <div>\n",
              "<style scoped>\n",
              "    .dataframe tbody tr th:only-of-type {\n",
              "        vertical-align: middle;\n",
              "    }\n",
              "\n",
              "    .dataframe tbody tr th {\n",
              "        vertical-align: top;\n",
              "    }\n",
              "\n",
              "    .dataframe thead th {\n",
              "        text-align: right;\n",
              "    }\n",
              "</style>\n",
              "<table border=\"1\" class=\"dataframe\">\n",
              "  <thead>\n",
              "    <tr style=\"text-align: right;\">\n",
              "      <th></th>\n",
              "      <th>0</th>\n",
              "      <th>1</th>\n",
              "      <th>2</th>\n",
              "    </tr>\n",
              "  </thead>\n",
              "  <tbody>\n",
              "    <tr>\n",
              "      <th>0</th>\n",
              "      <td>-0.177497</td>\n",
              "      <td>0.930496</td>\n",
              "      <td>1.0</td>\n",
              "    </tr>\n",
              "    <tr>\n",
              "      <th>1</th>\n",
              "      <td>1.977424</td>\n",
              "      <td>1.766155</td>\n",
              "      <td>0.0</td>\n",
              "    </tr>\n",
              "    <tr>\n",
              "      <th>2</th>\n",
              "      <td>1.800024</td>\n",
              "      <td>1.700343</td>\n",
              "      <td>0.0</td>\n",
              "    </tr>\n",
              "    <tr>\n",
              "      <th>3</th>\n",
              "      <td>-0.770837</td>\n",
              "      <td>2.359163</td>\n",
              "      <td>1.0</td>\n",
              "    </tr>\n",
              "    <tr>\n",
              "      <th>4</th>\n",
              "      <td>-0.308009</td>\n",
              "      <td>1.594063</td>\n",
              "      <td>1.0</td>\n",
              "    </tr>\n",
              "  </tbody>\n",
              "</table>\n",
              "</div>\n",
              "      <button class=\"colab-df-convert\" onclick=\"convertToInteractive('df-aeb68f8b-8fae-4986-aab7-77a39783fca5')\"\n",
              "              title=\"Convert this dataframe to an interactive table.\"\n",
              "              style=\"display:none;\">\n",
              "\n",
              "  <svg xmlns=\"http://www.w3.org/2000/svg\" height=\"24px\"viewBox=\"0 0 24 24\"\n",
              "       width=\"24px\">\n",
              "    <path d=\"M0 0h24v24H0V0z\" fill=\"none\"/>\n",
              "    <path d=\"M18.56 5.44l.94 2.06.94-2.06 2.06-.94-2.06-.94-.94-2.06-.94 2.06-2.06.94zm-11 1L8.5 8.5l.94-2.06 2.06-.94-2.06-.94L8.5 2.5l-.94 2.06-2.06.94zm10 10l.94 2.06.94-2.06 2.06-.94-2.06-.94-.94-2.06-.94 2.06-2.06.94z\"/><path d=\"M17.41 7.96l-1.37-1.37c-.4-.4-.92-.59-1.43-.59-.52 0-1.04.2-1.43.59L10.3 9.45l-7.72 7.72c-.78.78-.78 2.05 0 2.83L4 21.41c.39.39.9.59 1.41.59.51 0 1.02-.2 1.41-.59l7.78-7.78 2.81-2.81c.8-.78.8-2.07 0-2.86zM5.41 20L4 18.59l7.72-7.72 1.47 1.35L5.41 20z\"/>\n",
              "  </svg>\n",
              "      </button>\n",
              "\n",
              "\n",
              "\n",
              "    <div id=\"df-88d72e31-2aa3-4240-a61b-6adc20e944c1\">\n",
              "      <button class=\"colab-df-quickchart\" onclick=\"quickchart('df-88d72e31-2aa3-4240-a61b-6adc20e944c1')\"\n",
              "              title=\"Suggest charts.\"\n",
              "              style=\"display:none;\">\n",
              "\n",
              "<svg xmlns=\"http://www.w3.org/2000/svg\" height=\"24px\"viewBox=\"0 0 24 24\"\n",
              "     width=\"24px\">\n",
              "    <g>\n",
              "        <path d=\"M19 3H5c-1.1 0-2 .9-2 2v14c0 1.1.9 2 2 2h14c1.1 0 2-.9 2-2V5c0-1.1-.9-2-2-2zM9 17H7v-7h2v7zm4 0h-2V7h2v10zm4 0h-2v-4h2v4z\"/>\n",
              "    </g>\n",
              "</svg>\n",
              "      </button>\n",
              "    </div>\n",
              "\n",
              "<style>\n",
              "  .colab-df-quickchart {\n",
              "    background-color: #E8F0FE;\n",
              "    border: none;\n",
              "    border-radius: 50%;\n",
              "    cursor: pointer;\n",
              "    display: none;\n",
              "    fill: #1967D2;\n",
              "    height: 32px;\n",
              "    padding: 0 0 0 0;\n",
              "    width: 32px;\n",
              "  }\n",
              "\n",
              "  .colab-df-quickchart:hover {\n",
              "    background-color: #E2EBFA;\n",
              "    box-shadow: 0px 1px 2px rgba(60, 64, 67, 0.3), 0px 1px 3px 1px rgba(60, 64, 67, 0.15);\n",
              "    fill: #174EA6;\n",
              "  }\n",
              "\n",
              "  [theme=dark] .colab-df-quickchart {\n",
              "    background-color: #3B4455;\n",
              "    fill: #D2E3FC;\n",
              "  }\n",
              "\n",
              "  [theme=dark] .colab-df-quickchart:hover {\n",
              "    background-color: #434B5C;\n",
              "    box-shadow: 0px 1px 3px 1px rgba(0, 0, 0, 0.15);\n",
              "    filter: drop-shadow(0px 1px 2px rgba(0, 0, 0, 0.3));\n",
              "    fill: #FFFFFF;\n",
              "  }\n",
              "</style>\n",
              "\n",
              "    <script>\n",
              "      async function quickchart(key) {\n",
              "        const containerElement = document.querySelector('#' + key);\n",
              "        const charts = await google.colab.kernel.invokeFunction(\n",
              "            'suggestCharts', [key], {});\n",
              "      }\n",
              "    </script>\n",
              "\n",
              "      <script>\n",
              "\n",
              "function displayQuickchartButton(domScope) {\n",
              "  let quickchartButtonEl =\n",
              "    domScope.querySelector('#df-88d72e31-2aa3-4240-a61b-6adc20e944c1 button.colab-df-quickchart');\n",
              "  quickchartButtonEl.style.display =\n",
              "    google.colab.kernel.accessAllowed ? 'block' : 'none';\n",
              "}\n",
              "\n",
              "        displayQuickchartButton(document);\n",
              "      </script>\n",
              "      <style>\n",
              "    .colab-df-container {\n",
              "      display:flex;\n",
              "      flex-wrap:wrap;\n",
              "      gap: 12px;\n",
              "    }\n",
              "\n",
              "    .colab-df-convert {\n",
              "      background-color: #E8F0FE;\n",
              "      border: none;\n",
              "      border-radius: 50%;\n",
              "      cursor: pointer;\n",
              "      display: none;\n",
              "      fill: #1967D2;\n",
              "      height: 32px;\n",
              "      padding: 0 0 0 0;\n",
              "      width: 32px;\n",
              "    }\n",
              "\n",
              "    .colab-df-convert:hover {\n",
              "      background-color: #E2EBFA;\n",
              "      box-shadow: 0px 1px 2px rgba(60, 64, 67, 0.3), 0px 1px 3px 1px rgba(60, 64, 67, 0.15);\n",
              "      fill: #174EA6;\n",
              "    }\n",
              "\n",
              "    [theme=dark] .colab-df-convert {\n",
              "      background-color: #3B4455;\n",
              "      fill: #D2E3FC;\n",
              "    }\n",
              "\n",
              "    [theme=dark] .colab-df-convert:hover {\n",
              "      background-color: #434B5C;\n",
              "      box-shadow: 0px 1px 3px 1px rgba(0, 0, 0, 0.15);\n",
              "      filter: drop-shadow(0px 1px 2px rgba(0, 0, 0, 0.3));\n",
              "      fill: #FFFFFF;\n",
              "    }\n",
              "  </style>\n",
              "\n",
              "      <script>\n",
              "        const buttonEl =\n",
              "          document.querySelector('#df-aeb68f8b-8fae-4986-aab7-77a39783fca5 button.colab-df-convert');\n",
              "        buttonEl.style.display =\n",
              "          google.colab.kernel.accessAllowed ? 'block' : 'none';\n",
              "\n",
              "        async function convertToInteractive(key) {\n",
              "          const element = document.querySelector('#df-aeb68f8b-8fae-4986-aab7-77a39783fca5');\n",
              "          const dataTable =\n",
              "            await google.colab.kernel.invokeFunction('convertToInteractive',\n",
              "                                                     [key], {});\n",
              "          if (!dataTable) return;\n",
              "\n",
              "          const docLinkHtml = 'Like what you see? Visit the ' +\n",
              "            '<a target=\"_blank\" href=https://colab.research.google.com/notebooks/data_table.ipynb>data table notebook</a>'\n",
              "            + ' to learn more about interactive tables.';\n",
              "          element.innerHTML = '';\n",
              "          dataTable['output_type'] = 'display_data';\n",
              "          await google.colab.output.renderOutput(dataTable, element);\n",
              "          const docLink = document.createElement('div');\n",
              "          docLink.innerHTML = docLinkHtml;\n",
              "          element.appendChild(docLink);\n",
              "        }\n",
              "      </script>\n",
              "    </div>\n",
              "  </div>\n"
            ]
          },
          "metadata": {},
          "execution_count": 4
        }
      ]
    },
    {
      "cell_type": "code",
      "source": [
        "data.shape"
      ],
      "metadata": {
        "colab": {
          "base_uri": "https://localhost:8080/"
        },
        "id": "942WjU5BXP60",
        "outputId": "920cc26e-7a1e-4b22-82d4-25e004da370e"
      },
      "execution_count": 5,
      "outputs": [
        {
          "output_type": "execute_result",
          "data": {
            "text/plain": [
              "(100, 3)"
            ]
          },
          "metadata": {},
          "execution_count": 5
        }
      ]
    },
    {
      "cell_type": "code",
      "source": [
        "data[2].value_counts()"
      ],
      "metadata": {
        "colab": {
          "base_uri": "https://localhost:8080/"
        },
        "id": "-gbUqORDXRyO",
        "outputId": "9f2b4bad-3778-4df6-f570-329e5d3b7552"
      },
      "execution_count": 6,
      "outputs": [
        {
          "output_type": "execute_result",
          "data": {
            "text/plain": [
              "1.0    50\n",
              "0.0    50\n",
              "Name: 2, dtype: int64"
            ]
          },
          "metadata": {},
          "execution_count": 6
        }
      ]
    },
    {
      "cell_type": "code",
      "source": [
        "plt.boxplot(data)"
      ],
      "metadata": {
        "colab": {
          "base_uri": "https://localhost:8080/",
          "height": 812
        },
        "id": "PVfY2CZHDFCh",
        "outputId": "ffb7413a-031c-434a-abe4-e79bab683209"
      },
      "execution_count": 7,
      "outputs": [
        {
          "output_type": "execute_result",
          "data": {
            "text/plain": [
              "{'whiskers': [<matplotlib.lines.Line2D at 0x7c732d14a4d0>,\n",
              "  <matplotlib.lines.Line2D at 0x7c732d14a770>,\n",
              "  <matplotlib.lines.Line2D at 0x7c732d14b760>,\n",
              "  <matplotlib.lines.Line2D at 0x7c732d14ba00>,\n",
              "  <matplotlib.lines.Line2D at 0x7c732cfa4a00>,\n",
              "  <matplotlib.lines.Line2D at 0x7c732cfa4ca0>],\n",
              " 'caps': [<matplotlib.lines.Line2D at 0x7c732d14aa10>,\n",
              "  <matplotlib.lines.Line2D at 0x7c732d14acb0>,\n",
              "  <matplotlib.lines.Line2D at 0x7c732d14bca0>,\n",
              "  <matplotlib.lines.Line2D at 0x7c732d14bf40>,\n",
              "  <matplotlib.lines.Line2D at 0x7c732cfa4f40>,\n",
              "  <matplotlib.lines.Line2D at 0x7c732cfa51e0>],\n",
              " 'boxes': [<matplotlib.lines.Line2D at 0x7c732d14a230>,\n",
              "  <matplotlib.lines.Line2D at 0x7c732d14b4c0>,\n",
              "  <matplotlib.lines.Line2D at 0x7c732cfa4760>],\n",
              " 'medians': [<matplotlib.lines.Line2D at 0x7c732d14af50>,\n",
              "  <matplotlib.lines.Line2D at 0x7c732cfa4220>,\n",
              "  <matplotlib.lines.Line2D at 0x7c732cfa5480>],\n",
              " 'fliers': [<matplotlib.lines.Line2D at 0x7c732d14b1f0>,\n",
              "  <matplotlib.lines.Line2D at 0x7c732cfa44c0>,\n",
              "  <matplotlib.lines.Line2D at 0x7c732cfa5720>],\n",
              " 'means': []}"
            ]
          },
          "metadata": {},
          "execution_count": 7
        },
        {
          "output_type": "display_data",
          "data": {
            "text/plain": [
              "<Figure size 640x480 with 1 Axes>"
            ],
            "image/png": "[encoded data removed]"
          },
          "metadata": {}
        }
      ]
    },
    {
      "cell_type": "markdown",
      "source": [
        "some outliers"
      ],
      "metadata": {
        "id": "qDtbPAYTDHir"
      }
    },
    {
      "cell_type": "code",
      "source": [
        "x_train,x_test,y_train,y_test=train_test_split(data[[0,1]],data[2],test_size=0.1)"
      ],
      "metadata": {
        "id": "jBN86dABXUQc"
      },
      "execution_count": 8,
      "outputs": []
    },
    {
      "cell_type": "code",
      "source": [
        "std=StandardScaler()\n",
        "x_train=std.fit_transform(x_train)\n",
        "x_test=std.transform(x_test)"
      ],
      "metadata": {
        "id": "rPU7qEfpXcu-"
      },
      "execution_count": 9,
      "outputs": []
    },
    {
      "cell_type": "code",
      "source": [
        "# code to visualize the data\n",
        "data.columns = [\"one\",\"two\",\"three\"]\n",
        "import seaborn as sns\n",
        "sns.scatterplot(data=data, x=\"one\",y=\"two\",hue=\"three\")\n",
        "plt.legend()"
      ],
      "metadata": {
        "colab": {
          "base_uri": "https://localhost:8080/",
          "height": 466
        },
        "id": "te_IToNIDCR3",
        "outputId": "80f6689b-98ec-44d1-9bfc-d5959bc7108c"
      },
      "execution_count": 10,
      "outputs": [
        {
          "output_type": "execute_result",
          "data": {
            "text/plain": [
              "<matplotlib.legend.Legend at 0x7c732d0ec100>"
            ]
          },
          "metadata": {},
          "execution_count": 10
        },
        {
          "output_type": "display_data",
          "data": {
            "text/plain": [
              "<Figure size 640x480 with 1 Axes>"
            ],
            "image/png": "[encoded data removed]"
          },
          "metadata": {}
        }
      ]
    },
    {
      "cell_type": "code",
      "source": [
        "model=Sequential()\n",
        "model.add(Dense(11,activation=\"sigmoid\",input_dim=2))\n",
        "model.add(Dense(1,activation=\"sigmoid\"))"
      ],
      "metadata": {
        "id": "RgvHYgDzXgm_"
      },
      "execution_count": 11,
      "outputs": []
    },
    {
      "cell_type": "code",
      "source": [
        "model.summary()"
      ],
      "metadata": {
        "colab": {
          "base_uri": "https://localhost:8080/"
        },
        "id": "GQY_icRVXjX_",
        "outputId": "4976ea03-48ba-4082-83a2-b92d90f3cfe7"
      },
      "execution_count": 12,
      "outputs": [
        {
          "output_type": "stream",
          "name": "stdout",
          "text": [
            "Model: \"sequential\"\n",
            "_________________________________________________________________\n",
            " Layer (type)                Output Shape              Param #   \n",
            "=================================================================\n",
            " dense (Dense)               (None, 11)                33        \n",
            "                                                                 \n",
            " dense_1 (Dense)             (None, 1)                 12        \n",
            "                                                                 \n",
            "=================================================================\n",
            "Total params: 45\n",
            "Trainable params: 45\n",
            "Non-trainable params: 0\n",
            "_________________________________________________________________\n"
          ]
        }
      ]
    },
    {
      "cell_type": "code",
      "source": [
        "model.compile(optimizer=\"sgd\",loss=\"binary_crossentropy\",metrics=[\"accuracy\"])"
      ],
      "metadata": {
        "id": "shk0S5qYXmVg"
      },
      "execution_count": 13,
      "outputs": []
    },
    {
      "cell_type": "code",
      "source": [
        "history=model.fit(x_train,y_train,epochs=50,batch_size=1,validation_split=0.2)"
      ],
      "metadata": {
        "colab": {
          "base_uri": "https://localhost:8080/"
        },
        "id": "cbg7ec6OXpa3",
        "outputId": "92047cca-9a63-4001-9aa6-08f820d21ca8"
      },
      "execution_count": 14,
      "outputs": [
        {
          "output_type": "stream",
          "name": "stdout",
          "text": [
            "Epoch 1/50\n",
            "72/72 [==============================] - 3s 22ms/step - loss: 0.7011 - accuracy: 0.5278 - val_loss: 0.7104 - val_accuracy: 0.3889\n",
            "Epoch 2/50\n",
            "72/72 [==============================] - 1s 10ms/step - loss: 0.6488 - accuracy: 0.5278 - val_loss: 0.6515 - val_accuracy: 0.6667\n",
            "Epoch 3/50\n",
            "72/72 [==============================] - 1s 8ms/step - loss: 0.6227 - accuracy: 0.7917 - val_loss: 0.6205 - val_accuracy: 0.7222\n",
            "Epoch 4/50\n",
            "72/72 [==============================] - 1s 10ms/step - loss: 0.6026 - accuracy: 0.8472 - val_loss: 0.5935 - val_accuracy: 0.8333\n",
            "Epoch 5/50\n",
            "72/72 [==============================] - 1s 12ms/step - loss: 0.5826 - accuracy: 0.8333 - val_loss: 0.5664 - val_accuracy: 0.9444\n",
            "Epoch 6/50\n",
            "72/72 [==============================] - 0s 6ms/step - loss: 0.5653 - accuracy: 0.9306 - val_loss: 0.5503 - val_accuracy: 0.9444\n",
            "Epoch 7/50\n",
            "72/72 [==============================] - 0s 4ms/step - loss: 0.5470 - accuracy: 0.9167 - val_loss: 0.5297 - val_accuracy: 1.0000\n",
            "Epoch 8/50\n",
            "72/72 [==============================] - 0s 6ms/step - loss: 0.5289 - accuracy: 0.9306 - val_loss: 0.5126 - val_accuracy: 1.0000\n",
            "Epoch 9/50\n",
            "72/72 [==============================] - 0s 5ms/step - loss: 0.5108 - accuracy: 0.9583 - val_loss: 0.4939 - val_accuracy: 1.0000\n",
            "Epoch 10/50\n",
            "72/72 [==============================] - 0s 4ms/step - loss: 0.4931 - accuracy: 0.9444 - val_loss: 0.4752 - val_accuracy: 1.0000\n",
            "Epoch 11/50\n",
            "72/72 [==============================] - 1s 8ms/step - loss: 0.4755 - accuracy: 0.9444 - val_loss: 0.4567 - val_accuracy: 1.0000\n",
            "Epoch 12/50\n",
            "72/72 [==============================] - 0s 6ms/step - loss: 0.4583 - accuracy: 0.9583 - val_loss: 0.4423 - val_accuracy: 1.0000\n",
            "Epoch 13/50\n",
            "72/72 [==============================] - 0s 6ms/step - loss: 0.4415 - accuracy: 0.9306 - val_loss: 0.4268 - val_accuracy: 1.0000\n",
            "Epoch 14/50\n",
            "72/72 [==============================] - 0s 5ms/step - loss: 0.4257 - accuracy: 0.9722 - val_loss: 0.4101 - val_accuracy: 1.0000\n",
            "Epoch 15/50\n",
            "72/72 [==============================] - 0s 5ms/step - loss: 0.4096 - accuracy: 0.9306 - val_loss: 0.3921 - val_accuracy: 1.0000\n",
            "Epoch 16/50\n",
            "72/72 [==============================] - 0s 6ms/step - loss: 0.3950 - accuracy: 0.9444 - val_loss: 0.3773 - val_accuracy: 1.0000\n",
            "Epoch 17/50\n",
            "72/72 [==============================] - 0s 5ms/step - loss: 0.3808 - accuracy: 0.9444 - val_loss: 0.3644 - val_accuracy: 1.0000\n",
            "Epoch 18/50\n",
            "72/72 [==============================] - 0s 4ms/step - loss: 0.3670 - accuracy: 0.9583 - val_loss: 0.3502 - val_accuracy: 1.0000\n",
            "Epoch 19/50\n",
            "72/72 [==============================] - 0s 6ms/step - loss: 0.3540 - accuracy: 0.9583 - val_loss: 0.3399 - val_accuracy: 1.0000\n",
            "Epoch 20/50\n",
            "72/72 [==============================] - 0s 5ms/step - loss: 0.3418 - accuracy: 0.9444 - val_loss: 0.3277 - val_accuracy: 1.0000\n",
            "Epoch 21/50\n",
            "72/72 [==============================] - 0s 4ms/step - loss: 0.3302 - accuracy: 0.9583 - val_loss: 0.3167 - val_accuracy: 1.0000\n",
            "Epoch 22/50\n",
            "72/72 [==============================] - 0s 5ms/step - loss: 0.3192 - accuracy: 0.9583 - val_loss: 0.3057 - val_accuracy: 1.0000\n",
            "Epoch 23/50\n",
            "72/72 [==============================] - 0s 5ms/step - loss: 0.3087 - accuracy: 0.9583 - val_loss: 0.2957 - val_accuracy: 1.0000\n",
            "Epoch 24/50\n",
            "72/72 [==============================] - 0s 6ms/step - loss: 0.2986 - accuracy: 0.9583 - val_loss: 0.2878 - val_accuracy: 1.0000\n",
            "Epoch 25/50\n",
            "72/72 [==============================] - 0s 5ms/step - loss: 0.2895 - accuracy: 0.9583 - val_loss: 0.2792 - val_accuracy: 1.0000\n",
            "Epoch 26/50\n",
            "72/72 [==============================] - 1s 11ms/step - loss: 0.2802 - accuracy: 0.9444 - val_loss: 0.2677 - val_accuracy: 1.0000\n",
            "Epoch 27/50\n",
            "72/72 [==============================] - 1s 8ms/step - loss: 0.2727 - accuracy: 0.9444 - val_loss: 0.2598 - val_accuracy: 1.0000\n",
            "Epoch 28/50\n",
            "72/72 [==============================] - 1s 7ms/step - loss: 0.2649 - accuracy: 0.9583 - val_loss: 0.2534 - val_accuracy: 1.0000\n",
            "Epoch 29/50\n",
            "72/72 [==============================] - 0s 4ms/step - loss: 0.2573 - accuracy: 0.9583 - val_loss: 0.2454 - val_accuracy: 1.0000\n",
            "Epoch 30/50\n",
            "72/72 [==============================] - 1s 12ms/step - loss: 0.2503 - accuracy: 0.9583 - val_loss: 0.2410 - val_accuracy: 1.0000\n",
            "Epoch 31/50\n",
            "72/72 [==============================] - 1s 15ms/step - loss: 0.2442 - accuracy: 0.9583 - val_loss: 0.2352 - val_accuracy: 1.0000\n",
            "Epoch 32/50\n",
            "72/72 [==============================] - 1s 13ms/step - loss: 0.2380 - accuracy: 0.9583 - val_loss: 0.2290 - val_accuracy: 1.0000\n",
            "Epoch 33/50\n",
            "72/72 [==============================] - 1s 9ms/step - loss: 0.2320 - accuracy: 0.9444 - val_loss: 0.2224 - val_accuracy: 1.0000\n",
            "Epoch 34/50\n",
            "72/72 [==============================] - 1s 10ms/step - loss: 0.2267 - accuracy: 0.9583 - val_loss: 0.2179 - val_accuracy: 1.0000\n",
            "Epoch 35/50\n",
            "72/72 [==============================] - 0s 7ms/step - loss: 0.2215 - accuracy: 0.9444 - val_loss: 0.2132 - val_accuracy: 1.0000\n",
            "Epoch 36/50\n",
            "72/72 [==============================] - 1s 9ms/step - loss: 0.2166 - accuracy: 0.9583 - val_loss: 0.2090 - val_accuracy: 1.0000\n",
            "Epoch 37/50\n",
            "72/72 [==============================] - 1s 8ms/step - loss: 0.2119 - accuracy: 0.9583 - val_loss: 0.2053 - val_accuracy: 1.0000\n",
            "Epoch 38/50\n",
            "72/72 [==============================] - 0s 5ms/step - loss: 0.2075 - accuracy: 0.9583 - val_loss: 0.2018 - val_accuracy: 1.0000\n",
            "Epoch 39/50\n",
            "72/72 [==============================] - 0s 4ms/step - loss: 0.2035 - accuracy: 0.9583 - val_loss: 0.1975 - val_accuracy: 1.0000\n",
            "Epoch 40/50\n",
            "72/72 [==============================] - 1s 7ms/step - loss: 0.1995 - accuracy: 0.9583 - val_loss: 0.1934 - val_accuracy: 1.0000\n",
            "Epoch 41/50\n",
            "72/72 [==============================] - 0s 4ms/step - loss: 0.1955 - accuracy: 0.9583 - val_loss: 0.1887 - val_accuracy: 1.0000\n",
            "Epoch 42/50\n",
            "72/72 [==============================] - 0s 4ms/step - loss: 0.1921 - accuracy: 0.9583 - val_loss: 0.1859 - val_accuracy: 1.0000\n",
            "Epoch 43/50\n",
            "72/72 [==============================] - 0s 6ms/step - loss: 0.1886 - accuracy: 0.9583 - val_loss: 0.1833 - val_accuracy: 1.0000\n",
            "Epoch 44/50\n",
            "72/72 [==============================] - 0s 4ms/step - loss: 0.1855 - accuracy: 0.9444 - val_loss: 0.1793 - val_accuracy: 1.0000\n",
            "Epoch 45/50\n",
            "72/72 [==============================] - 0s 5ms/step - loss: 0.1824 - accuracy: 0.9444 - val_loss: 0.1758 - val_accuracy: 1.0000\n",
            "Epoch 46/50\n",
            "72/72 [==============================] - 0s 4ms/step - loss: 0.1795 - accuracy: 0.9444 - val_loss: 0.1728 - val_accuracy: 1.0000\n",
            "Epoch 47/50\n",
            "72/72 [==============================] - 0s 3ms/step - loss: 0.1766 - accuracy: 0.9583 - val_loss: 0.1707 - val_accuracy: 1.0000\n",
            "Epoch 48/50\n",
            "72/72 [==============================] - 0s 4ms/step - loss: 0.1740 - accuracy: 0.9444 - val_loss: 0.1679 - val_accuracy: 1.0000\n",
            "Epoch 49/50\n",
            "72/72 [==============================] - 0s 4ms/step - loss: 0.1714 - accuracy: 0.9444 - val_loss: 0.1651 - val_accuracy: 1.0000\n",
            "Epoch 50/50\n",
            "72/72 [==============================] - 0s 4ms/step - loss: 0.1690 - accuracy: 0.9583 - val_loss: 0.1632 - val_accuracy: 1.0000\n"
          ]
        }
      ]
    },
    {
      "cell_type": "code",
      "source": [
        "predicted=np.where(model.predict(x_test)>0.5,1,0)"
      ],
      "metadata": {
        "colab": {
          "base_uri": "https://localhost:8080/"
        },
        "id": "mosrpQpDXrlv",
        "outputId": "055c5c26-0b12-4aa7-fdb3-5f70c905b9bb"
      },
      "execution_count": 15,
      "outputs": [
        {
          "output_type": "stream",
          "name": "stdout",
          "text": [
            "1/1 [==============================] - 0s 280ms/step\n"
          ]
        }
      ]
    },
    {
      "cell_type": "code",
      "source": [
        "accuracy_score(y_test,predicted)"
      ],
      "metadata": {
        "colab": {
          "base_uri": "https://localhost:8080/"
        },
        "id": "sWAHQkvIXxHX",
        "outputId": "4251e373-ebe0-4202-9feb-b0279a95ad13"
      },
      "execution_count": 16,
      "outputs": [
        {
          "output_type": "execute_result",
          "data": {
            "text/plain": [
              "0.9"
            ]
          },
          "metadata": {},
          "execution_count": 16
        }
      ]
    },
    {
      "cell_type": "code",
      "source": [
        "plt.plot(range(1,51),history.history[\"loss\"],label=\"train_loss\")\n",
        "plt.plot(range(1,51),history.history[\"val_loss\"],label=\"val_loss\")\n",
        "plt.legend()"
      ],
      "metadata": {
        "colab": {
          "base_uri": "https://localhost:8080/",
          "height": 447
        },
        "id": "bvvEdJIIX0Zn",
        "outputId": "eaae2276-250d-471a-9bad-759f5b3fe20e"
      },
      "execution_count": 17,
      "outputs": [
        {
          "output_type": "execute_result",
          "data": {
            "text/plain": [
              "<matplotlib.legend.Legend at 0x7c7320e79660>"
            ]
          },
          "metadata": {},
          "execution_count": 17
        },
        {
          "output_type": "display_data",
          "data": {
            "text/plain": [
              "<Figure size 640x480 with 1 Axes>"
            ],
            "image/png": "[encoded data removed]"
          },
          "metadata": {}
        }
      ]
    },
    {
      "cell_type": "code",
      "source": [
        "import mlxtend"
      ],
      "metadata": {
        "id": "AGUMjkQ7X2-h"
      },
      "execution_count": 18,
      "outputs": []
    },
    {
      "cell_type": "code",
      "source": [
        "from mlxtend.plotting import plot_decision_regions"
      ],
      "metadata": {
        "id": "wkQmLdrlX529"
      },
      "execution_count": 19,
      "outputs": []
    },
    {
      "cell_type": "code",
      "source": [
        "accuracy_score(y_train,np.where(model.predict(x_train)>0.5,1,0))"
      ],
      "metadata": {
        "colab": {
          "base_uri": "https://localhost:8080/"
        },
        "id": "uwFDVG6HX9sH",
        "outputId": "9ca23e9b-fc84-47ae-a79e-fcf9adc2c236"
      },
      "execution_count": 20,
      "outputs": [
        {
          "output_type": "stream",
          "name": "stdout",
          "text": [
            "3/3 [==============================] - 0s 4ms/step\n"
          ]
        },
        {
          "output_type": "execute_result",
          "data": {
            "text/plain": [
              "0.9666666666666667"
            ]
          },
          "metadata": {},
          "execution_count": 20
        }
      ]
    },
    {
      "cell_type": "code",
      "source": [
        "plot_decision_regions(x_train,y_train.values.astype(int),clf=model,legend=2)"
      ],
      "metadata": {
        "colab": {
          "base_uri": "https://localhost:8080/",
          "height": 465
        },
        "id": "WuMT8pnrYHgi",
        "outputId": "42d3f8b2-d094-4e85-f8f7-e18391a71482"
      },
      "execution_count": 21,
      "outputs": [
        {
          "output_type": "stream",
          "name": "stdout",
          "text": [
            "9600/9600 [==============================] - 32s 3ms/step\n"
          ]
        },
        {
          "output_type": "execute_result",
          "data": {
            "text/plain": [
              "<Axes: >"
            ]
          },
          "metadata": {},
          "execution_count": 21
        },
        {
          "output_type": "display_data",
          "data": {
            "text/plain": [
              "<Figure size 640x480 with 1 Axes>"
            ],
            "image/png": "[encoded data removed]"
          },
          "metadata": {}
        }
      ]
    },
    {
      "cell_type": "code",
      "source": [
        "plot_decision_regions(x_test,y_test.values.astype(int),clf=model,legend=2)"
      ],
      "metadata": {
        "colab": {
          "base_uri": "https://localhost:8080/",
          "height": 465
        },
        "id": "s20ODam6YASq",
        "outputId": "02ac671a-1e1f-4b6e-a42c-bc6b0fe2c4a4"
      },
      "execution_count": 22,
      "outputs": [
        {
          "output_type": "stream",
          "name": "stdout",
          "text": [
            "9600/9600 [==============================] - 15s 2ms/step\n"
          ]
        },
        {
          "output_type": "execute_result",
          "data": {
            "text/plain": [
              "<Axes: >"
            ]
          },
          "metadata": {},
          "execution_count": 22
        },
        {
          "output_type": "display_data",
          "data": {
            "text/plain": [
              "<Figure size 640x480 with 1 Axes>"
            ],
            "image/png": "[encoded data removed]"
          },
          "metadata": {}
        }
      ]
    },
    {
      "cell_type": "code",
      "source": [],
      "metadata": {
        "id": "_c0f25KjYCpm"
      },
      "execution_count": 22,
      "outputs": []
    }
  ]
}