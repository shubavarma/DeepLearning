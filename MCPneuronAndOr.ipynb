{
  "nbformat": 4,
  "nbformat_minor": 0,
  "metadata": {
    "colab": {
      "provenance": []
    },
    "kernelspec": {
      "name": "python3",
      "display_name": "Python 3"
    },
    "language_info": {
      "name": "python"
    }
  },
  "cells": [
    {
      "cell_type": "code",
      "execution_count": 2,
      "metadata": {
        "id": "hgQlilT71Zf0"
      },
      "outputs": [],
      "source": [
        "import numpy as np"
      ]
    },
    {
      "cell_type": "code",
      "source": [
        "def mcp_And_Or(input,activation):\n",
        "  # Define what the threshold should be depending on activation function\n",
        "  if activation == 'AND':\n",
        "    # for And gate to fire we need all inputs as 1\n",
        "    threshold = len(input)\n",
        "  elif activation == 'OR':\n",
        "    threshold = 1\n",
        "  else:\n",
        "    print(\"Give activation function as either AND or OR\")\n",
        "\n",
        "  if np.sum(input)>= threshold:\n",
        "    return 1\n",
        "  else:\n",
        "    return 0\n",
        ""
      ],
      "metadata": {
        "id": "vuxPaHbV1eg9"
      },
      "execution_count": 6,
      "outputs": []
    },
    {
      "cell_type": "code",
      "source": [
        "inputs_and = np.array([1, 0, 1])  # n-dimensional inputs for AND operation\n",
        "inputs_or = np.array([1,0,0])   # n-dimensional inputs for OR operation\n",
        "output_and = mcp_And_Or(inputs_and, \"AND\")\n",
        "output_or = mcp_And_Or(inputs_or,\"OR\")\n",
        "\n",
        "print(\"AND output:\", output_and)\n",
        "print(\"OR output:\", output_or)"
      ],
      "metadata": {
        "colab": {
          "base_uri": "https://localhost:8080/"
        },
        "id": "AC_0rDHJ3Eg5",
        "outputId": "a653e7d2-bb09-4b5b-d948-a62af75c964c"
      },
      "execution_count": 9,
      "outputs": [
        {
          "output_type": "stream",
          "name": "stdout",
          "text": [
            "AND output: 0\n",
            "OR output: 1\n"
          ]
        }
      ]
    },
    {
      "cell_type": "code",
      "source": [],
      "metadata": {
        "id": "MRovNp0y3pOz"
      },
      "execution_count": null,
      "outputs": []
    }
  ]
}