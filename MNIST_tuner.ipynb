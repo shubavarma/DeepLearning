{
  "nbformat": 4,
  "nbformat_minor": 0,
  "metadata": {
    "colab": {
      "provenance": [],
      "mount_file_id": "1vTptrG8lgOigVuXGSxmOsGFWwZp2XEzM",
      "authorship_tag": "ABX9TyMBghVnyEZ8n5+7VJid0Bqj",
      "include_colab_link": true
    },
    "kernelspec": {
      "name": "python3",
      "display_name": "Python 3"
    },
    "language_info": {
      "name": "python"
    }
  },
  "cells": [
    {
      "cell_type": "markdown",
      "metadata": {
        "id": "view-in-github",
        "colab_type": "text"
      },
      "source": [
        "<a href=\"https://colab.research.google.com/github/shubavarma/DeepLearning/blob/main/MNIST_tuner.ipynb\" target=\"_parent\"><img src=\"https://colab.research.google.com/assets/colab-badge.svg\" alt=\"Open In Colab\"/></a>"
      ]
    },
    {
      "cell_type": "code",
      "source": [
        "pip install keras-tuner"
      ],
      "metadata": {
        "id": "r8Emm9D_DpeR",
        "colab": {
          "base_uri": "https://localhost:8080/"
        },
        "outputId": "917717e9-6c8d-4865-9f82-7c5d97786ed2"
      },
      "execution_count": 108,
      "outputs": [
        {
          "output_type": "stream",
          "name": "stdout",
          "text": [
            "Requirement already satisfied: keras-tuner in /usr/local/lib/python3.10/dist-packages (1.3.5)\n",
            "Requirement already satisfied: packaging in /usr/local/lib/python3.10/dist-packages (from keras-tuner) (23.1)\n",
            "Requirement already satisfied: requests in /usr/local/lib/python3.10/dist-packages (from keras-tuner) (2.31.0)\n",
            "Requirement already satisfied: kt-legacy in /usr/local/lib/python3.10/dist-packages (from keras-tuner) (1.0.5)\n",
            "Requirement already satisfied: charset-normalizer<4,>=2 in /usr/local/lib/python3.10/dist-packages (from requests->keras-tuner) (3.2.0)\n",
            "Requirement already satisfied: idna<4,>=2.5 in /usr/local/lib/python3.10/dist-packages (from requests->keras-tuner) (3.4)\n",
            "Requirement already satisfied: urllib3<3,>=1.21.1 in /usr/local/lib/python3.10/dist-packages (from requests->keras-tuner) (2.0.4)\n",
            "Requirement already satisfied: certifi>=2017.4.17 in /usr/local/lib/python3.10/dist-packages (from requests->keras-tuner) (2023.7.22)\n"
          ]
        }
      ]
    },
    {
      "cell_type": "code",
      "execution_count": 148,
      "metadata": {
        "id": "c9scIP5RbUkP"
      },
      "outputs": [],
      "source": [
        "import tensorflow\n",
        "import tensorflow.keras\n",
        "import pandas as pd\n",
        "import matplotlib.pyplot as plt\n",
        "import numpy as np\n",
        "from keras.models import Sequential\n",
        "from keras.layers import Dense, Flatten, Dropout\n",
        "from sklearn.model_selection import train_test_split\n",
        "from sklearn.preprocessing import StandardScaler\n",
        "from sklearn.metrics import accuracy_score\n",
        "from mlxtend.plotting import plot_decision_regions\n",
        "import kerastuner as k\n",
        "from tensorflow.keras.callbacks import EarlyStopping"
      ]
    },
    {
      "cell_type": "markdown",
      "source": [
        "tensorflow.keras has some inbuilt datasets that we can import\n",
        "keras.io/api/datasets"
      ],
      "metadata": {
        "id": "GGDJYkrNcVfe"
      }
    },
    {
      "cell_type": "code",
      "source": [
        "from tensorflow.keras.datasets import mnist"
      ],
      "metadata": {
        "id": "4jEAXQQhbyiD"
      },
      "execution_count": 110,
      "outputs": []
    },
    {
      "cell_type": "markdown",
      "source": [
        "(x_train,y_train),(x_test,y_test) = mnist.load_data() will give the total data"
      ],
      "metadata": {
        "id": "sFTt-R8pdBNz"
      }
    },
    {
      "cell_type": "code",
      "source": [
        "(x_train,y_train),(x_test,y_test) = mnist.load_data()"
      ],
      "metadata": {
        "id": "7HZ2rpv1ct56"
      },
      "execution_count": 111,
      "outputs": []
    },
    {
      "cell_type": "code",
      "source": [
        "x_train.shape"
      ],
      "metadata": {
        "colab": {
          "base_uri": "https://localhost:8080/"
        },
        "id": "zQ-QkdFwc-oc",
        "outputId": "4968e4cf-0b9f-4e6d-c0a2-aaebac35b45a"
      },
      "execution_count": 112,
      "outputs": [
        {
          "output_type": "execute_result",
          "data": {
            "text/plain": [
              "(60000, 28, 28)"
            ]
          },
          "metadata": {},
          "execution_count": 112
        }
      ]
    },
    {
      "cell_type": "code",
      "source": [
        "x_test.shape"
      ],
      "metadata": {
        "colab": {
          "base_uri": "https://localhost:8080/"
        },
        "id": "c8wlkghXd3Vl",
        "outputId": "853fae86-af9c-455a-81b6-ee101d4cd420"
      },
      "execution_count": 113,
      "outputs": [
        {
          "output_type": "execute_result",
          "data": {
            "text/plain": [
              "(10000, 28, 28)"
            ]
          },
          "metadata": {},
          "execution_count": 113
        }
      ]
    },
    {
      "cell_type": "code",
      "source": [
        "y_train.shape"
      ],
      "metadata": {
        "colab": {
          "base_uri": "https://localhost:8080/"
        },
        "id": "mtx7ApsNd6mr",
        "outputId": "a1d3b283-e9d1-4bd6-f743-b2f463aa5c7f"
      },
      "execution_count": 114,
      "outputs": [
        {
          "output_type": "execute_result",
          "data": {
            "text/plain": [
              "(60000,)"
            ]
          },
          "metadata": {},
          "execution_count": 114
        }
      ]
    },
    {
      "cell_type": "markdown",
      "source": [
        "imshow in matplotlib shows the image"
      ],
      "metadata": {
        "id": "2s3Z7z9sepjv"
      }
    },
    {
      "cell_type": "code",
      "source": [
        "plt.imshow(x_train[0])"
      ],
      "metadata": {
        "colab": {
          "base_uri": "https://localhost:8080/",
          "height": 447
        },
        "id": "kIkY05nkd-kk",
        "outputId": "63bf36d9-402d-485f-cb3d-529f722dbeef"
      },
      "execution_count": 115,
      "outputs": [
        {
          "output_type": "execute_result",
          "data": {
            "text/plain": [
              "<matplotlib.image.AxesImage at 0x7a0e9576fb20>"
            ]
          },
          "metadata": {},
          "execution_count": 115
        },
        {
          "output_type": "display_data",
          "data": {
            "text/plain": [
              "<Figure size 640x480 with 1 Axes>"
            ],
            "image/png": "[encoded data removed]"
          },
          "metadata": {}
        }
      ]
    },
    {
      "cell_type": "code",
      "source": [
        "plt.imshow(x_train[0],cmap='gray')"
      ],
      "metadata": {
        "colab": {
          "base_uri": "https://localhost:8080/",
          "height": 447
        },
        "id": "9ng7wJUBejiH",
        "outputId": "dd62e368-18d6-46d9-c9c0-31f442a47ddb"
      },
      "execution_count": 116,
      "outputs": [
        {
          "output_type": "execute_result",
          "data": {
            "text/plain": [
              "<matplotlib.image.AxesImage at 0x7a0eacc50700>"
            ]
          },
          "metadata": {},
          "execution_count": 116
        },
        {
          "output_type": "display_data",
          "data": {
            "text/plain": [
              "<Figure size 640x480 with 1 Axes>"
            ],
            "image/png": "[encoded data removed]"
          },
          "metadata": {}
        }
      ]
    },
    {
      "cell_type": "markdown",
      "source": [
        "keras also has another layer called Flatten. It will take any n-dim and convert to 1-d array"
      ],
      "metadata": {
        "id": "TJZOMNEAfC-a"
      }
    },
    {
      "cell_type": "code",
      "source": [
        "# We better normalize the data\n",
        "# since it is a image data we can divide with 255 to normalize it\n",
        "x_train = x_train/255\n",
        "x_test = x_test/255"
      ],
      "metadata": {
        "id": "dKHJfMxyE93f"
      },
      "execution_count": 117,
      "outputs": []
    },
    {
      "cell_type": "code",
      "source": [
        "plt.imshow(x_train[0])"
      ],
      "metadata": {
        "colab": {
          "base_uri": "https://localhost:8080/",
          "height": 447
        },
        "id": "237isnN9FllG",
        "outputId": "a28f7179-3598-4975-9c01-6c77bf236255"
      },
      "execution_count": 118,
      "outputs": [
        {
          "output_type": "execute_result",
          "data": {
            "text/plain": [
              "<matplotlib.image.AxesImage at 0x7a0eacc8f880>"
            ]
          },
          "metadata": {},
          "execution_count": 118
        },
        {
          "output_type": "display_data",
          "data": {
            "text/plain": [
              "<Figure size 640x480 with 1 Axes>"
            ],
            "image/png": "[encoded data removed]"
          },
          "metadata": {}
        }
      ]
    },
    {
      "cell_type": "code",
      "source": [
        "# use both Int and Choice\n",
        "def tuners(hp):\n",
        "    model = Sequential()\n",
        "    model.add(Flatten(input_shape=(28,28)))\n",
        "\n",
        "    for y in range(hp.Int(\"no.of hidden layers\",1,5)):\n",
        "         model.add(Dense(units=(hp.Int(\"neurons{}\".format(y),30,100)),activation= hp.Choice(\"activation in {} hidden layer\".format(y),values=['sigmoid','tanh','relu']),\n",
        "                            kernel_initializer=hp.Choice(\"Initializer in {} hidden layer\".format(y),values=['glorot_uniform','glorot_normal','he_uniform','he_normal'])\n",
        "                            ))\n",
        "    model.add(Dense(10,activation='softmax'))\n",
        "    model.compile(loss='sparse_categorical_crossentropy',optimizer=hp.Choice(\"optimizer\",values=['adam','adadelta','sgd']) ,metrics=['accuracy'])\n",
        "    return model\n",
        "\n"
      ],
      "metadata": {
        "id": "JrrirrgGEnMb"
      },
      "execution_count": 119,
      "outputs": []
    },
    {
      "cell_type": "code",
      "source": [
        "tuner_obj = k.RandomSearch(tuners,max_trials=10,objective='val_accuracy',directory='folder5')"
      ],
      "metadata": {
        "id": "0MrR-FlyHLFq"
      },
      "execution_count": 124,
      "outputs": []
    },
    {
      "cell_type": "code",
      "source": [
        "tuner_obj"
      ],
      "metadata": {
        "colab": {
          "base_uri": "https://localhost:8080/"
        },
        "id": "b3FsV7LgHK-N",
        "outputId": "837f5a74-037a-416b-80c8-c8dec22b0a97"
      },
      "execution_count": 125,
      "outputs": [
        {
          "output_type": "execute_result",
          "data": {
            "text/plain": [
              "<keras_tuner.tuners.randomsearch.RandomSearch at 0x7a0eabb3b550>"
            ]
          },
          "metadata": {},
          "execution_count": 125
        }
      ]
    },
    {
      "cell_type": "code",
      "source": [
        "es = EarlyStopping(monitor='val_accuracy',min_delta=0.1,patience=3,verbose=1)"
      ],
      "metadata": {
        "id": "x6ksVKLqtp4C"
      },
      "execution_count": 126,
      "outputs": []
    },
    {
      "cell_type": "code",
      "source": [
        "tuner_obj.search(x_train,y_train,batch_size=100,epochs=50,validation_split=0.2,callbacks=[es]) # here actual training starts"
      ],
      "metadata": {
        "colab": {
          "base_uri": "https://localhost:8080/"
        },
        "id": "TSLsFLs7HK6u",
        "outputId": "ec4df61d-3c06-461c-af4c-f44b81dc3639"
      },
      "execution_count": 127,
      "outputs": [
        {
          "output_type": "stream",
          "name": "stdout",
          "text": [
            "Trial 10 Complete [00h 00m 15s]\n",
            "val_accuracy: 0.9040833115577698\n",
            "\n",
            "Best val_accuracy So Far: 0.9664999842643738\n",
            "Total elapsed time: 00h 02m 38s\n"
          ]
        }
      ]
    },
    {
      "cell_type": "code",
      "source": [
        "tuner_obj.results_summary()"
      ],
      "metadata": {
        "colab": {
          "base_uri": "https://localhost:8080/"
        },
        "id": "qtYKWL-MHK4I",
        "outputId": "c40b4a62-94b7-4029-e798-717775508073"
      },
      "execution_count": 128,
      "outputs": [
        {
          "output_type": "stream",
          "name": "stdout",
          "text": [
            "Results summary\n",
            "Results in folder5/untitled_project\n",
            "Showing 10 best trials\n",
            "Objective(name=\"val_accuracy\", direction=\"max\")\n",
            "\n",
            "Trial 08 summary\n",
            "Hyperparameters:\n",
            "no.of hidden layers: 5\n",
            "neurons0: 66\n",
            "activation in 0 hidden layer: tanh\n",
            "Initializer in 0 hidden layer: glorot_normal\n",
            "optimizer: adam\n",
            "neurons1: 42\n",
            "activation in 1 hidden layer: relu\n",
            "Initializer in 1 hidden layer: glorot_uniform\n",
            "neurons2: 69\n",
            "activation in 2 hidden layer: tanh\n",
            "Initializer in 2 hidden layer: he_normal\n",
            "neurons3: 76\n",
            "activation in 3 hidden layer: tanh\n",
            "Initializer in 3 hidden layer: glorot_normal\n",
            "neurons4: 58\n",
            "activation in 4 hidden layer: tanh\n",
            "Initializer in 4 hidden layer: he_uniform\n",
            "Score: 0.9664999842643738\n",
            "\n",
            "Trial 05 summary\n",
            "Hyperparameters:\n",
            "no.of hidden layers: 2\n",
            "neurons0: 47\n",
            "activation in 0 hidden layer: tanh\n",
            "Initializer in 0 hidden layer: he_normal\n",
            "optimizer: adam\n",
            "neurons1: 90\n",
            "activation in 1 hidden layer: relu\n",
            "Initializer in 1 hidden layer: he_normal\n",
            "neurons2: 38\n",
            "activation in 2 hidden layer: tanh\n",
            "Initializer in 2 hidden layer: glorot_uniform\n",
            "neurons3: 99\n",
            "activation in 3 hidden layer: tanh\n",
            "Initializer in 3 hidden layer: glorot_normal\n",
            "neurons4: 74\n",
            "activation in 4 hidden layer: sigmoid\n",
            "Initializer in 4 hidden layer: glorot_normal\n",
            "Score: 0.9647499918937683\n",
            "\n",
            "Trial 00 summary\n",
            "Hyperparameters:\n",
            "no.of hidden layers: 3\n",
            "neurons0: 70\n",
            "activation in 0 hidden layer: relu\n",
            "Initializer in 0 hidden layer: he_uniform\n",
            "optimizer: adam\n",
            "neurons1: 30\n",
            "activation in 1 hidden layer: sigmoid\n",
            "Initializer in 1 hidden layer: glorot_uniform\n",
            "neurons2: 30\n",
            "activation in 2 hidden layer: sigmoid\n",
            "Initializer in 2 hidden layer: glorot_uniform\n",
            "Score: 0.9620000123977661\n",
            "\n",
            "Trial 07 summary\n",
            "Hyperparameters:\n",
            "no.of hidden layers: 1\n",
            "neurons0: 81\n",
            "activation in 0 hidden layer: sigmoid\n",
            "Initializer in 0 hidden layer: glorot_uniform\n",
            "optimizer: adam\n",
            "neurons1: 37\n",
            "activation in 1 hidden layer: sigmoid\n",
            "Initializer in 1 hidden layer: he_normal\n",
            "neurons2: 80\n",
            "activation in 2 hidden layer: sigmoid\n",
            "Initializer in 2 hidden layer: glorot_uniform\n",
            "neurons3: 60\n",
            "activation in 3 hidden layer: relu\n",
            "Initializer in 3 hidden layer: he_normal\n",
            "neurons4: 93\n",
            "activation in 4 hidden layer: sigmoid\n",
            "Initializer in 4 hidden layer: glorot_normal\n",
            "Score: 0.9461666941642761\n",
            "\n",
            "Trial 03 summary\n",
            "Hyperparameters:\n",
            "no.of hidden layers: 3\n",
            "neurons0: 85\n",
            "activation in 0 hidden layer: relu\n",
            "Initializer in 0 hidden layer: he_normal\n",
            "optimizer: sgd\n",
            "neurons1: 63\n",
            "activation in 1 hidden layer: relu\n",
            "Initializer in 1 hidden layer: he_uniform\n",
            "neurons2: 86\n",
            "activation in 2 hidden layer: relu\n",
            "Initializer in 2 hidden layer: he_normal\n",
            "Score: 0.925166666507721\n",
            "\n",
            "Trial 09 summary\n",
            "Hyperparameters:\n",
            "no.of hidden layers: 3\n",
            "neurons0: 31\n",
            "activation in 0 hidden layer: tanh\n",
            "Initializer in 0 hidden layer: glorot_normal\n",
            "optimizer: sgd\n",
            "neurons1: 41\n",
            "activation in 1 hidden layer: sigmoid\n",
            "Initializer in 1 hidden layer: glorot_normal\n",
            "neurons2: 62\n",
            "activation in 2 hidden layer: tanh\n",
            "Initializer in 2 hidden layer: he_uniform\n",
            "neurons3: 64\n",
            "activation in 3 hidden layer: tanh\n",
            "Initializer in 3 hidden layer: glorot_normal\n",
            "neurons4: 80\n",
            "activation in 4 hidden layer: relu\n",
            "Initializer in 4 hidden layer: glorot_normal\n",
            "Score: 0.9040833115577698\n",
            "\n",
            "Trial 01 summary\n",
            "Hyperparameters:\n",
            "no.of hidden layers: 3\n",
            "neurons0: 79\n",
            "activation in 0 hidden layer: sigmoid\n",
            "Initializer in 0 hidden layer: he_uniform\n",
            "optimizer: sgd\n",
            "neurons1: 50\n",
            "activation in 1 hidden layer: relu\n",
            "Initializer in 1 hidden layer: glorot_uniform\n",
            "neurons2: 90\n",
            "activation in 2 hidden layer: tanh\n",
            "Initializer in 2 hidden layer: glorot_normal\n",
            "Score: 0.8925833106040955\n",
            "\n",
            "Trial 06 summary\n",
            "Hyperparameters:\n",
            "no.of hidden layers: 1\n",
            "neurons0: 79\n",
            "activation in 0 hidden layer: sigmoid\n",
            "Initializer in 0 hidden layer: glorot_uniform\n",
            "optimizer: adadelta\n",
            "neurons1: 57\n",
            "activation in 1 hidden layer: sigmoid\n",
            "Initializer in 1 hidden layer: he_uniform\n",
            "neurons2: 53\n",
            "activation in 2 hidden layer: relu\n",
            "Initializer in 2 hidden layer: glorot_normal\n",
            "neurons3: 78\n",
            "activation in 3 hidden layer: relu\n",
            "Initializer in 3 hidden layer: glorot_uniform\n",
            "neurons4: 70\n",
            "activation in 4 hidden layer: sigmoid\n",
            "Initializer in 4 hidden layer: he_normal\n",
            "Score: 0.24058333039283752\n",
            "\n",
            "Trial 04 summary\n",
            "Hyperparameters:\n",
            "no.of hidden layers: 5\n",
            "neurons0: 100\n",
            "activation in 0 hidden layer: relu\n",
            "Initializer in 0 hidden layer: he_normal\n",
            "optimizer: sgd\n",
            "neurons1: 90\n",
            "activation in 1 hidden layer: sigmoid\n",
            "Initializer in 1 hidden layer: glorot_normal\n",
            "neurons2: 62\n",
            "activation in 2 hidden layer: sigmoid\n",
            "Initializer in 2 hidden layer: glorot_uniform\n",
            "neurons3: 30\n",
            "activation in 3 hidden layer: sigmoid\n",
            "Initializer in 3 hidden layer: glorot_uniform\n",
            "neurons4: 30\n",
            "activation in 4 hidden layer: sigmoid\n",
            "Initializer in 4 hidden layer: glorot_uniform\n",
            "Score: 0.10599999874830246\n",
            "\n",
            "Trial 02 summary\n",
            "Hyperparameters:\n",
            "no.of hidden layers: 2\n",
            "neurons0: 75\n",
            "activation in 0 hidden layer: relu\n",
            "Initializer in 0 hidden layer: glorot_normal\n",
            "optimizer: adadelta\n",
            "neurons1: 74\n",
            "activation in 1 hidden layer: sigmoid\n",
            "Initializer in 1 hidden layer: glorot_uniform\n",
            "neurons2: 63\n",
            "activation in 2 hidden layer: relu\n",
            "Initializer in 2 hidden layer: he_normal\n",
            "Score: 0.09558333456516266\n"
          ]
        }
      ]
    },
    {
      "cell_type": "code",
      "source": [
        "tuner_obj.get_best_hyperparameters()[0].values"
      ],
      "metadata": {
        "colab": {
          "base_uri": "https://localhost:8080/"
        },
        "id": "Bu-U1RfWIGsj",
        "outputId": "8f2826da-5a8d-4dd5-c286-6028e202331e"
      },
      "execution_count": 129,
      "outputs": [
        {
          "output_type": "execute_result",
          "data": {
            "text/plain": [
              "{'no.of hidden layers': 5,\n",
              " 'neurons0': 66,\n",
              " 'activation in 0 hidden layer': 'tanh',\n",
              " 'Initializer in 0 hidden layer': 'glorot_normal',\n",
              " 'optimizer': 'adam',\n",
              " 'neurons1': 42,\n",
              " 'activation in 1 hidden layer': 'relu',\n",
              " 'Initializer in 1 hidden layer': 'glorot_uniform',\n",
              " 'neurons2': 69,\n",
              " 'activation in 2 hidden layer': 'tanh',\n",
              " 'Initializer in 2 hidden layer': 'he_normal',\n",
              " 'neurons3': 76,\n",
              " 'activation in 3 hidden layer': 'tanh',\n",
              " 'Initializer in 3 hidden layer': 'glorot_normal',\n",
              " 'neurons4': 58,\n",
              " 'activation in 4 hidden layer': 'tanh',\n",
              " 'Initializer in 4 hidden layer': 'he_uniform'}"
            ]
          },
          "metadata": {},
          "execution_count": 129
        }
      ]
    },
    {
      "cell_type": "code",
      "source": [
        "model = tuner_obj.get_best_models(num_models=1)[0]"
      ],
      "metadata": {
        "id": "q9GqQxBMILW2"
      },
      "execution_count": 130,
      "outputs": []
    },
    {
      "cell_type": "code",
      "source": [
        "model.summary()"
      ],
      "metadata": {
        "colab": {
          "base_uri": "https://localhost:8080/"
        },
        "id": "PdMjiHq1IQF0",
        "outputId": "867a0740-1f3e-4e9f-cb22-09f55d469101"
      },
      "execution_count": 131,
      "outputs": [
        {
          "output_type": "stream",
          "name": "stdout",
          "text": [
            "Model: \"sequential\"\n",
            "_________________________________________________________________\n",
            " Layer (type)                Output Shape              Param #   \n",
            "=================================================================\n",
            " flatten (Flatten)           (None, 784)               0         \n",
            "                                                                 \n",
            " dense (Dense)               (None, 66)                51810     \n",
            "                                                                 \n",
            " dense_1 (Dense)             (None, 42)                2814      \n",
            "                                                                 \n",
            " dense_2 (Dense)             (None, 69)                2967      \n",
            "                                                                 \n",
            " dense_3 (Dense)             (None, 76)                5320      \n",
            "                                                                 \n",
            " dense_4 (Dense)             (None, 58)                4466      \n",
            "                                                                 \n",
            " dense_5 (Dense)             (None, 10)                590       \n",
            "                                                                 \n",
            "=================================================================\n",
            "Total params: 67,967\n",
            "Trainable params: 67,967\n",
            "Non-trainable params: 0\n",
            "_________________________________________________________________\n"
          ]
        }
      ]
    },
    {
      "cell_type": "code",
      "source": [
        "from keras.utils.vis_utils import plot_model\n",
        "plot_model(model)"
      ],
      "metadata": {
        "colab": {
          "base_uri": "https://localhost:8080/",
          "height": 758
        },
        "id": "now4LirboJWg",
        "outputId": "08b590b5-5f34-4dcb-8658-8b885197bdbd"
      },
      "execution_count": 132,
      "outputs": [
        {
          "output_type": "execute_result",
          "data": {
            "image/png": "[encoded data removed]",
            "text/plain": [
              "<IPython.core.display.Image object>"
            ]
          },
          "metadata": {},
          "execution_count": 132
        }
      ]
    },
    {
      "cell_type": "code",
      "source": [
        "history = model.fit(x_train,y_train,epochs=20,validation_split=0.2)"
      ],
      "metadata": {
        "colab": {
          "base_uri": "https://localhost:8080/"
        },
        "id": "7O7IOTUxvHY5",
        "outputId": "05f0c3f4-46ce-4c71-df0a-8d80eee538cc"
      },
      "execution_count": 133,
      "outputs": [
        {
          "output_type": "stream",
          "name": "stdout",
          "text": [
            "Epoch 1/20\n",
            "1500/1500 [==============================] - 12s 6ms/step - loss: 0.1150 - accuracy: 0.9643 - val_loss: 0.1166 - val_accuracy: 0.9657\n",
            "Epoch 2/20\n",
            "1500/1500 [==============================] - 5s 3ms/step - loss: 0.0795 - accuracy: 0.9755 - val_loss: 0.1201 - val_accuracy: 0.9668\n",
            "Epoch 3/20\n",
            "1500/1500 [==============================] - 7s 5ms/step - loss: 0.0665 - accuracy: 0.9792 - val_loss: 0.1219 - val_accuracy: 0.9663\n",
            "Epoch 4/20\n",
            "1500/1500 [==============================] - 5s 4ms/step - loss: 0.0576 - accuracy: 0.9820 - val_loss: 0.1194 - val_accuracy: 0.9668\n",
            "Epoch 5/20\n",
            "1500/1500 [==============================] - 6s 4ms/step - loss: 0.0506 - accuracy: 0.9842 - val_loss: 0.1133 - val_accuracy: 0.9683\n",
            "Epoch 6/20\n",
            "1500/1500 [==============================] - 7s 4ms/step - loss: 0.0458 - accuracy: 0.9854 - val_loss: 0.1136 - val_accuracy: 0.9709\n",
            "Epoch 7/20\n",
            "1500/1500 [==============================] - 5s 4ms/step - loss: 0.0409 - accuracy: 0.9865 - val_loss: 0.1059 - val_accuracy: 0.9722\n",
            "Epoch 8/20\n",
            "1500/1500 [==============================] - 7s 5ms/step - loss: 0.0363 - accuracy: 0.9885 - val_loss: 0.1363 - val_accuracy: 0.9646\n",
            "Epoch 9/20\n",
            "1500/1500 [==============================] - 5s 3ms/step - loss: 0.0348 - accuracy: 0.9893 - val_loss: 0.1316 - val_accuracy: 0.9670\n",
            "Epoch 10/20\n",
            "1500/1500 [==============================] - 6s 4ms/step - loss: 0.0272 - accuracy: 0.9909 - val_loss: 0.1305 - val_accuracy: 0.9699\n",
            "Epoch 11/20\n",
            "1500/1500 [==============================] - 6s 4ms/step - loss: 0.0341 - accuracy: 0.9887 - val_loss: 0.1260 - val_accuracy: 0.9699\n",
            "Epoch 12/20\n",
            "1500/1500 [==============================] - 5s 3ms/step - loss: 0.0254 - accuracy: 0.9920 - val_loss: 0.1268 - val_accuracy: 0.9686\n",
            "Epoch 13/20\n",
            "1500/1500 [==============================] - 7s 4ms/step - loss: 0.0297 - accuracy: 0.9901 - val_loss: 0.1363 - val_accuracy: 0.9665\n",
            "Epoch 14/20\n",
            "1500/1500 [==============================] - 5s 3ms/step - loss: 0.0250 - accuracy: 0.9920 - val_loss: 0.1402 - val_accuracy: 0.9678\n",
            "Epoch 15/20\n",
            "1500/1500 [==============================] - 5s 3ms/step - loss: 0.0217 - accuracy: 0.9930 - val_loss: 0.1409 - val_accuracy: 0.9693\n",
            "Epoch 16/20\n",
            "1500/1500 [==============================] - 7s 4ms/step - loss: 0.0234 - accuracy: 0.9924 - val_loss: 0.1316 - val_accuracy: 0.9696\n",
            "Epoch 17/20\n",
            "1500/1500 [==============================] - 5s 4ms/step - loss: 0.0197 - accuracy: 0.9937 - val_loss: 0.1265 - val_accuracy: 0.9731\n",
            "Epoch 18/20\n",
            "1500/1500 [==============================] - 8s 6ms/step - loss: 0.0218 - accuracy: 0.9933 - val_loss: 0.1249 - val_accuracy: 0.9721\n",
            "Epoch 19/20\n",
            "1500/1500 [==============================] - 6s 4ms/step - loss: 0.0187 - accuracy: 0.9943 - val_loss: 0.1390 - val_accuracy: 0.9688\n",
            "Epoch 20/20\n",
            "1500/1500 [==============================] - 7s 5ms/step - loss: 0.0204 - accuracy: 0.9931 - val_loss: 0.1496 - val_accuracy: 0.9681\n"
          ]
        }
      ]
    },
    {
      "cell_type": "code",
      "source": [
        "plt.plot(range(1,21),history.history[\"accuracy\"],label=\"train_accuracy\")\n",
        "plt.plot(range(1,21),history.history[\"val_accuracy\"],label=\"val_accuracy\")\n",
        "plt.legend()"
      ],
      "metadata": {
        "colab": {
          "base_uri": "https://localhost:8080/",
          "height": 447
        },
        "id": "a_xXlVIOvHON",
        "outputId": "2a6479ef-c879-4090-d5ba-6e12defc5455"
      },
      "execution_count": 134,
      "outputs": [
        {
          "output_type": "execute_result",
          "data": {
            "text/plain": [
              "<matplotlib.legend.Legend at 0x7a0eb38a67a0>"
            ]
          },
          "metadata": {},
          "execution_count": 134
        },
        {
          "output_type": "display_data",
          "data": {
            "text/plain": [
              "<Figure size 640x480 with 1 Axes>"
            ],
            "image/png": "[encoded data removed]"
          },
          "metadata": {}
        }
      ]
    },
    {
      "cell_type": "code",
      "source": [
        "# Heavy overfitting.\n",
        "# We will use this architechture and build a new model and add Dropout to it\n",
        "model1 = Sequential()\n",
        "model1.add(Flatten(input_shape=(28,28)))\n",
        "model1.add(Dense(66,activation='tanh',kernel_initializer='glorot_normal'))\n",
        "model1.add(Dense(42,activation='relu',kernel_initializer='glorot_uniform'))\n",
        "model1.add(Dense(69,activation='tanh',kernel_initializer='he_normal'))\n",
        "model1.add(Dropout(0.1))\n",
        "model1.add(Dense(76,activation='tanh',kernel_initializer='glorot_normal'))\n",
        "model1.add(Dropout(0.2))\n",
        "model1.add(Dense(58,activation='tanh',kernel_initializer='he_uniform'))\n",
        "model1.add(Dense(10,activation='softmax'))\n",
        "\n",
        "\n",
        "model1.compile(loss='sparse_categorical_crossentropy',optimizer='adam' ,metrics=['accuracy'])\n"
      ],
      "metadata": {
        "id": "j2NbCjOUvHKp"
      },
      "execution_count": 161,
      "outputs": []
    },
    {
      "cell_type": "code",
      "source": [
        "history1 = model1.fit(x_train,y_train,epochs=20,validation_split=0.2,callbacks=[es])"
      ],
      "metadata": {
        "colab": {
          "base_uri": "https://localhost:8080/"
        },
        "id": "212zFg3ivHIW",
        "outputId": "1f9bbd93-5d48-4c91-e817-a3f1f932ea49"
      },
      "execution_count": 162,
      "outputs": [
        {
          "output_type": "stream",
          "name": "stdout",
          "text": [
            "Epoch 1/20\n",
            "1500/1500 [==============================] - 6s 4ms/step - loss: 0.3341 - accuracy: 0.8998 - val_loss: 0.1808 - val_accuracy: 0.9457\n",
            "Epoch 2/20\n",
            "1500/1500 [==============================] - 6s 4ms/step - loss: 0.1673 - accuracy: 0.9514 - val_loss: 0.1515 - val_accuracy: 0.9553\n",
            "Epoch 3/20\n",
            "1500/1500 [==============================] - 6s 4ms/step - loss: 0.1286 - accuracy: 0.9625 - val_loss: 0.1195 - val_accuracy: 0.9660\n",
            "Epoch 4/20\n",
            "1500/1500 [==============================] - 5s 3ms/step - loss: 0.1067 - accuracy: 0.9682 - val_loss: 0.1241 - val_accuracy: 0.9637\n",
            "Epoch 4: early stopping\n"
          ]
        }
      ]
    },
    {
      "cell_type": "code",
      "source": [
        "plt.plot(range(1,5),history1.history[\"accuracy\"],label=\"train_accuracy\")\n",
        "plt.plot(range(1,5),history1.history[\"val_accuracy\"],label=\"val_accuracy\")\n",
        "plt.legend()"
      ],
      "metadata": {
        "id": "A0IfuxosPsd5",
        "outputId": "d2efb6a2-b047-4155-851f-a747eabebdb6",
        "colab": {
          "base_uri": "https://localhost:8080/",
          "height": 447
        }
      },
      "execution_count": 163,
      "outputs": [
        {
          "output_type": "execute_result",
          "data": {
            "text/plain": [
              "<matplotlib.legend.Legend at 0x7a0ea965d3c0>"
            ]
          },
          "metadata": {},
          "execution_count": 163
        },
        {
          "output_type": "display_data",
          "data": {
            "text/plain": [
              "<Figure size 640x480 with 1 Axes>"
            ],
            "image/png": "[encoded data removed]"
          },
          "metadata": {}
        }
      ]
    },
    {
      "cell_type": "code",
      "source": [
        "predict = np.argmax(model1.predict(x_test),axis=1) # row wise we want to get the index value of highest probability, so classification prediction done"
      ],
      "metadata": {
        "colab": {
          "base_uri": "https://localhost:8080/"
        },
        "id": "Ap3iVpiVlDxN",
        "outputId": "72fadedd-afe2-47dc-bf84-3fca7c002f29"
      },
      "execution_count": 164,
      "outputs": [
        {
          "output_type": "stream",
          "name": "stdout",
          "text": [
            "313/313 [==============================] - 1s 3ms/step\n"
          ]
        }
      ]
    },
    {
      "cell_type": "code",
      "source": [
        "accuracy_score(y_test,predict)"
      ],
      "metadata": {
        "colab": {
          "base_uri": "https://localhost:8080/"
        },
        "id": "goFksa_HmWx4",
        "outputId": "31238de2-1493-4224-82b4-07a7d731a560"
      },
      "execution_count": 165,
      "outputs": [
        {
          "output_type": "execute_result",
          "data": {
            "text/plain": [
              "0.964"
            ]
          },
          "metadata": {},
          "execution_count": 165
        }
      ]
    },
    {
      "cell_type": "code",
      "source": [
        "plt.imshow(x_test[2])"
      ],
      "metadata": {
        "colab": {
          "base_uri": "https://localhost:8080/",
          "height": 447
        },
        "id": "JSgCC_PXmjs7",
        "outputId": "eae9eb29-5759-4010-f5fd-4e8402f11436"
      },
      "execution_count": 166,
      "outputs": [
        {
          "output_type": "execute_result",
          "data": {
            "text/plain": [
              "<matplotlib.image.AxesImage at 0x7a0eb33512a0>"
            ]
          },
          "metadata": {},
          "execution_count": 166
        },
        {
          "output_type": "display_data",
          "data": {
            "text/plain": [
              "<Figure size 640x480 with 1 Axes>"
            ],
            "image/png": "[encoded data removed]"
          },
          "metadata": {}
        }
      ]
    },
    {
      "cell_type": "code",
      "source": [
        "print(predict[2])"
      ],
      "metadata": {
        "colab": {
          "base_uri": "https://localhost:8080/"
        },
        "id": "YTO74pIdmouc",
        "outputId": "21077034-30d6-4a6c-ded4-23fcc3fbc449"
      },
      "execution_count": 167,
      "outputs": [
        {
          "output_type": "stream",
          "name": "stdout",
          "text": [
            "1\n"
          ]
        }
      ]
    },
    {
      "cell_type": "code",
      "source": [],
      "metadata": {
        "id": "E67s-qU8m3IJ"
      },
      "execution_count": null,
      "outputs": []
    }
  ]
}