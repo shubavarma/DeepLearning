{
  "nbformat": 4,
  "nbformat_minor": 0,
  "metadata": {
    "colab": {
      "provenance": [],
      "mount_file_id": "1vTptrG8lgOigVuXGSxmOsGFWwZp2XEzM",
      "authorship_tag": "ABX9TyOHec1/40fSs1zDL+HJIxWn",
      "include_colab_link": true
    },
    "kernelspec": {
      "name": "python3",
      "display_name": "Python 3"
    },
    "language_info": {
      "name": "python"
    }
  },
  "cells": [
    {
      "cell_type": "markdown",
      "metadata": {
        "id": "view-in-github",
        "colab_type": "text"
      },
      "source": [
        "<a href=\"https://colab.research.google.com/github/shubavarma/DeepLearning/blob/main/MNIST_tuner.ipynb\" target=\"_parent\"><img src=\"https://colab.research.google.com/assets/colab-badge.svg\" alt=\"Open In Colab\"/></a>"
      ]
    },
    {
      "cell_type": "code",
      "execution_count": 30,
      "metadata": {
        "id": "c9scIP5RbUkP"
      },
      "outputs": [],
      "source": [
        "import tensorflow\n",
        "import tensorflow.keras\n",
        "import pandas as pd\n",
        "import matplotlib.pyplot as plt\n",
        "import numpy as np\n",
        "from keras.models import Sequential\n",
        "from keras.layers import Dense, Flatten\n",
        "from sklearn.model_selection import train_test_split\n",
        "from sklearn.preprocessing import StandardScaler\n",
        "from sklearn.metrics import accuracy_score\n",
        "from mlxtend.plotting import plot_decision_regions\n",
        "import kerastuner as k"
      ]
    },
    {
      "cell_type": "markdown",
      "source": [
        "tensorflow.keras has some inbuilt datasets that we can import\n",
        "keras.io/api/datasets"
      ],
      "metadata": {
        "id": "GGDJYkrNcVfe"
      }
    },
    {
      "cell_type": "code",
      "source": [
        "# pip install keras-tuner"
      ],
      "metadata": {
        "id": "r8Emm9D_DpeR"
      },
      "execution_count": 31,
      "outputs": []
    },
    {
      "cell_type": "code",
      "source": [
        "from tensorflow.keras.datasets import mnist"
      ],
      "metadata": {
        "id": "4jEAXQQhbyiD"
      },
      "execution_count": 32,
      "outputs": []
    },
    {
      "cell_type": "markdown",
      "source": [
        "(x_train,y_train),(x_test,y_test) = mnist.load_data() will give the total data"
      ],
      "metadata": {
        "id": "sFTt-R8pdBNz"
      }
    },
    {
      "cell_type": "code",
      "source": [
        "(x_train,y_train),(x_test,y_test) = mnist.load_data()"
      ],
      "metadata": {
        "id": "7HZ2rpv1ct56"
      },
      "execution_count": 33,
      "outputs": []
    },
    {
      "cell_type": "code",
      "source": [
        "x_train.shape"
      ],
      "metadata": {
        "colab": {
          "base_uri": "https://localhost:8080/"
        },
        "id": "zQ-QkdFwc-oc",
        "outputId": "3e911e0d-c6ec-48e4-8fab-6fc8c65141a7"
      },
      "execution_count": 34,
      "outputs": [
        {
          "output_type": "execute_result",
          "data": {
            "text/plain": [
              "(60000, 28, 28)"
            ]
          },
          "metadata": {},
          "execution_count": 34
        }
      ]
    },
    {
      "cell_type": "code",
      "source": [
        "x_test.shape"
      ],
      "metadata": {
        "colab": {
          "base_uri": "https://localhost:8080/"
        },
        "id": "c8wlkghXd3Vl",
        "outputId": "1255f9f0-11bb-4744-b697-63ef7704e4b8"
      },
      "execution_count": 35,
      "outputs": [
        {
          "output_type": "execute_result",
          "data": {
            "text/plain": [
              "(10000, 28, 28)"
            ]
          },
          "metadata": {},
          "execution_count": 35
        }
      ]
    },
    {
      "cell_type": "code",
      "source": [
        "y_train.shape"
      ],
      "metadata": {
        "colab": {
          "base_uri": "https://localhost:8080/"
        },
        "id": "mtx7ApsNd6mr",
        "outputId": "9817ffb6-60c1-4825-a226-6edb113da42a"
      },
      "execution_count": 36,
      "outputs": [
        {
          "output_type": "execute_result",
          "data": {
            "text/plain": [
              "(60000,)"
            ]
          },
          "metadata": {},
          "execution_count": 36
        }
      ]
    },
    {
      "cell_type": "markdown",
      "source": [
        "imshow in matplotlib shows the image"
      ],
      "metadata": {
        "id": "2s3Z7z9sepjv"
      }
    },
    {
      "cell_type": "code",
      "source": [
        "plt.imshow(x_train[0])"
      ],
      "metadata": {
        "colab": {
          "base_uri": "https://localhost:8080/",
          "height": 447
        },
        "id": "kIkY05nkd-kk",
        "outputId": "a1d45735-529a-44a6-c040-5144519dbf3d"
      },
      "execution_count": 37,
      "outputs": [
        {
          "output_type": "execute_result",
          "data": {
            "text/plain": [
              "<matplotlib.image.AxesImage at 0x78c073fdd870>"
            ]
          },
          "metadata": {},
          "execution_count": 37
        },
        {
          "output_type": "display_data",
          "data": {
            "text/plain": [
              "<Figure size 640x480 with 1 Axes>"
            ],
            "image/png": "[encoded data removed]"
          },
          "metadata": {}
        }
      ]
    },
    {
      "cell_type": "code",
      "source": [
        "plt.imshow(x_train[0],cmap='gray')"
      ],
      "metadata": {
        "colab": {
          "base_uri": "https://localhost:8080/",
          "height": 447
        },
        "id": "9ng7wJUBejiH",
        "outputId": "bf005c89-a3c1-4108-9cb4-e9c806222495"
      },
      "execution_count": 38,
      "outputs": [
        {
          "output_type": "execute_result",
          "data": {
            "text/plain": [
              "<matplotlib.image.AxesImage at 0x78c0831d7340>"
            ]
          },
          "metadata": {},
          "execution_count": 38
        },
        {
          "output_type": "display_data",
          "data": {
            "text/plain": [
              "<Figure size 640x480 with 1 Axes>"
            ],
            "image/png": "[encoded data removed]"
          },
          "metadata": {}
        }
      ]
    },
    {
      "cell_type": "markdown",
      "source": [
        "keras also has another layer called Flatten. It will take any n-dim and convert to 1-d array"
      ],
      "metadata": {
        "id": "TJZOMNEAfC-a"
      }
    },
    {
      "cell_type": "code",
      "source": [
        "# using keras tuner\n",
        "def tuners(hp):\n",
        "  model = Sequential()\n",
        "  model.add(Flatten(input_shape=(28,28)))\n",
        "  model.add(Dense(100,activation= hp.Choice(\"activation in 1st hidden layer\",values=['sigmoid','tanh','relu']),\n",
        "                  kernel_initializer=hp.Choice(\"weight initializer in 1st hidden layer\",values=['glorot_uniform','glorot_normal','he_uniform','he_normal']),\n",
        "                  input_dim=2))\n",
        "  model.add(Dense(40,activation=hp.Choice(\"activation in 2nd hidden layer\",values=['sigmoid','tanh','relu']),\n",
        "                   kernel_initializer=hp.Choice(\"weight initializer in 2nd hidden layer\",values=['glorot_uniform','glorot_normal','he_uniform','he_normal']),\n",
        "                  ))\n",
        "  model.add(Dense(10,activation='softmax'))\n",
        "  model.compile(loss='sparse_categorical_crossentropy',optimizer=hp.Choice(\"optimizer\",values=['adam','adadelta','sgd']) ,metrics=['accuracy'])\n",
        "  return model\n"
      ],
      "metadata": {
        "id": "qGXmf7RTfgEk"
      },
      "execution_count": 39,
      "outputs": []
    },
    {
      "cell_type": "code",
      "source": [
        "tuner_obj = k.RandomSearch(tuners,max_trials=10,objective='val_accuracy',directory='folder1')"
      ],
      "metadata": {
        "id": "0MrR-FlyHLFq"
      },
      "execution_count": 40,
      "outputs": []
    },
    {
      "cell_type": "code",
      "source": [
        "tuner_obj"
      ],
      "metadata": {
        "colab": {
          "base_uri": "https://localhost:8080/"
        },
        "id": "b3FsV7LgHK-N",
        "outputId": "fd938be3-24eb-45d4-9c21-3b3ade3c9a54"
      },
      "execution_count": 41,
      "outputs": [
        {
          "output_type": "execute_result",
          "data": {
            "text/plain": [
              "<keras_tuner.tuners.randomsearch.RandomSearch at 0x78c0711bcbe0>"
            ]
          },
          "metadata": {},
          "execution_count": 41
        }
      ]
    },
    {
      "cell_type": "code",
      "source": [
        "tuner_obj.search(x_train,y_train,batch_size=100,epochs=20,validation_split=0.2) # here actual training starts"
      ],
      "metadata": {
        "colab": {
          "base_uri": "https://localhost:8080/"
        },
        "id": "TSLsFLs7HK6u",
        "outputId": "232d4b67-9224-424e-915f-e36da5c71248"
      },
      "execution_count": 42,
      "outputs": [
        {
          "output_type": "stream",
          "name": "stdout",
          "text": [
            "Trial 10 Complete [00h 01m 23s]\n",
            "val_accuracy: 0.9310833215713501\n",
            "\n",
            "Best val_accuracy So Far: 0.9313333630561829\n",
            "Total elapsed time: 00h 13m 14s\n"
          ]
        }
      ]
    },
    {
      "cell_type": "code",
      "source": [
        "tuner_obj.results_summary()"
      ],
      "metadata": {
        "colab": {
          "base_uri": "https://localhost:8080/"
        },
        "id": "qtYKWL-MHK4I",
        "outputId": "603789d9-801e-4adb-98ff-59ee8fb68a24"
      },
      "execution_count": 43,
      "outputs": [
        {
          "output_type": "stream",
          "name": "stdout",
          "text": [
            "Results summary\n",
            "Results in folder1/untitled_project\n",
            "Showing 10 best trials\n",
            "Objective(name=\"val_accuracy\", direction=\"max\")\n",
            "\n",
            "Trial 03 summary\n",
            "Hyperparameters:\n",
            "activation in 1st hidden layer: tanh\n",
            "weight initializer in 1st hidden layer: he_uniform\n",
            "activation in 2nd hidden layer: tanh\n",
            "weight initializer in 2nd hidden layer: he_uniform\n",
            "optimizer: adam\n",
            "Score: 0.9313333630561829\n",
            "\n",
            "Trial 06 summary\n",
            "Hyperparameters:\n",
            "activation in 1st hidden layer: tanh\n",
            "weight initializer in 1st hidden layer: he_uniform\n",
            "activation in 2nd hidden layer: tanh\n",
            "weight initializer in 2nd hidden layer: glorot_uniform\n",
            "optimizer: adam\n",
            "Score: 0.9311666488647461\n",
            "\n",
            "Trial 09 summary\n",
            "Hyperparameters:\n",
            "activation in 1st hidden layer: tanh\n",
            "weight initializer in 1st hidden layer: he_normal\n",
            "activation in 2nd hidden layer: sigmoid\n",
            "weight initializer in 2nd hidden layer: glorot_normal\n",
            "optimizer: adam\n",
            "Score: 0.9310833215713501\n",
            "\n",
            "Trial 01 summary\n",
            "Hyperparameters:\n",
            "activation in 1st hidden layer: tanh\n",
            "weight initializer in 1st hidden layer: glorot_uniform\n",
            "activation in 2nd hidden layer: sigmoid\n",
            "weight initializer in 2nd hidden layer: he_uniform\n",
            "optimizer: adam\n",
            "Score: 0.9238333106040955\n",
            "\n",
            "Trial 00 summary\n",
            "Hyperparameters:\n",
            "activation in 1st hidden layer: relu\n",
            "weight initializer in 1st hidden layer: he_uniform\n",
            "activation in 2nd hidden layer: relu\n",
            "weight initializer in 2nd hidden layer: glorot_normal\n",
            "optimizer: adadelta\n",
            "Score: 0.5558333396911621\n",
            "\n",
            "Trial 08 summary\n",
            "Hyperparameters:\n",
            "activation in 1st hidden layer: sigmoid\n",
            "weight initializer in 1st hidden layer: glorot_uniform\n",
            "activation in 2nd hidden layer: tanh\n",
            "weight initializer in 2nd hidden layer: glorot_uniform\n",
            "optimizer: adadelta\n",
            "Score: 0.3815833330154419\n",
            "\n",
            "Trial 05 summary\n",
            "Hyperparameters:\n",
            "activation in 1st hidden layer: sigmoid\n",
            "weight initializer in 1st hidden layer: he_uniform\n",
            "activation in 2nd hidden layer: sigmoid\n",
            "weight initializer in 2nd hidden layer: he_normal\n",
            "optimizer: adadelta\n",
            "Score: 0.2691666781902313\n",
            "\n",
            "Trial 07 summary\n",
            "Hyperparameters:\n",
            "activation in 1st hidden layer: relu\n",
            "weight initializer in 1st hidden layer: glorot_uniform\n",
            "activation in 2nd hidden layer: tanh\n",
            "weight initializer in 2nd hidden layer: he_uniform\n",
            "optimizer: adadelta\n",
            "Score: 0.2266666740179062\n",
            "\n",
            "Trial 04 summary\n",
            "Hyperparameters:\n",
            "activation in 1st hidden layer: sigmoid\n",
            "weight initializer in 1st hidden layer: he_uniform\n",
            "activation in 2nd hidden layer: sigmoid\n",
            "weight initializer in 2nd hidden layer: he_uniform\n",
            "optimizer: adadelta\n",
            "Score: 0.20733332633972168\n",
            "\n",
            "Trial 02 summary\n",
            "Hyperparameters:\n",
            "activation in 1st hidden layer: relu\n",
            "weight initializer in 1st hidden layer: he_uniform\n",
            "activation in 2nd hidden layer: tanh\n",
            "weight initializer in 2nd hidden layer: glorot_normal\n",
            "optimizer: adadelta\n",
            "Score: 0.18641667068004608\n"
          ]
        }
      ]
    },
    {
      "cell_type": "code",
      "source": [
        "tuner_obj.get_best_hyperparameters()[0].values"
      ],
      "metadata": {
        "colab": {
          "base_uri": "https://localhost:8080/"
        },
        "id": "Bu-U1RfWIGsj",
        "outputId": "d2cf9b70-d8e1-475d-8509-830e50f72b81"
      },
      "execution_count": 44,
      "outputs": [
        {
          "output_type": "execute_result",
          "data": {
            "text/plain": [
              "{'activation in 1st hidden layer': 'tanh',\n",
              " 'weight initializer in 1st hidden layer': 'he_uniform',\n",
              " 'activation in 2nd hidden layer': 'tanh',\n",
              " 'weight initializer in 2nd hidden layer': 'he_uniform',\n",
              " 'optimizer': 'adam'}"
            ]
          },
          "metadata": {},
          "execution_count": 44
        }
      ]
    },
    {
      "cell_type": "code",
      "source": [
        "model = tuner_obj.get_best_models(num_models=1)[0]"
      ],
      "metadata": {
        "id": "q9GqQxBMILW2"
      },
      "execution_count": 45,
      "outputs": []
    },
    {
      "cell_type": "code",
      "source": [
        "model.summary()"
      ],
      "metadata": {
        "colab": {
          "base_uri": "https://localhost:8080/"
        },
        "id": "PdMjiHq1IQF0",
        "outputId": "2a111eca-9272-4496-fb23-3d8daa9c70c7"
      },
      "execution_count": 46,
      "outputs": [
        {
          "output_type": "stream",
          "name": "stdout",
          "text": [
            "Model: \"sequential\"\n",
            "_________________________________________________________________\n",
            " Layer (type)                Output Shape              Param #   \n",
            "=================================================================\n",
            " flatten (Flatten)           (None, 784)               0         \n",
            "                                                                 \n",
            " dense (Dense)               (None, 100)               78500     \n",
            "                                                                 \n",
            " dense_1 (Dense)             (None, 40)                4040      \n",
            "                                                                 \n",
            " dense_2 (Dense)             (None, 10)                410       \n",
            "                                                                 \n",
            "=================================================================\n",
            "Total params: 82,950\n",
            "Trainable params: 82,950\n",
            "Non-trainable params: 0\n",
            "_________________________________________________________________\n"
          ]
        }
      ]
    },
    {
      "cell_type": "code",
      "source": [
        "from keras.utils.vis_utils import plot_model\n",
        "plot_model(model)"
      ],
      "metadata": {
        "colab": {
          "base_uri": "https://localhost:8080/",
          "height": 466
        },
        "id": "now4LirboJWg",
        "outputId": "e322957e-55c6-4e65-8321-4a98a0f21013"
      },
      "execution_count": 47,
      "outputs": [
        {
          "output_type": "execute_result",
          "data": {
            "image/png": "[encoded data removed]",
            "text/plain": [
              "<IPython.core.display.Image object>"
            ]
          },
          "metadata": {},
          "execution_count": 47
        }
      ]
    },
    {
      "cell_type": "code",
      "source": [
        "# model.get_weights()"
      ],
      "metadata": {
        "id": "hIz2LhCSiLLe"
      },
      "execution_count": 48,
      "outputs": []
    },
    {
      "cell_type": "code",
      "source": [
        "predict = np.argmax(model.predict(x_test),axis=1) # row wise we want to get the index value of highest probability, so classification prediction done"
      ],
      "metadata": {
        "colab": {
          "base_uri": "https://localhost:8080/"
        },
        "id": "Ap3iVpiVlDxN",
        "outputId": "0ca723b0-776b-4a7c-d679-3e41c3f5a91e"
      },
      "execution_count": 49,
      "outputs": [
        {
          "output_type": "stream",
          "name": "stdout",
          "text": [
            "313/313 [==============================] - 1s 2ms/step\n"
          ]
        }
      ]
    },
    {
      "cell_type": "code",
      "source": [
        "accuracy_score(y_test,predict)"
      ],
      "metadata": {
        "colab": {
          "base_uri": "https://localhost:8080/"
        },
        "id": "goFksa_HmWx4",
        "outputId": "0c5382b0-66c2-4639-883b-66bf75e3b332"
      },
      "execution_count": 50,
      "outputs": [
        {
          "output_type": "execute_result",
          "data": {
            "text/plain": [
              "0.9269"
            ]
          },
          "metadata": {},
          "execution_count": 50
        }
      ]
    },
    {
      "cell_type": "code",
      "source": [
        "plt.imshow(x_test[2])"
      ],
      "metadata": {
        "colab": {
          "base_uri": "https://localhost:8080/",
          "height": 447
        },
        "id": "JSgCC_PXmjs7",
        "outputId": "ae26411e-6e8b-40fc-9d31-056aa3f22da1"
      },
      "execution_count": 51,
      "outputs": [
        {
          "output_type": "execute_result",
          "data": {
            "text/plain": [
              "<matplotlib.image.AxesImage at 0x78c086fa0a00>"
            ]
          },
          "metadata": {},
          "execution_count": 51
        },
        {
          "output_type": "display_data",
          "data": {
            "text/plain": [
              "<Figure size 640x480 with 1 Axes>"
            ],
            "image/png": "[encoded data removed]"
          },
          "metadata": {}
        }
      ]
    },
    {
      "cell_type": "code",
      "source": [
        "print(predict[2])"
      ],
      "metadata": {
        "colab": {
          "base_uri": "https://localhost:8080/"
        },
        "id": "YTO74pIdmouc",
        "outputId": "790be4b1-d89c-4dcd-b495-e24543cec221"
      },
      "execution_count": 52,
      "outputs": [
        {
          "output_type": "stream",
          "name": "stdout",
          "text": [
            "1\n"
          ]
        }
      ]
    },
    {
      "cell_type": "code",
      "source": [],
      "metadata": {
        "id": "E67s-qU8m3IJ"
      },
      "execution_count": 52,
      "outputs": []
    }
  ]
}