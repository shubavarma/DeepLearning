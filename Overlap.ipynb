{
  "nbformat": 4,
  "nbformat_minor": 0,
  "metadata": {
    "colab": {
      "provenance": [],
      "mount_file_id": "1uKYp6UKhWfiZ-JrWw3IkbomJvTBBq9BA",
      "authorship_tag": "ABX9TyO42pn0Maxx0Bf2aLjRoOUe",
      "include_colab_link": true
    },
    "kernelspec": {
      "name": "python3",
      "display_name": "Python 3"
    },
    "language_info": {
      "name": "python"
    }
  },
  "cells": [
    {
      "cell_type": "markdown",
      "metadata": {
        "id": "view-in-github",
        "colab_type": "text"
      },
      "source": [
        "<a href=\"https://colab.research.google.com/github/shubavarma/DeepLearning/blob/main/Overlap.ipynb\" target=\"_parent\"><img src=\"https://colab.research.google.com/assets/colab-badge.svg\" alt=\"Open In Colab\"/></a>"
      ]
    },
    {
      "cell_type": "code",
      "execution_count": 250,
      "metadata": {
        "id": "BR9p-bgN4L19"
      },
      "outputs": [],
      "source": [
        "import tensorflow\n",
        "import tensorflow.keras\n",
        "import numpy as np\n",
        "import pandas as pd\n",
        "import matplotlib.pyplot as plt\n",
        "from keras.layers import Dense\n",
        "from keras.models import Sequential\n",
        "from sklearn.model_selection import train_test_split\n",
        "from sklearn.metrics import accuracy_score\n",
        "from sklearn.preprocessing import StandardScaler\n",
        "from mlxtend.plotting import plot_decision_regions\n",
        "from keras.utils.vis_utils import plot_model"
      ]
    },
    {
      "cell_type": "code",
      "source": [
        "data = pd.read_csv(\"/content/drive/MyDrive/Colab Notebooks/DLdatasets/6.overlap.csv\",header=None)"
      ],
      "metadata": {
        "id": "4nXX6fr54g-W"
      },
      "execution_count": 251,
      "outputs": []
    },
    {
      "cell_type": "code",
      "source": [
        "data.head()"
      ],
      "metadata": {
        "colab": {
          "base_uri": "https://localhost:8080/",
          "height": 206
        },
        "id": "agfIazf54mJu",
        "outputId": "4e36123c-cadd-473a-d92d-178b5b513988"
      },
      "execution_count": 252,
      "outputs": [
        {
          "output_type": "execute_result",
          "data": {
            "text/plain": [
              "     0    1  2\n",
              "0  7.0  3.2  0\n",
              "1  6.4  3.2  0\n",
              "2  6.9  3.1  0\n",
              "3  5.5  2.3  0\n",
              "4  6.5  2.8  0"
            ],
            "text/html": [
              "\n",
              "\n",
              "  <div id=\"df-07096069-bb72-43ea-b472-d01932ef1006\">\n",
              "    <div class=\"colab-df-container\">\n",
              "      <div>\n",
              "<style scoped>\n",
              "    .dataframe tbody tr th:only-of-type {\n",
              "        vertical-align: middle;\n",
              "    }\n",
              "\n",
              "    .dataframe tbody tr th {\n",
              "        vertical-align: top;\n",
              "    }\n",
              "\n",
              "    .dataframe thead th {\n",
              "        text-align: right;\n",
              "    }\n",
              "</style>\n",
              "<table border=\"1\" class=\"dataframe\">\n",
              "  <thead>\n",
              "    <tr style=\"text-align: right;\">\n",
              "      <th></th>\n",
              "      <th>0</th>\n",
              "      <th>1</th>\n",
              "      <th>2</th>\n",
              "    </tr>\n",
              "  </thead>\n",
              "  <tbody>\n",
              "    <tr>\n",
              "      <th>0</th>\n",
              "      <td>7.0</td>\n",
              "      <td>3.2</td>\n",
              "      <td>0</td>\n",
              "    </tr>\n",
              "    <tr>\n",
              "      <th>1</th>\n",
              "      <td>6.4</td>\n",
              "      <td>3.2</td>\n",
              "      <td>0</td>\n",
              "    </tr>\n",
              "    <tr>\n",
              "      <th>2</th>\n",
              "      <td>6.9</td>\n",
              "      <td>3.1</td>\n",
              "      <td>0</td>\n",
              "    </tr>\n",
              "    <tr>\n",
              "      <th>3</th>\n",
              "      <td>5.5</td>\n",
              "      <td>2.3</td>\n",
              "      <td>0</td>\n",
              "    </tr>\n",
              "    <tr>\n",
              "      <th>4</th>\n",
              "      <td>6.5</td>\n",
              "      <td>2.8</td>\n",
              "      <td>0</td>\n",
              "    </tr>\n",
              "  </tbody>\n",
              "</table>\n",
              "</div>\n",
              "      <button class=\"colab-df-convert\" onclick=\"convertToInteractive('df-07096069-bb72-43ea-b472-d01932ef1006')\"\n",
              "              title=\"Convert this dataframe to an interactive table.\"\n",
              "              style=\"display:none;\">\n",
              "\n",
              "  <svg xmlns=\"http://www.w3.org/2000/svg\" height=\"24px\"viewBox=\"0 0 24 24\"\n",
              "       width=\"24px\">\n",
              "    <path d=\"M0 0h24v24H0V0z\" fill=\"none\"/>\n",
              "    <path d=\"M18.56 5.44l.94 2.06.94-2.06 2.06-.94-2.06-.94-.94-2.06-.94 2.06-2.06.94zm-11 1L8.5 8.5l.94-2.06 2.06-.94-2.06-.94L8.5 2.5l-.94 2.06-2.06.94zm10 10l.94 2.06.94-2.06 2.06-.94-2.06-.94-.94-2.06-.94 2.06-2.06.94z\"/><path d=\"M17.41 7.96l-1.37-1.37c-.4-.4-.92-.59-1.43-.59-.52 0-1.04.2-1.43.59L10.3 9.45l-7.72 7.72c-.78.78-.78 2.05 0 2.83L4 21.41c.39.39.9.59 1.41.59.51 0 1.02-.2 1.41-.59l7.78-7.78 2.81-2.81c.8-.78.8-2.07 0-2.86zM5.41 20L4 18.59l7.72-7.72 1.47 1.35L5.41 20z\"/>\n",
              "  </svg>\n",
              "      </button>\n",
              "\n",
              "\n",
              "\n",
              "    <div id=\"df-f4781557-a026-4f19-9470-f5dcdf376c4e\">\n",
              "      <button class=\"colab-df-quickchart\" onclick=\"quickchart('df-f4781557-a026-4f19-9470-f5dcdf376c4e')\"\n",
              "              title=\"Suggest charts.\"\n",
              "              style=\"display:none;\">\n",
              "\n",
              "<svg xmlns=\"http://www.w3.org/2000/svg\" height=\"24px\"viewBox=\"0 0 24 24\"\n",
              "     width=\"24px\">\n",
              "    <g>\n",
              "        <path d=\"M19 3H5c-1.1 0-2 .9-2 2v14c0 1.1.9 2 2 2h14c1.1 0 2-.9 2-2V5c0-1.1-.9-2-2-2zM9 17H7v-7h2v7zm4 0h-2V7h2v10zm4 0h-2v-4h2v4z\"/>\n",
              "    </g>\n",
              "</svg>\n",
              "      </button>\n",
              "    </div>\n",
              "\n",
              "<style>\n",
              "  .colab-df-quickchart {\n",
              "    background-color: #E8F0FE;\n",
              "    border: none;\n",
              "    border-radius: 50%;\n",
              "    cursor: pointer;\n",
              "    display: none;\n",
              "    fill: #1967D2;\n",
              "    height: 32px;\n",
              "    padding: 0 0 0 0;\n",
              "    width: 32px;\n",
              "  }\n",
              "\n",
              "  .colab-df-quickchart:hover {\n",
              "    background-color: #E2EBFA;\n",
              "    box-shadow: 0px 1px 2px rgba(60, 64, 67, 0.3), 0px 1px 3px 1px rgba(60, 64, 67, 0.15);\n",
              "    fill: #174EA6;\n",
              "  }\n",
              "\n",
              "  [theme=dark] .colab-df-quickchart {\n",
              "    background-color: #3B4455;\n",
              "    fill: #D2E3FC;\n",
              "  }\n",
              "\n",
              "  [theme=dark] .colab-df-quickchart:hover {\n",
              "    background-color: #434B5C;\n",
              "    box-shadow: 0px 1px 3px 1px rgba(0, 0, 0, 0.15);\n",
              "    filter: drop-shadow(0px 1px 2px rgba(0, 0, 0, 0.3));\n",
              "    fill: #FFFFFF;\n",
              "  }\n",
              "</style>\n",
              "\n",
              "    <script>\n",
              "      async function quickchart(key) {\n",
              "        const containerElement = document.querySelector('#' + key);\n",
              "        const charts = await google.colab.kernel.invokeFunction(\n",
              "            'suggestCharts', [key], {});\n",
              "      }\n",
              "    </script>\n",
              "\n",
              "      <script>\n",
              "\n",
              "function displayQuickchartButton(domScope) {\n",
              "  let quickchartButtonEl =\n",
              "    domScope.querySelector('#df-f4781557-a026-4f19-9470-f5dcdf376c4e button.colab-df-quickchart');\n",
              "  quickchartButtonEl.style.display =\n",
              "    google.colab.kernel.accessAllowed ? 'block' : 'none';\n",
              "}\n",
              "\n",
              "        displayQuickchartButton(document);\n",
              "      </script>\n",
              "      <style>\n",
              "    .colab-df-container {\n",
              "      display:flex;\n",
              "      flex-wrap:wrap;\n",
              "      gap: 12px;\n",
              "    }\n",
              "\n",
              "    .colab-df-convert {\n",
              "      background-color: #E8F0FE;\n",
              "      border: none;\n",
              "      border-radius: 50%;\n",
              "      cursor: pointer;\n",
              "      display: none;\n",
              "      fill: #1967D2;\n",
              "      height: 32px;\n",
              "      padding: 0 0 0 0;\n",
              "      width: 32px;\n",
              "    }\n",
              "\n",
              "    .colab-df-convert:hover {\n",
              "      background-color: #E2EBFA;\n",
              "      box-shadow: 0px 1px 2px rgba(60, 64, 67, 0.3), 0px 1px 3px 1px rgba(60, 64, 67, 0.15);\n",
              "      fill: #174EA6;\n",
              "    }\n",
              "\n",
              "    [theme=dark] .colab-df-convert {\n",
              "      background-color: #3B4455;\n",
              "      fill: #D2E3FC;\n",
              "    }\n",
              "\n",
              "    [theme=dark] .colab-df-convert:hover {\n",
              "      background-color: #434B5C;\n",
              "      box-shadow: 0px 1px 3px 1px rgba(0, 0, 0, 0.15);\n",
              "      filter: drop-shadow(0px 1px 2px rgba(0, 0, 0, 0.3));\n",
              "      fill: #FFFFFF;\n",
              "    }\n",
              "  </style>\n",
              "\n",
              "      <script>\n",
              "        const buttonEl =\n",
              "          document.querySelector('#df-07096069-bb72-43ea-b472-d01932ef1006 button.colab-df-convert');\n",
              "        buttonEl.style.display =\n",
              "          google.colab.kernel.accessAllowed ? 'block' : 'none';\n",
              "\n",
              "        async function convertToInteractive(key) {\n",
              "          const element = document.querySelector('#df-07096069-bb72-43ea-b472-d01932ef1006');\n",
              "          const dataTable =\n",
              "            await google.colab.kernel.invokeFunction('convertToInteractive',\n",
              "                                                     [key], {});\n",
              "          if (!dataTable) return;\n",
              "\n",
              "          const docLinkHtml = 'Like what you see? Visit the ' +\n",
              "            '<a target=\"_blank\" href=https://colab.research.google.com/notebooks/data_table.ipynb>data table notebook</a>'\n",
              "            + ' to learn more about interactive tables.';\n",
              "          element.innerHTML = '';\n",
              "          dataTable['output_type'] = 'display_data';\n",
              "          await google.colab.output.renderOutput(dataTable, element);\n",
              "          const docLink = document.createElement('div');\n",
              "          docLink.innerHTML = docLinkHtml;\n",
              "          element.appendChild(docLink);\n",
              "        }\n",
              "      </script>\n",
              "    </div>\n",
              "  </div>\n"
            ]
          },
          "metadata": {},
          "execution_count": 252
        }
      ]
    },
    {
      "cell_type": "code",
      "source": [
        "data.info()"
      ],
      "metadata": {
        "colab": {
          "base_uri": "https://localhost:8080/"
        },
        "id": "nWIyk5tq4niQ",
        "outputId": "48dffe6d-b2e1-407d-f055-04239f47bb28"
      },
      "execution_count": 253,
      "outputs": [
        {
          "output_type": "stream",
          "name": "stdout",
          "text": [
            "<class 'pandas.core.frame.DataFrame'>\n",
            "RangeIndex: 100 entries, 0 to 99\n",
            "Data columns (total 3 columns):\n",
            " #   Column  Non-Null Count  Dtype  \n",
            "---  ------  --------------  -----  \n",
            " 0   0       100 non-null    float64\n",
            " 1   1       100 non-null    float64\n",
            " 2   2       100 non-null    int64  \n",
            "dtypes: float64(2), int64(1)\n",
            "memory usage: 2.5 KB\n"
          ]
        }
      ]
    },
    {
      "cell_type": "markdown",
      "source": [
        "No null values"
      ],
      "metadata": {
        "id": "om5HO3e_4rUh"
      }
    },
    {
      "cell_type": "code",
      "source": [
        "data.shape"
      ],
      "metadata": {
        "colab": {
          "base_uri": "https://localhost:8080/"
        },
        "id": "E0dho3Au4pnW",
        "outputId": "a0d6ac31-5a79-4060-8d70-40ea8ce4a7c6"
      },
      "execution_count": 254,
      "outputs": [
        {
          "output_type": "execute_result",
          "data": {
            "text/plain": [
              "(100, 3)"
            ]
          },
          "metadata": {},
          "execution_count": 254
        }
      ]
    },
    {
      "cell_type": "code",
      "source": [
        "plt.boxplot(data)\n",
        "plt.show()"
      ],
      "metadata": {
        "colab": {
          "base_uri": "https://localhost:8080/",
          "height": 430
        },
        "id": "vQNRBeDu4t_c",
        "outputId": "71457e3c-da1e-47e7-c584-0ba1962cf0aa"
      },
      "execution_count": 255,
      "outputs": [
        {
          "output_type": "display_data",
          "data": {
            "text/plain": [
              "<Figure size 640x480 with 1 Axes>"
            ],
            "image/png": "[encoded data removed]"
          },
          "metadata": {}
        }
      ]
    },
    {
      "cell_type": "markdown",
      "source": [
        "There are some outliers in column 2 we can cap them"
      ],
      "metadata": {
        "id": "QNcrqa0W4-1t"
      }
    },
    {
      "cell_type": "code",
      "source": [
        "def find_outliers_IQR(df):\n",
        "    q1=df.quantile(0.25)\n",
        "    q3=df.quantile(0.75)\n",
        "    IQR=q3-q1\n",
        "    outliers = df[((df<(q1-1.5*IQR)) | (df>(q3+1.5*IQR)))]\n",
        "    return outliers"
      ],
      "metadata": {
        "id": "lbjXuAY943Ui"
      },
      "execution_count": 256,
      "outputs": []
    },
    {
      "cell_type": "code",
      "source": [
        "find_outliers_IQR(data[1])"
      ],
      "metadata": {
        "colab": {
          "base_uri": "https://localhost:8080/"
        },
        "id": "21vOu2SOyrIX",
        "outputId": "c34592e6-f3c4-4967-f3b5-55db207cc504"
      },
      "execution_count": 257,
      "outputs": [
        {
          "output_type": "execute_result",
          "data": {
            "text/plain": [
              "10    2.0\n",
              "12    2.2\n",
              "18    2.2\n",
              "59    3.6\n",
              "67    3.8\n",
              "69    2.2\n",
              "81    3.8\n",
              "Name: 1, dtype: float64"
            ]
          },
          "metadata": {},
          "execution_count": 257
        }
      ]
    },
    {
      "cell_type": "code",
      "source": [
        "def cap_Outliers(df):\n",
        "    q1=df.quantile(0.25)\n",
        "    q3=df.quantile(0.75)\n",
        "    IQR=q3-q1\n",
        "    lowbound = q1 -(1.5*IQR)\n",
        "    upbound = q3 +(1.5*IQR)\n",
        "    df = df.apply(lambda x : lowbound if x < lowbound  else  upbound  if x > upbound else x)\n",
        "    return df"
      ],
      "metadata": {
        "id": "_xPviGaAyt5Z"
      },
      "execution_count": 258,
      "outputs": []
    },
    {
      "cell_type": "code",
      "source": [
        "data[1] = cap_Outliers(data[1])"
      ],
      "metadata": {
        "id": "yY6k3WSdzpOQ"
      },
      "execution_count": 259,
      "outputs": []
    },
    {
      "cell_type": "code",
      "source": [
        "find_outliers_IQR(data[1])"
      ],
      "metadata": {
        "colab": {
          "base_uri": "https://localhost:8080/"
        },
        "id": "oLxo4LI1117o",
        "outputId": "7f4b4f09-5cfd-4fb9-a053-4bd6c4e82bb2"
      },
      "execution_count": 260,
      "outputs": [
        {
          "output_type": "execute_result",
          "data": {
            "text/plain": [
              "Series([], Name: 1, dtype: float64)"
            ]
          },
          "metadata": {},
          "execution_count": 260
        }
      ]
    },
    {
      "cell_type": "code",
      "source": [
        "plt.boxplot(data)\n",
        "plt.show()"
      ],
      "metadata": {
        "colab": {
          "base_uri": "https://localhost:8080/",
          "height": 430
        },
        "id": "klCKmITpzrWi",
        "outputId": "cad54025-89fd-465a-d85f-33bf733b356f"
      },
      "execution_count": 261,
      "outputs": [
        {
          "output_type": "display_data",
          "data": {
            "text/plain": [
              "<Figure size 640x480 with 1 Axes>"
            ],
            "image/png": "[encoded data removed]"
          },
          "metadata": {}
        }
      ]
    },
    {
      "cell_type": "markdown",
      "source": [
        "Outliers have been capped"
      ],
      "metadata": {
        "id": "uKIYFqPi5Nx8"
      }
    },
    {
      "cell_type": "code",
      "source": [],
      "metadata": {
        "id": "fS_i9MFA5MZM"
      },
      "execution_count": 261,
      "outputs": []
    },
    {
      "cell_type": "code",
      "source": [
        "data[2].value_counts()"
      ],
      "metadata": {
        "colab": {
          "base_uri": "https://localhost:8080/"
        },
        "id": "_qAAFtQz1uuk",
        "outputId": "41b751fe-e15b-44d0-c814-cb1b0507d7a2"
      },
      "execution_count": 262,
      "outputs": [
        {
          "output_type": "execute_result",
          "data": {
            "text/plain": [
              "0    50\n",
              "1    50\n",
              "Name: 2, dtype: int64"
            ]
          },
          "metadata": {},
          "execution_count": 262
        }
      ]
    },
    {
      "cell_type": "markdown",
      "source": [
        "balanced dataset"
      ],
      "metadata": {
        "id": "3WfR2bMx2NQB"
      }
    },
    {
      "cell_type": "code",
      "source": [
        "x = data[[0,1]]\n",
        "y = data[2]"
      ],
      "metadata": {
        "id": "YIaNNrGDdrF_"
      },
      "execution_count": 263,
      "outputs": []
    },
    {
      "cell_type": "code",
      "source": [
        "y = y.astype(int)"
      ],
      "metadata": {
        "id": "Y_gFG98pd3kB"
      },
      "execution_count": 264,
      "outputs": []
    },
    {
      "cell_type": "markdown",
      "source": [
        "Output needs to be int for comparision with predicted output\n",
        "\n",
        "> Indented block\n",
        "\n"
      ],
      "metadata": {
        "id": "25o-cSicd7az"
      }
    },
    {
      "cell_type": "code",
      "source": [
        "x_train,x_test,y_train,y_test=train_test_split(x,y,test_size=0.2,random_state=33)"
      ],
      "metadata": {
        "id": "2NiC5-Uqd6pc"
      },
      "execution_count": 265,
      "outputs": []
    },
    {
      "cell_type": "code",
      "source": [
        "x_train.shape,x_test.shape,len(y_train),len(y_test)"
      ],
      "metadata": {
        "colab": {
          "base_uri": "https://localhost:8080/"
        },
        "id": "niiQ97oDeIZw",
        "outputId": "c07b426c-3c8c-453f-d7ae-b160098f1eee"
      },
      "execution_count": 266,
      "outputs": [
        {
          "output_type": "execute_result",
          "data": {
            "text/plain": [
              "((80, 2), (20, 2), 80, 20)"
            ]
          },
          "metadata": {},
          "execution_count": 266
        }
      ]
    },
    {
      "cell_type": "code",
      "source": [
        "std=StandardScaler()\n",
        "x_train=std.fit_transform(x_train)\n",
        "x_test=std.transform(x_test)"
      ],
      "metadata": {
        "id": "1ny1XMrveK7T"
      },
      "execution_count": 267,
      "outputs": []
    },
    {
      "cell_type": "code",
      "source": [
        "# code to visualize the data\n",
        "data.columns = [\"one\",\"two\",\"three\"]\n",
        "import seaborn as sns\n",
        "sns.scatterplot(data=data, x=\"one\",y=\"two\",hue=\"three\")\n",
        "plt.legend()"
      ],
      "metadata": {
        "colab": {
          "base_uri": "https://localhost:8080/",
          "height": 466
        },
        "id": "YTCl3rQ_90Z0",
        "outputId": "938c3654-d9c5-49bb-cd8f-cd3122776543"
      },
      "execution_count": 268,
      "outputs": [
        {
          "output_type": "execute_result",
          "data": {
            "text/plain": [
              "<matplotlib.legend.Legend at 0x7a41c43495d0>"
            ]
          },
          "metadata": {},
          "execution_count": 268
        },
        {
          "output_type": "display_data",
          "data": {
            "text/plain": [
              "<Figure size 640x480 with 1 Axes>"
            ],
            "image/png": "[encoded data removed]"
          },
          "metadata": {}
        }
      ]
    },
    {
      "cell_type": "code",
      "source": [
        "model=Sequential()\n",
        "model.add(Dense(11,activation=\"tanh\",input_dim=2))\n",
        "model.add(Dense(1,activation=\"sigmoid\"))"
      ],
      "metadata": {
        "id": "_eaWjePYeNvW"
      },
      "execution_count": 269,
      "outputs": []
    },
    {
      "cell_type": "code",
      "source": [
        "model.summary()"
      ],
      "metadata": {
        "colab": {
          "base_uri": "https://localhost:8080/"
        },
        "id": "dx0SgHugeQIp",
        "outputId": "4a6d9601-bdda-4f1e-dc82-59aa1d67a02f"
      },
      "execution_count": 270,
      "outputs": [
        {
          "output_type": "stream",
          "name": "stdout",
          "text": [
            "Model: \"sequential_10\"\n",
            "_________________________________________________________________\n",
            " Layer (type)                Output Shape              Param #   \n",
            "=================================================================\n",
            " dense_21 (Dense)            (None, 11)                33        \n",
            "                                                                 \n",
            " dense_22 (Dense)            (None, 1)                 12        \n",
            "                                                                 \n",
            "=================================================================\n",
            "Total params: 45\n",
            "Trainable params: 45\n",
            "Non-trainable params: 0\n",
            "_________________________________________________________________\n"
          ]
        }
      ]
    },
    {
      "cell_type": "code",
      "source": [
        "plot_model(model)"
      ],
      "metadata": {
        "colab": {
          "base_uri": "https://localhost:8080/",
          "height": 272
        },
        "id": "bvE6tuTaeSk2",
        "outputId": "aa30ac76-6d0f-4b22-c201-12ea2aa2d473"
      },
      "execution_count": 271,
      "outputs": [
        {
          "output_type": "execute_result",
          "data": {
            "image/png": "[encoded data removed]",
            "text/plain": [
              "<IPython.core.display.Image object>"
            ]
          },
          "metadata": {},
          "execution_count": 271
        }
      ]
    },
    {
      "cell_type": "code",
      "source": [
        "model.layers[0].get_weights()"
      ],
      "metadata": {
        "colab": {
          "base_uri": "https://localhost:8080/"
        },
        "id": "py5U4pqBeVAh",
        "outputId": "21968023-1229-40ff-b8bf-4e90ee54fc93"
      },
      "execution_count": 272,
      "outputs": [
        {
          "output_type": "execute_result",
          "data": {
            "text/plain": [
              "[array([[ 0.14363605,  0.44791234, -0.04595059,  0.24061137, -0.56141096,\n",
              "          0.42050517,  0.6726241 ,  0.4152106 , -0.12393987, -0.2919398 ,\n",
              "         -0.09071231],\n",
              "        [ 0.49865735,  0.6043639 , -0.43863437,  0.05353224, -0.02448195,\n",
              "         -0.18845668, -0.12264621,  0.40814137, -0.31710222, -0.44177145,\n",
              "          0.09741527]], dtype=float32),\n",
              " array([0., 0., 0., 0., 0., 0., 0., 0., 0., 0., 0.], dtype=float32)]"
            ]
          },
          "metadata": {},
          "execution_count": 272
        }
      ]
    },
    {
      "cell_type": "code",
      "source": [
        "model.compile(optimizer=\"sgd\",loss=\"binary_crossentropy\",metrics=[\"accuracy\"])"
      ],
      "metadata": {
        "id": "nPeAARHaeXXs"
      },
      "execution_count": 273,
      "outputs": []
    },
    {
      "cell_type": "code",
      "source": [
        "history = model.fit(x_train,y_train,batch_size=1,epochs=150,validation_split=0.2)"
      ],
      "metadata": {
        "colab": {
          "base_uri": "https://localhost:8080/"
        },
        "id": "cnXG_EHEec_j",
        "outputId": "97e2bfe8-587b-4625-90a2-1fbe246a8dcc"
      },
      "execution_count": 274,
      "outputs": [
        {
          "output_type": "stream",
          "name": "stdout",
          "text": [
            "Epoch 1/150\n",
            "64/64 [==============================] - 0s 3ms/step - loss: 0.6276 - accuracy: 0.6562 - val_loss: 0.6043 - val_accuracy: 0.6875\n",
            "Epoch 2/150\n",
            "64/64 [==============================] - 0s 2ms/step - loss: 0.5939 - accuracy: 0.7188 - val_loss: 0.5763 - val_accuracy: 0.5625\n",
            "Epoch 3/150\n",
            "64/64 [==============================] - 0s 2ms/step - loss: 0.5772 - accuracy: 0.7188 - val_loss: 0.5574 - val_accuracy: 0.5625\n",
            "Epoch 4/150\n",
            "64/64 [==============================] - 0s 2ms/step - loss: 0.5675 - accuracy: 0.7031 - val_loss: 0.5453 - val_accuracy: 0.6250\n",
            "Epoch 5/150\n",
            "64/64 [==============================] - 0s 2ms/step - loss: 0.5614 - accuracy: 0.7188 - val_loss: 0.5368 - val_accuracy: 0.6250\n",
            "Epoch 6/150\n",
            "64/64 [==============================] - 0s 2ms/step - loss: 0.5572 - accuracy: 0.7031 - val_loss: 0.5279 - val_accuracy: 0.6250\n",
            "Epoch 7/150\n",
            "64/64 [==============================] - 0s 2ms/step - loss: 0.5544 - accuracy: 0.7031 - val_loss: 0.5242 - val_accuracy: 0.6250\n",
            "Epoch 8/150\n",
            "64/64 [==============================] - 0s 2ms/step - loss: 0.5526 - accuracy: 0.7031 - val_loss: 0.5201 - val_accuracy: 0.6250\n",
            "Epoch 9/150\n",
            "64/64 [==============================] - 0s 2ms/step - loss: 0.5512 - accuracy: 0.7031 - val_loss: 0.5165 - val_accuracy: 0.6250\n",
            "Epoch 10/150\n",
            "64/64 [==============================] - 0s 2ms/step - loss: 0.5500 - accuracy: 0.7031 - val_loss: 0.5129 - val_accuracy: 0.6250\n",
            "Epoch 11/150\n",
            "64/64 [==============================] - 0s 2ms/step - loss: 0.5486 - accuracy: 0.7188 - val_loss: 0.5110 - val_accuracy: 0.6250\n",
            "Epoch 12/150\n",
            "64/64 [==============================] - 0s 2ms/step - loss: 0.5481 - accuracy: 0.7188 - val_loss: 0.5074 - val_accuracy: 0.6875\n",
            "Epoch 13/150\n",
            "64/64 [==============================] - 0s 2ms/step - loss: 0.5474 - accuracy: 0.7188 - val_loss: 0.5058 - val_accuracy: 0.6875\n",
            "Epoch 14/150\n",
            "64/64 [==============================] - 0s 2ms/step - loss: 0.5466 - accuracy: 0.7188 - val_loss: 0.5020 - val_accuracy: 0.6875\n",
            "Epoch 15/150\n",
            "64/64 [==============================] - 0s 2ms/step - loss: 0.5465 - accuracy: 0.7188 - val_loss: 0.4997 - val_accuracy: 0.6875\n",
            "Epoch 16/150\n",
            "64/64 [==============================] - 0s 2ms/step - loss: 0.5462 - accuracy: 0.7188 - val_loss: 0.4992 - val_accuracy: 0.6875\n",
            "Epoch 17/150\n",
            "64/64 [==============================] - 0s 2ms/step - loss: 0.5458 - accuracy: 0.7344 - val_loss: 0.4969 - val_accuracy: 0.6875\n",
            "Epoch 18/150\n",
            "64/64 [==============================] - 0s 2ms/step - loss: 0.5455 - accuracy: 0.7188 - val_loss: 0.4968 - val_accuracy: 0.6875\n",
            "Epoch 19/150\n",
            "64/64 [==============================] - 0s 2ms/step - loss: 0.5453 - accuracy: 0.7188 - val_loss: 0.4963 - val_accuracy: 0.6875\n",
            "Epoch 20/150\n",
            "64/64 [==============================] - 0s 2ms/step - loss: 0.5452 - accuracy: 0.7188 - val_loss: 0.4952 - val_accuracy: 0.6875\n",
            "Epoch 21/150\n",
            "64/64 [==============================] - 0s 2ms/step - loss: 0.5448 - accuracy: 0.7344 - val_loss: 0.4943 - val_accuracy: 0.6875\n",
            "Epoch 22/150\n",
            "64/64 [==============================] - 0s 2ms/step - loss: 0.5448 - accuracy: 0.7344 - val_loss: 0.4929 - val_accuracy: 0.6875\n",
            "Epoch 23/150\n",
            "64/64 [==============================] - 0s 2ms/step - loss: 0.5447 - accuracy: 0.7188 - val_loss: 0.4928 - val_accuracy: 0.6875\n",
            "Epoch 24/150\n",
            "64/64 [==============================] - 0s 2ms/step - loss: 0.5444 - accuracy: 0.7188 - val_loss: 0.4917 - val_accuracy: 0.6875\n",
            "Epoch 25/150\n",
            "64/64 [==============================] - 0s 3ms/step - loss: 0.5440 - accuracy: 0.7188 - val_loss: 0.4921 - val_accuracy: 0.6875\n",
            "Epoch 26/150\n",
            "64/64 [==============================] - 0s 2ms/step - loss: 0.5440 - accuracy: 0.7188 - val_loss: 0.4928 - val_accuracy: 0.6875\n",
            "Epoch 27/150\n",
            "64/64 [==============================] - 0s 2ms/step - loss: 0.5441 - accuracy: 0.7188 - val_loss: 0.4925 - val_accuracy: 0.6875\n",
            "Epoch 28/150\n",
            "64/64 [==============================] - 0s 2ms/step - loss: 0.5436 - accuracy: 0.7031 - val_loss: 0.4897 - val_accuracy: 0.6875\n",
            "Epoch 29/150\n",
            "64/64 [==============================] - 0s 2ms/step - loss: 0.5439 - accuracy: 0.7188 - val_loss: 0.4889 - val_accuracy: 0.6875\n",
            "Epoch 30/150\n",
            "64/64 [==============================] - 0s 2ms/step - loss: 0.5436 - accuracy: 0.7188 - val_loss: 0.4875 - val_accuracy: 0.6875\n",
            "Epoch 31/150\n",
            "64/64 [==============================] - 0s 2ms/step - loss: 0.5435 - accuracy: 0.7188 - val_loss: 0.4881 - val_accuracy: 0.6875\n",
            "Epoch 32/150\n",
            "64/64 [==============================] - 0s 2ms/step - loss: 0.5433 - accuracy: 0.7344 - val_loss: 0.4861 - val_accuracy: 0.6875\n",
            "Epoch 33/150\n",
            "64/64 [==============================] - 0s 2ms/step - loss: 0.5433 - accuracy: 0.7188 - val_loss: 0.4856 - val_accuracy: 0.6875\n",
            "Epoch 34/150\n",
            "64/64 [==============================] - 0s 2ms/step - loss: 0.5430 - accuracy: 0.7344 - val_loss: 0.4880 - val_accuracy: 0.6875\n",
            "Epoch 35/150\n",
            "64/64 [==============================] - 0s 2ms/step - loss: 0.5430 - accuracy: 0.7188 - val_loss: 0.4893 - val_accuracy: 0.6875\n",
            "Epoch 36/150\n",
            "64/64 [==============================] - 0s 2ms/step - loss: 0.5430 - accuracy: 0.7188 - val_loss: 0.4906 - val_accuracy: 0.6875\n",
            "Epoch 37/150\n",
            "64/64 [==============================] - 0s 2ms/step - loss: 0.5431 - accuracy: 0.7188 - val_loss: 0.4897 - val_accuracy: 0.6875\n",
            "Epoch 38/150\n",
            "64/64 [==============================] - 0s 2ms/step - loss: 0.5428 - accuracy: 0.7188 - val_loss: 0.4875 - val_accuracy: 0.6875\n",
            "Epoch 39/150\n",
            "64/64 [==============================] - 0s 1ms/step - loss: 0.5426 - accuracy: 0.7031 - val_loss: 0.4866 - val_accuracy: 0.6875\n",
            "Epoch 40/150\n",
            "64/64 [==============================] - 0s 1ms/step - loss: 0.5426 - accuracy: 0.7188 - val_loss: 0.4876 - val_accuracy: 0.6875\n",
            "Epoch 41/150\n",
            "64/64 [==============================] - 0s 2ms/step - loss: 0.5427 - accuracy: 0.7188 - val_loss: 0.4883 - val_accuracy: 0.6875\n",
            "Epoch 42/150\n",
            "64/64 [==============================] - 0s 2ms/step - loss: 0.5425 - accuracy: 0.7188 - val_loss: 0.4892 - val_accuracy: 0.6875\n",
            "Epoch 43/150\n",
            "64/64 [==============================] - 0s 2ms/step - loss: 0.5423 - accuracy: 0.7344 - val_loss: 0.4880 - val_accuracy: 0.6875\n",
            "Epoch 44/150\n",
            "64/64 [==============================] - 0s 2ms/step - loss: 0.5424 - accuracy: 0.7188 - val_loss: 0.4890 - val_accuracy: 0.6875\n",
            "Epoch 45/150\n",
            "64/64 [==============================] - 0s 2ms/step - loss: 0.5422 - accuracy: 0.7188 - val_loss: 0.4876 - val_accuracy: 0.6875\n",
            "Epoch 46/150\n",
            "64/64 [==============================] - 0s 2ms/step - loss: 0.5423 - accuracy: 0.7031 - val_loss: 0.4880 - val_accuracy: 0.6875\n",
            "Epoch 47/150\n",
            "64/64 [==============================] - 0s 2ms/step - loss: 0.5422 - accuracy: 0.7188 - val_loss: 0.4886 - val_accuracy: 0.6875\n",
            "Epoch 48/150\n",
            "64/64 [==============================] - 0s 2ms/step - loss: 0.5421 - accuracy: 0.7344 - val_loss: 0.4873 - val_accuracy: 0.6875\n",
            "Epoch 49/150\n",
            "64/64 [==============================] - 0s 1ms/step - loss: 0.5418 - accuracy: 0.7188 - val_loss: 0.4857 - val_accuracy: 0.6875\n",
            "Epoch 50/150\n",
            "64/64 [==============================] - 0s 1ms/step - loss: 0.5420 - accuracy: 0.7188 - val_loss: 0.4858 - val_accuracy: 0.6875\n",
            "Epoch 51/150\n",
            "64/64 [==============================] - 0s 2ms/step - loss: 0.5419 - accuracy: 0.7188 - val_loss: 0.4857 - val_accuracy: 0.6875\n",
            "Epoch 52/150\n",
            "64/64 [==============================] - 0s 2ms/step - loss: 0.5417 - accuracy: 0.7344 - val_loss: 0.4868 - val_accuracy: 0.6875\n",
            "Epoch 53/150\n",
            "64/64 [==============================] - 0s 2ms/step - loss: 0.5416 - accuracy: 0.7188 - val_loss: 0.4874 - val_accuracy: 0.6875\n",
            "Epoch 54/150\n",
            "64/64 [==============================] - 0s 2ms/step - loss: 0.5414 - accuracy: 0.7188 - val_loss: 0.4886 - val_accuracy: 0.6875\n",
            "Epoch 55/150\n",
            "64/64 [==============================] - 0s 2ms/step - loss: 0.5415 - accuracy: 0.7188 - val_loss: 0.4887 - val_accuracy: 0.6875\n",
            "Epoch 56/150\n",
            "64/64 [==============================] - 0s 2ms/step - loss: 0.5412 - accuracy: 0.7188 - val_loss: 0.4871 - val_accuracy: 0.6875\n",
            "Epoch 57/150\n",
            "64/64 [==============================] - 0s 1ms/step - loss: 0.5414 - accuracy: 0.7031 - val_loss: 0.4864 - val_accuracy: 0.6875\n",
            "Epoch 58/150\n",
            "64/64 [==============================] - 0s 2ms/step - loss: 0.5412 - accuracy: 0.7031 - val_loss: 0.4869 - val_accuracy: 0.6875\n",
            "Epoch 59/150\n",
            "64/64 [==============================] - 0s 2ms/step - loss: 0.5412 - accuracy: 0.7188 - val_loss: 0.4868 - val_accuracy: 0.6875\n",
            "Epoch 60/150\n",
            "64/64 [==============================] - 0s 2ms/step - loss: 0.5410 - accuracy: 0.7188 - val_loss: 0.4889 - val_accuracy: 0.6875\n",
            "Epoch 61/150\n",
            "64/64 [==============================] - 0s 2ms/step - loss: 0.5410 - accuracy: 0.7188 - val_loss: 0.4883 - val_accuracy: 0.6875\n",
            "Epoch 62/150\n",
            "64/64 [==============================] - 0s 2ms/step - loss: 0.5409 - accuracy: 0.7344 - val_loss: 0.4881 - val_accuracy: 0.6875\n",
            "Epoch 63/150\n",
            "64/64 [==============================] - 0s 2ms/step - loss: 0.5406 - accuracy: 0.7344 - val_loss: 0.4876 - val_accuracy: 0.6875\n",
            "Epoch 64/150\n",
            "64/64 [==============================] - 0s 2ms/step - loss: 0.5407 - accuracy: 0.7031 - val_loss: 0.4866 - val_accuracy: 0.6875\n",
            "Epoch 65/150\n",
            "64/64 [==============================] - 0s 2ms/step - loss: 0.5406 - accuracy: 0.7344 - val_loss: 0.4869 - val_accuracy: 0.6875\n",
            "Epoch 66/150\n",
            "64/64 [==============================] - 0s 2ms/step - loss: 0.5403 - accuracy: 0.7344 - val_loss: 0.4857 - val_accuracy: 0.6875\n",
            "Epoch 67/150\n",
            "64/64 [==============================] - 0s 2ms/step - loss: 0.5402 - accuracy: 0.7188 - val_loss: 0.4877 - val_accuracy: 0.6875\n",
            "Epoch 68/150\n",
            "64/64 [==============================] - 0s 2ms/step - loss: 0.5404 - accuracy: 0.7188 - val_loss: 0.4876 - val_accuracy: 0.6875\n",
            "Epoch 69/150\n",
            "64/64 [==============================] - 0s 2ms/step - loss: 0.5403 - accuracy: 0.7031 - val_loss: 0.4875 - val_accuracy: 0.6875\n",
            "Epoch 70/150\n",
            "64/64 [==============================] - 0s 2ms/step - loss: 0.5401 - accuracy: 0.7188 - val_loss: 0.4893 - val_accuracy: 0.6875\n",
            "Epoch 71/150\n",
            "64/64 [==============================] - 0s 2ms/step - loss: 0.5397 - accuracy: 0.7188 - val_loss: 0.4889 - val_accuracy: 0.6875\n",
            "Epoch 72/150\n",
            "64/64 [==============================] - 0s 2ms/step - loss: 0.5396 - accuracy: 0.7188 - val_loss: 0.4918 - val_accuracy: 0.6875\n",
            "Epoch 73/150\n",
            "64/64 [==============================] - 0s 2ms/step - loss: 0.5398 - accuracy: 0.7344 - val_loss: 0.4904 - val_accuracy: 0.6875\n",
            "Epoch 74/150\n",
            "64/64 [==============================] - 0s 2ms/step - loss: 0.5397 - accuracy: 0.7031 - val_loss: 0.4912 - val_accuracy: 0.6875\n",
            "Epoch 75/150\n",
            "64/64 [==============================] - 0s 1ms/step - loss: 0.5398 - accuracy: 0.7188 - val_loss: 0.4905 - val_accuracy: 0.6875\n",
            "Epoch 76/150\n",
            "64/64 [==============================] - 0s 1ms/step - loss: 0.5391 - accuracy: 0.7188 - val_loss: 0.4925 - val_accuracy: 0.6875\n",
            "Epoch 77/150\n",
            "64/64 [==============================] - 0s 2ms/step - loss: 0.5386 - accuracy: 0.7344 - val_loss: 0.4959 - val_accuracy: 0.6875\n",
            "Epoch 78/150\n",
            "64/64 [==============================] - 0s 2ms/step - loss: 0.5395 - accuracy: 0.7344 - val_loss: 0.4938 - val_accuracy: 0.6875\n",
            "Epoch 79/150\n",
            "64/64 [==============================] - 0s 2ms/step - loss: 0.5393 - accuracy: 0.7188 - val_loss: 0.4932 - val_accuracy: 0.6875\n",
            "Epoch 80/150\n",
            "64/64 [==============================] - 0s 2ms/step - loss: 0.5392 - accuracy: 0.7344 - val_loss: 0.4909 - val_accuracy: 0.6875\n",
            "Epoch 81/150\n",
            "64/64 [==============================] - 0s 2ms/step - loss: 0.5391 - accuracy: 0.7188 - val_loss: 0.4915 - val_accuracy: 0.6875\n",
            "Epoch 82/150\n",
            "64/64 [==============================] - 0s 2ms/step - loss: 0.5388 - accuracy: 0.7031 - val_loss: 0.4900 - val_accuracy: 0.6875\n",
            "Epoch 83/150\n",
            "64/64 [==============================] - 0s 1ms/step - loss: 0.5385 - accuracy: 0.7344 - val_loss: 0.4887 - val_accuracy: 0.6875\n",
            "Epoch 84/150\n",
            "64/64 [==============================] - 0s 2ms/step - loss: 0.5381 - accuracy: 0.7344 - val_loss: 0.4915 - val_accuracy: 0.6875\n",
            "Epoch 85/150\n",
            "64/64 [==============================] - 0s 1ms/step - loss: 0.5386 - accuracy: 0.7344 - val_loss: 0.4908 - val_accuracy: 0.6875\n",
            "Epoch 86/150\n",
            "64/64 [==============================] - 0s 2ms/step - loss: 0.5384 - accuracy: 0.7188 - val_loss: 0.4924 - val_accuracy: 0.6875\n",
            "Epoch 87/150\n",
            "64/64 [==============================] - 0s 1ms/step - loss: 0.5383 - accuracy: 0.7188 - val_loss: 0.4931 - val_accuracy: 0.6875\n",
            "Epoch 88/150\n",
            "64/64 [==============================] - 0s 2ms/step - loss: 0.5382 - accuracy: 0.7344 - val_loss: 0.4908 - val_accuracy: 0.6875\n",
            "Epoch 89/150\n",
            "64/64 [==============================] - 0s 2ms/step - loss: 0.5380 - accuracy: 0.7344 - val_loss: 0.4896 - val_accuracy: 0.6875\n",
            "Epoch 90/150\n",
            "64/64 [==============================] - 0s 2ms/step - loss: 0.5378 - accuracy: 0.7188 - val_loss: 0.4924 - val_accuracy: 0.6875\n",
            "Epoch 91/150\n",
            "64/64 [==============================] - 0s 2ms/step - loss: 0.5379 - accuracy: 0.7188 - val_loss: 0.4940 - val_accuracy: 0.6875\n",
            "Epoch 92/150\n",
            "64/64 [==============================] - 0s 1ms/step - loss: 0.5380 - accuracy: 0.7500 - val_loss: 0.4937 - val_accuracy: 0.6875\n",
            "Epoch 93/150\n",
            "64/64 [==============================] - 0s 1ms/step - loss: 0.5378 - accuracy: 0.7344 - val_loss: 0.4932 - val_accuracy: 0.6875\n",
            "Epoch 94/150\n",
            "64/64 [==============================] - 0s 2ms/step - loss: 0.5375 - accuracy: 0.7188 - val_loss: 0.4923 - val_accuracy: 0.6875\n",
            "Epoch 95/150\n",
            "64/64 [==============================] - 0s 2ms/step - loss: 0.5370 - accuracy: 0.7188 - val_loss: 0.4900 - val_accuracy: 0.6875\n",
            "Epoch 96/150\n",
            "64/64 [==============================] - 0s 1ms/step - loss: 0.5374 - accuracy: 0.7344 - val_loss: 0.4908 - val_accuracy: 0.6875\n",
            "Epoch 97/150\n",
            "64/64 [==============================] - 0s 2ms/step - loss: 0.5371 - accuracy: 0.7344 - val_loss: 0.4911 - val_accuracy: 0.6875\n",
            "Epoch 98/150\n",
            "64/64 [==============================] - 0s 2ms/step - loss: 0.5371 - accuracy: 0.7188 - val_loss: 0.4914 - val_accuracy: 0.6875\n",
            "Epoch 99/150\n",
            "64/64 [==============================] - 0s 2ms/step - loss: 0.5369 - accuracy: 0.7344 - val_loss: 0.4903 - val_accuracy: 0.6875\n",
            "Epoch 100/150\n",
            "64/64 [==============================] - 0s 2ms/step - loss: 0.5369 - accuracy: 0.7344 - val_loss: 0.4917 - val_accuracy: 0.6875\n",
            "Epoch 101/150\n",
            "64/64 [==============================] - 0s 2ms/step - loss: 0.5365 - accuracy: 0.7188 - val_loss: 0.4903 - val_accuracy: 0.6875\n",
            "Epoch 102/150\n",
            "64/64 [==============================] - 0s 2ms/step - loss: 0.5362 - accuracy: 0.7188 - val_loss: 0.4937 - val_accuracy: 0.6875\n",
            "Epoch 103/150\n",
            "64/64 [==============================] - 0s 2ms/step - loss: 0.5363 - accuracy: 0.7344 - val_loss: 0.4934 - val_accuracy: 0.6875\n",
            "Epoch 104/150\n",
            "64/64 [==============================] - 0s 1ms/step - loss: 0.5362 - accuracy: 0.7188 - val_loss: 0.4951 - val_accuracy: 0.6875\n",
            "Epoch 105/150\n",
            "64/64 [==============================] - 0s 2ms/step - loss: 0.5362 - accuracy: 0.7188 - val_loss: 0.4932 - val_accuracy: 0.6875\n",
            "Epoch 106/150\n",
            "64/64 [==============================] - 0s 2ms/step - loss: 0.5362 - accuracy: 0.7188 - val_loss: 0.4935 - val_accuracy: 0.6875\n",
            "Epoch 107/150\n",
            "64/64 [==============================] - 0s 2ms/step - loss: 0.5361 - accuracy: 0.7344 - val_loss: 0.4935 - val_accuracy: 0.6875\n",
            "Epoch 108/150\n",
            "64/64 [==============================] - 0s 2ms/step - loss: 0.5359 - accuracy: 0.7344 - val_loss: 0.4941 - val_accuracy: 0.6875\n",
            "Epoch 109/150\n",
            "64/64 [==============================] - 0s 2ms/step - loss: 0.5356 - accuracy: 0.7344 - val_loss: 0.4958 - val_accuracy: 0.6875\n",
            "Epoch 110/150\n",
            "64/64 [==============================] - 0s 2ms/step - loss: 0.5355 - accuracy: 0.7188 - val_loss: 0.4972 - val_accuracy: 0.6875\n",
            "Epoch 111/150\n",
            "64/64 [==============================] - 0s 1ms/step - loss: 0.5351 - accuracy: 0.7344 - val_loss: 0.4934 - val_accuracy: 0.6875\n",
            "Epoch 112/150\n",
            "64/64 [==============================] - 0s 2ms/step - loss: 0.5350 - accuracy: 0.7031 - val_loss: 0.4930 - val_accuracy: 0.6875\n",
            "Epoch 113/150\n",
            "64/64 [==============================] - 0s 2ms/step - loss: 0.5351 - accuracy: 0.7344 - val_loss: 0.4918 - val_accuracy: 0.6875\n",
            "Epoch 114/150\n",
            "64/64 [==============================] - 0s 2ms/step - loss: 0.5350 - accuracy: 0.7344 - val_loss: 0.4916 - val_accuracy: 0.6875\n",
            "Epoch 115/150\n",
            "64/64 [==============================] - 0s 1ms/step - loss: 0.5351 - accuracy: 0.7500 - val_loss: 0.4940 - val_accuracy: 0.6875\n",
            "Epoch 116/150\n",
            "64/64 [==============================] - 0s 2ms/step - loss: 0.5346 - accuracy: 0.7188 - val_loss: 0.4946 - val_accuracy: 0.6875\n",
            "Epoch 117/150\n",
            "64/64 [==============================] - 0s 2ms/step - loss: 0.5344 - accuracy: 0.7344 - val_loss: 0.4944 - val_accuracy: 0.6875\n",
            "Epoch 118/150\n",
            "64/64 [==============================] - 0s 2ms/step - loss: 0.5342 - accuracy: 0.7344 - val_loss: 0.4975 - val_accuracy: 0.6875\n",
            "Epoch 119/150\n",
            "64/64 [==============================] - 0s 2ms/step - loss: 0.5341 - accuracy: 0.7344 - val_loss: 0.4963 - val_accuracy: 0.6875\n",
            "Epoch 120/150\n",
            "64/64 [==============================] - 0s 2ms/step - loss: 0.5342 - accuracy: 0.7344 - val_loss: 0.4947 - val_accuracy: 0.6875\n",
            "Epoch 121/150\n",
            "64/64 [==============================] - 0s 2ms/step - loss: 0.5338 - accuracy: 0.7344 - val_loss: 0.4981 - val_accuracy: 0.6875\n",
            "Epoch 122/150\n",
            "64/64 [==============================] - 0s 2ms/step - loss: 0.5335 - accuracy: 0.7188 - val_loss: 0.4962 - val_accuracy: 0.6875\n",
            "Epoch 123/150\n",
            "64/64 [==============================] - 0s 2ms/step - loss: 0.5331 - accuracy: 0.7188 - val_loss: 0.5003 - val_accuracy: 0.6875\n",
            "Epoch 124/150\n",
            "64/64 [==============================] - 0s 2ms/step - loss: 0.5335 - accuracy: 0.7344 - val_loss: 0.4981 - val_accuracy: 0.6875\n",
            "Epoch 125/150\n",
            "64/64 [==============================] - 0s 2ms/step - loss: 0.5332 - accuracy: 0.7344 - val_loss: 0.4985 - val_accuracy: 0.6875\n",
            "Epoch 126/150\n",
            "64/64 [==============================] - 0s 2ms/step - loss: 0.5327 - accuracy: 0.7188 - val_loss: 0.4945 - val_accuracy: 0.7500\n",
            "Epoch 127/150\n",
            "64/64 [==============================] - 0s 2ms/step - loss: 0.5332 - accuracy: 0.7344 - val_loss: 0.4953 - val_accuracy: 0.7500\n",
            "Epoch 128/150\n",
            "64/64 [==============================] - 0s 2ms/step - loss: 0.5322 - accuracy: 0.7500 - val_loss: 0.5004 - val_accuracy: 0.6875\n",
            "Epoch 129/150\n",
            "64/64 [==============================] - 0s 2ms/step - loss: 0.5328 - accuracy: 0.7500 - val_loss: 0.5016 - val_accuracy: 0.6875\n",
            "Epoch 130/150\n",
            "64/64 [==============================] - 0s 2ms/step - loss: 0.5327 - accuracy: 0.7344 - val_loss: 0.5010 - val_accuracy: 0.6875\n",
            "Epoch 131/150\n",
            "64/64 [==============================] - 0s 3ms/step - loss: 0.5326 - accuracy: 0.7344 - val_loss: 0.4997 - val_accuracy: 0.7500\n",
            "Epoch 132/150\n",
            "64/64 [==============================] - 0s 2ms/step - loss: 0.5322 - accuracy: 0.7344 - val_loss: 0.4979 - val_accuracy: 0.7500\n",
            "Epoch 133/150\n",
            "64/64 [==============================] - 0s 2ms/step - loss: 0.5321 - accuracy: 0.7344 - val_loss: 0.4977 - val_accuracy: 0.7500\n",
            "Epoch 134/150\n",
            "64/64 [==============================] - 0s 2ms/step - loss: 0.5320 - accuracy: 0.7344 - val_loss: 0.4974 - val_accuracy: 0.7500\n",
            "Epoch 135/150\n",
            "64/64 [==============================] - 0s 2ms/step - loss: 0.5318 - accuracy: 0.7344 - val_loss: 0.4992 - val_accuracy: 0.7500\n",
            "Epoch 136/150\n",
            "64/64 [==============================] - 0s 2ms/step - loss: 0.5317 - accuracy: 0.7344 - val_loss: 0.5009 - val_accuracy: 0.7500\n",
            "Epoch 137/150\n",
            "64/64 [==============================] - 0s 2ms/step - loss: 0.5315 - accuracy: 0.7188 - val_loss: 0.4990 - val_accuracy: 0.7500\n",
            "Epoch 138/150\n",
            "64/64 [==============================] - 0s 2ms/step - loss: 0.5311 - accuracy: 0.7344 - val_loss: 0.4973 - val_accuracy: 0.7500\n",
            "Epoch 139/150\n",
            "64/64 [==============================] - 0s 2ms/step - loss: 0.5310 - accuracy: 0.7188 - val_loss: 0.5002 - val_accuracy: 0.7500\n",
            "Epoch 140/150\n",
            "64/64 [==============================] - 0s 2ms/step - loss: 0.5311 - accuracy: 0.7344 - val_loss: 0.5005 - val_accuracy: 0.7500\n",
            "Epoch 141/150\n",
            "64/64 [==============================] - 0s 2ms/step - loss: 0.5302 - accuracy: 0.7344 - val_loss: 0.5018 - val_accuracy: 0.7500\n",
            "Epoch 142/150\n",
            "64/64 [==============================] - 0s 2ms/step - loss: 0.5305 - accuracy: 0.7188 - val_loss: 0.4997 - val_accuracy: 0.7500\n",
            "Epoch 143/150\n",
            "64/64 [==============================] - 0s 2ms/step - loss: 0.5306 - accuracy: 0.7344 - val_loss: 0.5011 - val_accuracy: 0.7500\n",
            "Epoch 144/150\n",
            "64/64 [==============================] - 0s 2ms/step - loss: 0.5297 - accuracy: 0.7344 - val_loss: 0.4969 - val_accuracy: 0.7500\n",
            "Epoch 145/150\n",
            "64/64 [==============================] - 0s 3ms/step - loss: 0.5301 - accuracy: 0.7344 - val_loss: 0.5001 - val_accuracy: 0.7500\n",
            "Epoch 146/150\n",
            "64/64 [==============================] - 0s 2ms/step - loss: 0.5299 - accuracy: 0.7344 - val_loss: 0.5022 - val_accuracy: 0.7500\n",
            "Epoch 147/150\n",
            "64/64 [==============================] - 0s 2ms/step - loss: 0.5296 - accuracy: 0.7344 - val_loss: 0.5025 - val_accuracy: 0.7500\n",
            "Epoch 148/150\n",
            "64/64 [==============================] - 0s 2ms/step - loss: 0.5295 - accuracy: 0.7344 - val_loss: 0.5001 - val_accuracy: 0.7500\n",
            "Epoch 149/150\n",
            "64/64 [==============================] - 0s 2ms/step - loss: 0.5291 - accuracy: 0.7344 - val_loss: 0.5035 - val_accuracy: 0.7500\n",
            "Epoch 150/150\n",
            "64/64 [==============================] - 0s 2ms/step - loss: 0.5287 - accuracy: 0.7188 - val_loss: 0.5002 - val_accuracy: 0.7500\n"
          ]
        }
      ]
    },
    {
      "cell_type": "code",
      "source": [
        "model.layers[0].get_weights()"
      ],
      "metadata": {
        "colab": {
          "base_uri": "https://localhost:8080/"
        },
        "id": "rvEaG36ijYVj",
        "outputId": "4750793e-93ed-42e3-9c1c-9a9c7ec22a7d"
      },
      "execution_count": 275,
      "outputs": [
        {
          "output_type": "execute_result",
          "data": {
            "text/plain": [
              "[array([[-0.06620658,  0.33602157, -0.27800527,  0.34008563, -0.42491156,\n",
              "          0.40259248,  0.62007546,  0.36443588, -0.30152723, -0.1862859 ,\n",
              "         -0.2903843 ],\n",
              "        [ 1.2957798 ,  0.40995494, -0.3198625 ,  0.13604116, -0.0825405 ,\n",
              "         -0.07519117, -0.13391134,  0.35692537, -0.2821403 , -0.6372505 ,\n",
              "         -0.0236152 ]], dtype=float32),\n",
              " array([ 0.2440158 , -0.32083672,  0.16296074,  0.08077476, -0.15794607,\n",
              "         0.04134188,  0.01900587, -0.00308682,  0.08769153, -0.09504564,\n",
              "        -0.02498062], dtype=float32)]"
            ]
          },
          "metadata": {},
          "execution_count": 275
        }
      ]
    },
    {
      "cell_type": "code",
      "source": [
        "predict = np.where(model.predict(x_test)>0.5,1,0)"
      ],
      "metadata": {
        "colab": {
          "base_uri": "https://localhost:8080/"
        },
        "id": "0A5lGdapegm9",
        "outputId": "9fec729e-40a3-426b-c9f8-eaf7fb57f0e4"
      },
      "execution_count": 276,
      "outputs": [
        {
          "output_type": "stream",
          "name": "stdout",
          "text": [
            "1/1 [==============================] - 0s 44ms/step\n"
          ]
        }
      ]
    },
    {
      "cell_type": "code",
      "source": [
        "accuracy_score(y_test,predict)"
      ],
      "metadata": {
        "colab": {
          "base_uri": "https://localhost:8080/"
        },
        "id": "Yot_NVMfeuG-",
        "outputId": "c1920fe3-7322-4bb3-cc4a-c6f1bd948057"
      },
      "execution_count": 277,
      "outputs": [
        {
          "output_type": "execute_result",
          "data": {
            "text/plain": [
              "0.6"
            ]
          },
          "metadata": {},
          "execution_count": 277
        }
      ]
    },
    {
      "cell_type": "code",
      "source": [
        "plt.plot(range(1,151),history.history[\"loss\"],label=\"train_loss\")\n",
        "plt.plot(range(1,151),history.history[\"val_loss\"],label=\"val_loss\")\n",
        "plt.legend()"
      ],
      "metadata": {
        "colab": {
          "base_uri": "https://localhost:8080/",
          "height": 447
        },
        "id": "AAEuVBfkwjAz",
        "outputId": "551f7df5-015b-4a81-a14c-7b854b672f3a"
      },
      "execution_count": 278,
      "outputs": [
        {
          "output_type": "execute_result",
          "data": {
            "text/plain": [
              "<matplotlib.legend.Legend at 0x7a41c64ce440>"
            ]
          },
          "metadata": {},
          "execution_count": 278
        },
        {
          "output_type": "display_data",
          "data": {
            "text/plain": [
              "<Figure size 640x480 with 1 Axes>"
            ],
            "image/png": "[encoded data removed]"
          },
          "metadata": {}
        }
      ]
    },
    {
      "cell_type": "code",
      "source": [
        "plot_decision_regions(x_train,y_train.values,clf=model,legend=2)"
      ],
      "metadata": {
        "id": "wWKeRfYlewgs",
        "colab": {
          "base_uri": "https://localhost:8080/",
          "height": 465
        },
        "outputId": "3c90a416-4ae5-474f-b944-e05847dd5015"
      },
      "execution_count": 279,
      "outputs": [
        {
          "output_type": "stream",
          "name": "stdout",
          "text": [
            "9600/9600 [==============================] - 8s 855us/step\n"
          ]
        },
        {
          "output_type": "execute_result",
          "data": {
            "text/plain": [
              "<Axes: >"
            ]
          },
          "metadata": {},
          "execution_count": 279
        },
        {
          "output_type": "display_data",
          "data": {
            "text/plain": [
              "<Figure size 640x480 with 1 Axes>"
            ],
            "image/png": "[encoded data removed]"
          },
          "metadata": {}
        }
      ]
    },
    {
      "cell_type": "code",
      "source": [
        "plot_decision_regions(x_test,y_test.values,clf=model,legend=2)"
      ],
      "metadata": {
        "colab": {
          "base_uri": "https://localhost:8080/",
          "height": 465
        },
        "id": "pGGEQoE6gdKm",
        "outputId": "7e0ab882-b750-4fda-8d98-e122c38a27e9"
      },
      "execution_count": 280,
      "outputs": [
        {
          "output_type": "stream",
          "name": "stdout",
          "text": [
            "9600/9600 [==============================] - 8s 875us/step\n"
          ]
        },
        {
          "output_type": "execute_result",
          "data": {
            "text/plain": [
              "<Axes: >"
            ]
          },
          "metadata": {},
          "execution_count": 280
        },
        {
          "output_type": "display_data",
          "data": {
            "text/plain": [
              "<Figure size 640x480 with 1 Axes>"
            ],
            "image/png": "[encoded data removed]"
          },
          "metadata": {}
        }
      ]
    }
  ]
}