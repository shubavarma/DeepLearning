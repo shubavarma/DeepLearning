{
  "nbformat": 4,
  "nbformat_minor": 0,
  "metadata": {
    "colab": {
      "provenance": [],
      "mount_file_id": "1Q4as_CVhE4gMf5oUb3kEIU32mVDfTPAx",
      "authorship_tag": "ABX9TyPAnMWMbxFxCxomeNbuAcup",
      "include_colab_link": true
    },
    "kernelspec": {
      "name": "python3",
      "display_name": "Python 3"
    },
    "language_info": {
      "name": "python"
    }
  },
  "cells": [
    {
      "cell_type": "markdown",
      "metadata": {
        "id": "view-in-github",
        "colab_type": "text"
      },
      "source": [
        "<a href=\"https://colab.research.google.com/github/shubavarma/DeepLearning/blob/main/uShape.ipynb\" target=\"_parent\"><img src=\"https://colab.research.google.com/assets/colab-badge.svg\" alt=\"Open In Colab\"/></a>"
      ]
    },
    {
      "cell_type": "code",
      "execution_count": 1,
      "metadata": {
        "id": "Fk_C5dq5TKaz"
      },
      "outputs": [],
      "source": [
        "import tensorflow\n",
        "import tensorflow.keras\n",
        "import pandas as pd\n",
        "import matplotlib.pyplot as plt\n",
        "import numpy as np\n",
        "from keras.models import Sequential\n",
        "from keras.layers import Dense\n",
        "from sklearn.model_selection import train_test_split\n",
        "from sklearn.preprocessing import StandardScaler\n",
        "from sklearn.metrics import accuracy_score\n",
        "from mlxtend.plotting import plot_decision_regions\n",
        "from keras.utils.vis_utils import plot_model"
      ]
    },
    {
      "cell_type": "code",
      "source": [
        "data = pd.read_csv(\"/content/drive/MyDrive/Colab Notebooks/DLdatasets/1.ushape.csv\",header=None)"
      ],
      "metadata": {
        "id": "ZF7gi5CmTPn6"
      },
      "execution_count": 2,
      "outputs": []
    },
    {
      "cell_type": "code",
      "source": [
        "data.head()"
      ],
      "metadata": {
        "colab": {
          "base_uri": "https://localhost:8080/",
          "height": 206
        },
        "id": "UtApEIQATgXl",
        "outputId": "67cbb5a6-a12e-47f0-e69c-b00a8e9af3f0"
      },
      "execution_count": 3,
      "outputs": [
        {
          "output_type": "execute_result",
          "data": {
            "text/plain": [
              "          0         1    2\n",
              "0  0.031595  0.986988  0.0\n",
              "1  2.115098 -0.046244  1.0\n",
              "2  0.882490 -0.075756  0.0\n",
              "3 -0.055144 -0.037332  1.0\n",
              "4  0.829545 -0.539321  1.0"
            ],
            "text/html": [
              "\n",
              "\n",
              "  <div id=\"df-7bc1a309-136f-412e-8ef6-5bbb72d8acd7\">\n",
              "    <div class=\"colab-df-container\">\n",
              "      <div>\n",
              "<style scoped>\n",
              "    .dataframe tbody tr th:only-of-type {\n",
              "        vertical-align: middle;\n",
              "    }\n",
              "\n",
              "    .dataframe tbody tr th {\n",
              "        vertical-align: top;\n",
              "    }\n",
              "\n",
              "    .dataframe thead th {\n",
              "        text-align: right;\n",
              "    }\n",
              "</style>\n",
              "<table border=\"1\" class=\"dataframe\">\n",
              "  <thead>\n",
              "    <tr style=\"text-align: right;\">\n",
              "      <th></th>\n",
              "      <th>0</th>\n",
              "      <th>1</th>\n",
              "      <th>2</th>\n",
              "    </tr>\n",
              "  </thead>\n",
              "  <tbody>\n",
              "    <tr>\n",
              "      <th>0</th>\n",
              "      <td>0.031595</td>\n",
              "      <td>0.986988</td>\n",
              "      <td>0.0</td>\n",
              "    </tr>\n",
              "    <tr>\n",
              "      <th>1</th>\n",
              "      <td>2.115098</td>\n",
              "      <td>-0.046244</td>\n",
              "      <td>1.0</td>\n",
              "    </tr>\n",
              "    <tr>\n",
              "      <th>2</th>\n",
              "      <td>0.882490</td>\n",
              "      <td>-0.075756</td>\n",
              "      <td>0.0</td>\n",
              "    </tr>\n",
              "    <tr>\n",
              "      <th>3</th>\n",
              "      <td>-0.055144</td>\n",
              "      <td>-0.037332</td>\n",
              "      <td>1.0</td>\n",
              "    </tr>\n",
              "    <tr>\n",
              "      <th>4</th>\n",
              "      <td>0.829545</td>\n",
              "      <td>-0.539321</td>\n",
              "      <td>1.0</td>\n",
              "    </tr>\n",
              "  </tbody>\n",
              "</table>\n",
              "</div>\n",
              "      <button class=\"colab-df-convert\" onclick=\"convertToInteractive('df-7bc1a309-136f-412e-8ef6-5bbb72d8acd7')\"\n",
              "              title=\"Convert this dataframe to an interactive table.\"\n",
              "              style=\"display:none;\">\n",
              "\n",
              "  <svg xmlns=\"http://www.w3.org/2000/svg\" height=\"24px\"viewBox=\"0 0 24 24\"\n",
              "       width=\"24px\">\n",
              "    <path d=\"M0 0h24v24H0V0z\" fill=\"none\"/>\n",
              "    <path d=\"M18.56 5.44l.94 2.06.94-2.06 2.06-.94-2.06-.94-.94-2.06-.94 2.06-2.06.94zm-11 1L8.5 8.5l.94-2.06 2.06-.94-2.06-.94L8.5 2.5l-.94 2.06-2.06.94zm10 10l.94 2.06.94-2.06 2.06-.94-2.06-.94-.94-2.06-.94 2.06-2.06.94z\"/><path d=\"M17.41 7.96l-1.37-1.37c-.4-.4-.92-.59-1.43-.59-.52 0-1.04.2-1.43.59L10.3 9.45l-7.72 7.72c-.78.78-.78 2.05 0 2.83L4 21.41c.39.39.9.59 1.41.59.51 0 1.02-.2 1.41-.59l7.78-7.78 2.81-2.81c.8-.78.8-2.07 0-2.86zM5.41 20L4 18.59l7.72-7.72 1.47 1.35L5.41 20z\"/>\n",
              "  </svg>\n",
              "      </button>\n",
              "\n",
              "\n",
              "\n",
              "    <div id=\"df-58a7f08b-c2c4-4978-9670-75edc7a385d0\">\n",
              "      <button class=\"colab-df-quickchart\" onclick=\"quickchart('df-58a7f08b-c2c4-4978-9670-75edc7a385d0')\"\n",
              "              title=\"Suggest charts.\"\n",
              "              style=\"display:none;\">\n",
              "\n",
              "<svg xmlns=\"http://www.w3.org/2000/svg\" height=\"24px\"viewBox=\"0 0 24 24\"\n",
              "     width=\"24px\">\n",
              "    <g>\n",
              "        <path d=\"M19 3H5c-1.1 0-2 .9-2 2v14c0 1.1.9 2 2 2h14c1.1 0 2-.9 2-2V5c0-1.1-.9-2-2-2zM9 17H7v-7h2v7zm4 0h-2V7h2v10zm4 0h-2v-4h2v4z\"/>\n",
              "    </g>\n",
              "</svg>\n",
              "      </button>\n",
              "    </div>\n",
              "\n",
              "<style>\n",
              "  .colab-df-quickchart {\n",
              "    background-color: #E8F0FE;\n",
              "    border: none;\n",
              "    border-radius: 50%;\n",
              "    cursor: pointer;\n",
              "    display: none;\n",
              "    fill: #1967D2;\n",
              "    height: 32px;\n",
              "    padding: 0 0 0 0;\n",
              "    width: 32px;\n",
              "  }\n",
              "\n",
              "  .colab-df-quickchart:hover {\n",
              "    background-color: #E2EBFA;\n",
              "    box-shadow: 0px 1px 2px rgba(60, 64, 67, 0.3), 0px 1px 3px 1px rgba(60, 64, 67, 0.15);\n",
              "    fill: #174EA6;\n",
              "  }\n",
              "\n",
              "  [theme=dark] .colab-df-quickchart {\n",
              "    background-color: #3B4455;\n",
              "    fill: #D2E3FC;\n",
              "  }\n",
              "\n",
              "  [theme=dark] .colab-df-quickchart:hover {\n",
              "    background-color: #434B5C;\n",
              "    box-shadow: 0px 1px 3px 1px rgba(0, 0, 0, 0.15);\n",
              "    filter: drop-shadow(0px 1px 2px rgba(0, 0, 0, 0.3));\n",
              "    fill: #FFFFFF;\n",
              "  }\n",
              "</style>\n",
              "\n",
              "    <script>\n",
              "      async function quickchart(key) {\n",
              "        const containerElement = document.querySelector('#' + key);\n",
              "        const charts = await google.colab.kernel.invokeFunction(\n",
              "            'suggestCharts', [key], {});\n",
              "      }\n",
              "    </script>\n",
              "\n",
              "      <script>\n",
              "\n",
              "function displayQuickchartButton(domScope) {\n",
              "  let quickchartButtonEl =\n",
              "    domScope.querySelector('#df-58a7f08b-c2c4-4978-9670-75edc7a385d0 button.colab-df-quickchart');\n",
              "  quickchartButtonEl.style.display =\n",
              "    google.colab.kernel.accessAllowed ? 'block' : 'none';\n",
              "}\n",
              "\n",
              "        displayQuickchartButton(document);\n",
              "      </script>\n",
              "      <style>\n",
              "    .colab-df-container {\n",
              "      display:flex;\n",
              "      flex-wrap:wrap;\n",
              "      gap: 12px;\n",
              "    }\n",
              "\n",
              "    .colab-df-convert {\n",
              "      background-color: #E8F0FE;\n",
              "      border: none;\n",
              "      border-radius: 50%;\n",
              "      cursor: pointer;\n",
              "      display: none;\n",
              "      fill: #1967D2;\n",
              "      height: 32px;\n",
              "      padding: 0 0 0 0;\n",
              "      width: 32px;\n",
              "    }\n",
              "\n",
              "    .colab-df-convert:hover {\n",
              "      background-color: #E2EBFA;\n",
              "      box-shadow: 0px 1px 2px rgba(60, 64, 67, 0.3), 0px 1px 3px 1px rgba(60, 64, 67, 0.15);\n",
              "      fill: #174EA6;\n",
              "    }\n",
              "\n",
              "    [theme=dark] .colab-df-convert {\n",
              "      background-color: #3B4455;\n",
              "      fill: #D2E3FC;\n",
              "    }\n",
              "\n",
              "    [theme=dark] .colab-df-convert:hover {\n",
              "      background-color: #434B5C;\n",
              "      box-shadow: 0px 1px 3px 1px rgba(0, 0, 0, 0.15);\n",
              "      filter: drop-shadow(0px 1px 2px rgba(0, 0, 0, 0.3));\n",
              "      fill: #FFFFFF;\n",
              "    }\n",
              "  </style>\n",
              "\n",
              "      <script>\n",
              "        const buttonEl =\n",
              "          document.querySelector('#df-7bc1a309-136f-412e-8ef6-5bbb72d8acd7 button.colab-df-convert');\n",
              "        buttonEl.style.display =\n",
              "          google.colab.kernel.accessAllowed ? 'block' : 'none';\n",
              "\n",
              "        async function convertToInteractive(key) {\n",
              "          const element = document.querySelector('#df-7bc1a309-136f-412e-8ef6-5bbb72d8acd7');\n",
              "          const dataTable =\n",
              "            await google.colab.kernel.invokeFunction('convertToInteractive',\n",
              "                                                     [key], {});\n",
              "          if (!dataTable) return;\n",
              "\n",
              "          const docLinkHtml = 'Like what you see? Visit the ' +\n",
              "            '<a target=\"_blank\" href=https://colab.research.google.com/notebooks/data_table.ipynb>data table notebook</a>'\n",
              "            + ' to learn more about interactive tables.';\n",
              "          element.innerHTML = '';\n",
              "          dataTable['output_type'] = 'display_data';\n",
              "          await google.colab.output.renderOutput(dataTable, element);\n",
              "          const docLink = document.createElement('div');\n",
              "          docLink.innerHTML = docLinkHtml;\n",
              "          element.appendChild(docLink);\n",
              "        }\n",
              "      </script>\n",
              "    </div>\n",
              "  </div>\n"
            ]
          },
          "metadata": {},
          "execution_count": 3
        }
      ]
    },
    {
      "cell_type": "code",
      "source": [
        "data.info()"
      ],
      "metadata": {
        "colab": {
          "base_uri": "https://localhost:8080/"
        },
        "id": "ufaAHwJoTiCm",
        "outputId": "4988982c-40b7-4c3b-bb9d-2979f09dddcf"
      },
      "execution_count": 4,
      "outputs": [
        {
          "output_type": "stream",
          "name": "stdout",
          "text": [
            "<class 'pandas.core.frame.DataFrame'>\n",
            "RangeIndex: 100 entries, 0 to 99\n",
            "Data columns (total 3 columns):\n",
            " #   Column  Non-Null Count  Dtype  \n",
            "---  ------  --------------  -----  \n",
            " 0   0       100 non-null    float64\n",
            " 1   1       100 non-null    float64\n",
            " 2   2       100 non-null    float64\n",
            "dtypes: float64(3)\n",
            "memory usage: 2.5 KB\n"
          ]
        }
      ]
    },
    {
      "cell_type": "markdown",
      "source": [
        "No null values"
      ],
      "metadata": {
        "id": "G2qCjK6eV8sa"
      }
    },
    {
      "cell_type": "code",
      "source": [
        "data.shape"
      ],
      "metadata": {
        "colab": {
          "base_uri": "https://localhost:8080/"
        },
        "id": "H5MNMYMtUMtA",
        "outputId": "6421c444-f6e4-4131-e02d-face4b907d7b"
      },
      "execution_count": 5,
      "outputs": [
        {
          "output_type": "execute_result",
          "data": {
            "text/plain": [
              "(100, 3)"
            ]
          },
          "metadata": {},
          "execution_count": 5
        }
      ]
    },
    {
      "cell_type": "code",
      "source": [
        "plt.boxplot(data)\n",
        "plt.show()"
      ],
      "metadata": {
        "colab": {
          "base_uri": "https://localhost:8080/",
          "height": 430
        },
        "id": "Lh7LcdtcVpoX",
        "outputId": "ef374215-5cbd-426c-ce9c-bb178e9f249b"
      },
      "execution_count": 6,
      "outputs": [
        {
          "output_type": "display_data",
          "data": {
            "text/plain": [
              "<Figure size 640x480 with 1 Axes>"
            ],
            "image/png": "[encoded data removed]"
          },
          "metadata": {}
        }
      ]
    },
    {
      "cell_type": "markdown",
      "source": [
        "No outliers"
      ],
      "metadata": {
        "id": "to4KbLtBV4yR"
      }
    },
    {
      "cell_type": "code",
      "source": [
        "data[2].value_counts()"
      ],
      "metadata": {
        "colab": {
          "base_uri": "https://localhost:8080/"
        },
        "id": "CP5l-ThmUMpr",
        "outputId": "c0cf53b4-210c-4597-f7da-6309705f8da5"
      },
      "execution_count": 7,
      "outputs": [
        {
          "output_type": "execute_result",
          "data": {
            "text/plain": [
              "0.0    50\n",
              "1.0    50\n",
              "Name: 2, dtype: int64"
            ]
          },
          "metadata": {},
          "execution_count": 7
        }
      ]
    },
    {
      "cell_type": "markdown",
      "source": [
        "Balanced data"
      ],
      "metadata": {
        "id": "HL8y374TUfEu"
      }
    },
    {
      "cell_type": "code",
      "source": [
        "x = data[[0,1]]\n",
        "y = data[2]"
      ],
      "metadata": {
        "id": "C4Q7HmryTxwn"
      },
      "execution_count": 8,
      "outputs": []
    },
    {
      "cell_type": "code",
      "source": [
        "y = y.astype(int)"
      ],
      "metadata": {
        "id": "3ZbmdsMHT5GG"
      },
      "execution_count": 9,
      "outputs": []
    },
    {
      "cell_type": "markdown",
      "source": [
        "Output needs to be int for comparision with predicted output"
      ],
      "metadata": {
        "id": "rmpKtF6heEmK"
      }
    },
    {
      "cell_type": "code",
      "source": [
        "x_train,x_test,y_train,y_test=train_test_split(x,y,test_size=0.2,random_state=33)"
      ],
      "metadata": {
        "id": "PrGYv_nSUGcZ"
      },
      "execution_count": 10,
      "outputs": []
    },
    {
      "cell_type": "code",
      "source": [
        "x_train.shape,x_test.shape,len(y_train),len(y_test)"
      ],
      "metadata": {
        "colab": {
          "base_uri": "https://localhost:8080/"
        },
        "id": "5Dda23f5VLCI",
        "outputId": "4337fd12-8836-45da-81cd-dd6699d61b57"
      },
      "execution_count": 11,
      "outputs": [
        {
          "output_type": "execute_result",
          "data": {
            "text/plain": [
              "((80, 2), (20, 2), 80, 20)"
            ]
          },
          "metadata": {},
          "execution_count": 11
        }
      ]
    },
    {
      "cell_type": "code",
      "source": [
        "std=StandardScaler()\n",
        "x_train=std.fit_transform(x_train)\n",
        "x_test=std.transform(x_test)"
      ],
      "metadata": {
        "id": "X9XgHjjMVSyq"
      },
      "execution_count": 12,
      "outputs": []
    },
    {
      "cell_type": "code",
      "source": [
        "# code to visualize the data\n",
        "data.columns = [\"one\",\"two\",\"three\"]\n",
        "import seaborn as sns\n",
        "sns.scatterplot(data=data, x=\"one\",y=\"two\",hue=\"three\")\n",
        "plt.legend()"
      ],
      "metadata": {
        "colab": {
          "base_uri": "https://localhost:8080/",
          "height": 466
        },
        "id": "hNBon69i3h50",
        "outputId": "43e9c9e7-f6a2-4a5b-8965-fcc8d6fd28bd"
      },
      "execution_count": 13,
      "outputs": [
        {
          "output_type": "execute_result",
          "data": {
            "text/plain": [
              "<matplotlib.legend.Legend at 0x7d91d12ab670>"
            ]
          },
          "metadata": {},
          "execution_count": 13
        },
        {
          "output_type": "display_data",
          "data": {
            "text/plain": [
              "<Figure size 640x480 with 1 Axes>"
            ],
            "image/png": "[encoded data removed]"
          },
          "metadata": {}
        }
      ]
    },
    {
      "cell_type": "code",
      "source": [
        "model=Sequential()\n",
        "model.add(Dense(10,activation=\"sigmoid\",input_dim=2))\n",
        "model.add(Dense(1,activation=\"sigmoid\"))"
      ],
      "metadata": {
        "id": "G3zckJJKVai-"
      },
      "execution_count": 14,
      "outputs": []
    },
    {
      "cell_type": "code",
      "source": [
        "model.summary()"
      ],
      "metadata": {
        "colab": {
          "base_uri": "https://localhost:8080/"
        },
        "id": "KbjVf5o_VhcV",
        "outputId": "7976bae0-c10c-4781-dfec-364602961a5e"
      },
      "execution_count": 15,
      "outputs": [
        {
          "output_type": "stream",
          "name": "stdout",
          "text": [
            "Model: \"sequential\"\n",
            "_________________________________________________________________\n",
            " Layer (type)                Output Shape              Param #   \n",
            "=================================================================\n",
            " dense (Dense)               (None, 10)                30        \n",
            "                                                                 \n",
            " dense_1 (Dense)             (None, 1)                 11        \n",
            "                                                                 \n",
            "=================================================================\n",
            "Total params: 41\n",
            "Trainable params: 41\n",
            "Non-trainable params: 0\n",
            "_________________________________________________________________\n"
          ]
        }
      ]
    },
    {
      "cell_type": "code",
      "source": [
        "plot_model(model)"
      ],
      "metadata": {
        "colab": {
          "base_uri": "https://localhost:8080/",
          "height": 272
        },
        "id": "U8g3oIYPVj7O",
        "outputId": "21fc08c5-0de4-4cbc-a9ae-f14889d71f1b"
      },
      "execution_count": 16,
      "outputs": [
        {
          "output_type": "execute_result",
          "data": {
            "image/png": "[encoded data removed]",
            "text/plain": [
              "<IPython.core.display.Image object>"
            ]
          },
          "metadata": {},
          "execution_count": 16
        }
      ]
    },
    {
      "cell_type": "code",
      "source": [
        "model.layers[0].get_weights()"
      ],
      "metadata": {
        "colab": {
          "base_uri": "https://localhost:8080/"
        },
        "id": "vcmaPWlMWISa",
        "outputId": "f841520e-7607-489b-d24d-aa0120593b7a"
      },
      "execution_count": 17,
      "outputs": [
        {
          "output_type": "execute_result",
          "data": {
            "text/plain": [
              "[array([[ 0.38655418, -0.48544082,  0.0634135 ,  0.01550025,  0.25886124,\n",
              "          0.12837422,  0.04626513, -0.37849185, -0.52955323,  0.3690843 ],\n",
              "        [ 0.4674304 , -0.5633329 , -0.02278441, -0.14561349,  0.18540919,\n",
              "          0.13614744,  0.62863404,  0.21306276, -0.63770574,  0.39806718]],\n",
              "       dtype=float32),\n",
              " array([0., 0., 0., 0., 0., 0., 0., 0., 0., 0.], dtype=float32)]"
            ]
          },
          "metadata": {},
          "execution_count": 17
        }
      ]
    },
    {
      "cell_type": "code",
      "source": [
        "model.compile(optimizer=\"sgd\",loss=\"binary_crossentropy\",metrics=[\"accuracy\"])"
      ],
      "metadata": {
        "id": "T2UY01fWWi7v"
      },
      "execution_count": 18,
      "outputs": []
    },
    {
      "cell_type": "code",
      "source": [
        "history = model.fit(x_train,y_train,batch_size=1,epochs=25,validation_split=0.2)"
      ],
      "metadata": {
        "colab": {
          "base_uri": "https://localhost:8080/"
        },
        "id": "UoPiSBQQW_vX",
        "outputId": "51374a36-6d48-48c0-bee2-fbcfb727eb68"
      },
      "execution_count": 19,
      "outputs": [
        {
          "output_type": "stream",
          "name": "stdout",
          "text": [
            "Epoch 1/25\n",
            "64/64 [==============================] - 2s 17ms/step - loss: 0.6397 - accuracy: 0.7031 - val_loss: 0.6204 - val_accuracy: 0.7500\n",
            "Epoch 2/25\n",
            "64/64 [==============================] - 0s 8ms/step - loss: 0.6269 - accuracy: 0.7344 - val_loss: 0.6078 - val_accuracy: 0.7500\n",
            "Epoch 3/25\n",
            "64/64 [==============================] - 1s 10ms/step - loss: 0.6146 - accuracy: 0.7344 - val_loss: 0.5902 - val_accuracy: 0.7500\n",
            "Epoch 4/25\n",
            "64/64 [==============================] - 0s 7ms/step - loss: 0.6038 - accuracy: 0.7656 - val_loss: 0.5753 - val_accuracy: 0.7500\n",
            "Epoch 5/25\n",
            "64/64 [==============================] - 0s 7ms/step - loss: 0.5926 - accuracy: 0.7656 - val_loss: 0.5605 - val_accuracy: 0.8125\n",
            "Epoch 6/25\n",
            "64/64 [==============================] - 0s 7ms/step - loss: 0.5819 - accuracy: 0.7812 - val_loss: 0.5422 - val_accuracy: 0.8125\n",
            "Epoch 7/25\n",
            "64/64 [==============================] - 0s 6ms/step - loss: 0.5714 - accuracy: 0.8125 - val_loss: 0.5257 - val_accuracy: 0.8750\n",
            "Epoch 8/25\n",
            "64/64 [==============================] - 1s 10ms/step - loss: 0.5611 - accuracy: 0.7812 - val_loss: 0.5090 - val_accuracy: 0.8750\n",
            "Epoch 9/25\n",
            "64/64 [==============================] - 1s 9ms/step - loss: 0.5509 - accuracy: 0.8125 - val_loss: 0.4924 - val_accuracy: 0.8750\n",
            "Epoch 10/25\n",
            "64/64 [==============================] - 1s 9ms/step - loss: 0.5413 - accuracy: 0.7969 - val_loss: 0.4770 - val_accuracy: 0.8750\n",
            "Epoch 11/25\n",
            "64/64 [==============================] - 1s 9ms/step - loss: 0.5318 - accuracy: 0.8125 - val_loss: 0.4607 - val_accuracy: 0.8750\n",
            "Epoch 12/25\n",
            "64/64 [==============================] - 1s 8ms/step - loss: 0.5225 - accuracy: 0.8125 - val_loss: 0.4469 - val_accuracy: 0.8750\n",
            "Epoch 13/25\n",
            "64/64 [==============================] - 1s 9ms/step - loss: 0.5137 - accuracy: 0.8281 - val_loss: 0.4316 - val_accuracy: 0.8750\n",
            "Epoch 14/25\n",
            "64/64 [==============================] - 0s 7ms/step - loss: 0.5043 - accuracy: 0.7812 - val_loss: 0.4208 - val_accuracy: 0.8750\n",
            "Epoch 15/25\n",
            "64/64 [==============================] - 1s 9ms/step - loss: 0.4971 - accuracy: 0.8125 - val_loss: 0.4064 - val_accuracy: 0.9375\n",
            "Epoch 16/25\n",
            "64/64 [==============================] - 0s 5ms/step - loss: 0.4894 - accuracy: 0.8281 - val_loss: 0.3927 - val_accuracy: 1.0000\n",
            "Epoch 17/25\n",
            "64/64 [==============================] - 0s 4ms/step - loss: 0.4817 - accuracy: 0.7969 - val_loss: 0.3772 - val_accuracy: 1.0000\n",
            "Epoch 18/25\n",
            "64/64 [==============================] - 0s 5ms/step - loss: 0.4747 - accuracy: 0.8281 - val_loss: 0.3653 - val_accuracy: 1.0000\n",
            "Epoch 19/25\n",
            "64/64 [==============================] - 0s 3ms/step - loss: 0.4669 - accuracy: 0.8281 - val_loss: 0.3567 - val_accuracy: 1.0000\n",
            "Epoch 20/25\n",
            "64/64 [==============================] - 0s 4ms/step - loss: 0.4621 - accuracy: 0.8438 - val_loss: 0.3448 - val_accuracy: 1.0000\n",
            "Epoch 21/25\n",
            "64/64 [==============================] - 0s 3ms/step - loss: 0.4561 - accuracy: 0.8125 - val_loss: 0.3321 - val_accuracy: 1.0000\n",
            "Epoch 22/25\n",
            "64/64 [==============================] - 0s 5ms/step - loss: 0.4504 - accuracy: 0.8125 - val_loss: 0.3215 - val_accuracy: 1.0000\n",
            "Epoch 23/25\n",
            "64/64 [==============================] - 0s 4ms/step - loss: 0.4452 - accuracy: 0.8125 - val_loss: 0.3114 - val_accuracy: 1.0000\n",
            "Epoch 24/25\n",
            "64/64 [==============================] - 0s 5ms/step - loss: 0.4401 - accuracy: 0.8125 - val_loss: 0.3014 - val_accuracy: 1.0000\n",
            "Epoch 25/25\n",
            "64/64 [==============================] - 0s 5ms/step - loss: 0.4355 - accuracy: 0.8125 - val_loss: 0.2925 - val_accuracy: 1.0000\n"
          ]
        }
      ]
    },
    {
      "cell_type": "code",
      "source": [
        "predict = np.where(model.predict(x_test)>0.5,1,0)"
      ],
      "metadata": {
        "colab": {
          "base_uri": "https://localhost:8080/"
        },
        "id": "ZwdEviK9XGa7",
        "outputId": "86eb27cb-b1dc-466c-d909-71ed8b60aada"
      },
      "execution_count": 20,
      "outputs": [
        {
          "output_type": "stream",
          "name": "stdout",
          "text": [
            "1/1 [==============================] - 0s 245ms/step\n"
          ]
        }
      ]
    },
    {
      "cell_type": "code",
      "source": [
        "accuracy_score(y_test,predict)"
      ],
      "metadata": {
        "colab": {
          "base_uri": "https://localhost:8080/"
        },
        "id": "oMiL0SkmXeXf",
        "outputId": "1af43b3b-23f5-4430-d3ba-de765ca19b60"
      },
      "execution_count": 21,
      "outputs": [
        {
          "output_type": "execute_result",
          "data": {
            "text/plain": [
              "0.8"
            ]
          },
          "metadata": {},
          "execution_count": 21
        }
      ]
    },
    {
      "cell_type": "code",
      "source": [
        "plot_decision_regions(x_train,y_train.values,clf=model,legend=2)"
      ],
      "metadata": {
        "id": "wPgV49SyXixg",
        "colab": {
          "base_uri": "https://localhost:8080/",
          "height": 465
        },
        "outputId": "ac390b3f-75ad-44fb-920a-bea0dbc76ded"
      },
      "execution_count": 22,
      "outputs": [
        {
          "output_type": "stream",
          "name": "stdout",
          "text": [
            "9600/9600 [==============================] - 15s 2ms/step\n"
          ]
        },
        {
          "output_type": "execute_result",
          "data": {
            "text/plain": [
              "<Axes: >"
            ]
          },
          "metadata": {},
          "execution_count": 22
        },
        {
          "output_type": "display_data",
          "data": {
            "text/plain": [
              "<Figure size 640x480 with 1 Axes>"
            ],
            "image/png": "[encoded data removed]"
          },
          "metadata": {}
        }
      ]
    },
    {
      "cell_type": "code",
      "source": [
        "plot_decision_regions(x_test,y_test.values,clf=model,legend=2)"
      ],
      "metadata": {
        "colab": {
          "base_uri": "https://localhost:8080/",
          "height": 465
        },
        "id": "ZI491vM4gx8z",
        "outputId": "b59a3b6b-aa89-444d-fb42-4b24da6b7045"
      },
      "execution_count": 23,
      "outputs": [
        {
          "output_type": "stream",
          "name": "stdout",
          "text": [
            "9600/9600 [==============================] - 14s 1ms/step\n"
          ]
        },
        {
          "output_type": "execute_result",
          "data": {
            "text/plain": [
              "<Axes: >"
            ]
          },
          "metadata": {},
          "execution_count": 23
        },
        {
          "output_type": "display_data",
          "data": {
            "text/plain": [
              "<Figure size 640x480 with 1 Axes>"
            ],
            "image/png": "[encoded data removed]"
          },
          "metadata": {}
        }
      ]
    },
    {
      "cell_type": "code",
      "source": [],
      "metadata": {
        "id": "ZfS-t1fkhLIy"
      },
      "execution_count": 23,
      "outputs": []
    }
  ]
}